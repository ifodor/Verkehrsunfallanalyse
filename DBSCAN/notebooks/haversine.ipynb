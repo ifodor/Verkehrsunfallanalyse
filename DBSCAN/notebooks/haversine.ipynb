{
 "cells": [
  {
   "cell_type": "code",
   "execution_count": 4,
   "id": "1ddf1b38-257b-4bc7-b5f4-75dd013e7cdc",
   "metadata": {},
   "outputs": [
    {
     "data": {
      "application/vnd.jupyter.widget-view+json": {
       "model_id": "cb542917758d4576a3333819267ff11b",
       "version_major": 2,
       "version_minor": 0
      },
      "text/plain": [
       "Batch 1/501:   0%|          | 0/100 [00:00<?, ?it/s]"
      ]
     },
     "metadata": {},
     "output_type": "display_data"
    },
    {
     "data": {
      "application/vnd.jupyter.widget-view+json": {
       "model_id": "f5e679ec7ab442019504a911a9842497",
       "version_major": 2,
       "version_minor": 0
      },
      "text/plain": [
       "Batch 2/501:   0%|          | 0/100 [00:00<?, ?it/s]"
      ]
     },
     "metadata": {},
     "output_type": "display_data"
    },
    {
     "data": {
      "application/vnd.jupyter.widget-view+json": {
       "model_id": "0de79387b0524cafaff8ced734c22658",
       "version_major": 2,
       "version_minor": 0
      },
      "text/plain": [
       "Batch 3/501:   0%|          | 0/100 [00:00<?, ?it/s]"
      ]
     },
     "metadata": {},
     "output_type": "display_data"
    },
    {
     "data": {
      "application/vnd.jupyter.widget-view+json": {
       "model_id": "1af685ad20cd40b190fec45813a3a669",
       "version_major": 2,
       "version_minor": 0
      },
      "text/plain": [
       "Batch 4/501:   0%|          | 0/100 [00:00<?, ?it/s]"
      ]
     },
     "metadata": {},
     "output_type": "display_data"
    },
    {
     "data": {
      "application/vnd.jupyter.widget-view+json": {
       "model_id": "028c39311c3c4fa0b327fed82d334df6",
       "version_major": 2,
       "version_minor": 0
      },
      "text/plain": [
       "Batch 5/501:   0%|          | 0/100 [00:00<?, ?it/s]"
      ]
     },
     "metadata": {},
     "output_type": "display_data"
    },
    {
     "data": {
      "application/vnd.jupyter.widget-view+json": {
       "model_id": "6b7db15c25fd4e7eade1848b4435e9a5",
       "version_major": 2,
       "version_minor": 0
      },
      "text/plain": [
       "Batch 6/501:   0%|          | 0/100 [00:00<?, ?it/s]"
      ]
     },
     "metadata": {},
     "output_type": "display_data"
    },
    {
     "data": {
      "application/vnd.jupyter.widget-view+json": {
       "model_id": "0b0d86c7110344e39b6439dfd5e73be1",
       "version_major": 2,
       "version_minor": 0
      },
      "text/plain": [
       "Batch 7/501:   0%|          | 0/100 [00:00<?, ?it/s]"
      ]
     },
     "metadata": {},
     "output_type": "display_data"
    },
    {
     "data": {
      "application/vnd.jupyter.widget-view+json": {
       "model_id": "ad58e03c05444d158e8555322f0e2985",
       "version_major": 2,
       "version_minor": 0
      },
      "text/plain": [
       "Batch 8/501:   0%|          | 0/100 [00:00<?, ?it/s]"
      ]
     },
     "metadata": {},
     "output_type": "display_data"
    },
    {
     "data": {
      "application/vnd.jupyter.widget-view+json": {
       "model_id": "e104a23f2bb744518017ee8adfad4c9d",
       "version_major": 2,
       "version_minor": 0
      },
      "text/plain": [
       "Batch 9/501:   0%|          | 0/100 [00:00<?, ?it/s]"
      ]
     },
     "metadata": {},
     "output_type": "display_data"
    },
    {
     "data": {
      "application/vnd.jupyter.widget-view+json": {
       "model_id": "d6a82f8b01e347afa4a892b9b7813a16",
       "version_major": 2,
       "version_minor": 0
      },
      "text/plain": [
       "Batch 10/501:   0%|          | 0/100 [00:00<?, ?it/s]"
      ]
     },
     "metadata": {},
     "output_type": "display_data"
    },
    {
     "data": {
      "application/vnd.jupyter.widget-view+json": {
       "model_id": "adcb2002078e4ab38ff5077c8a8449b8",
       "version_major": 2,
       "version_minor": 0
      },
      "text/plain": [
       "Batch 11/501:   0%|          | 0/100 [00:00<?, ?it/s]"
      ]
     },
     "metadata": {},
     "output_type": "display_data"
    },
    {
     "data": {
      "application/vnd.jupyter.widget-view+json": {
       "model_id": "1efe429821944c1a96c94e0b4794bb9d",
       "version_major": 2,
       "version_minor": 0
      },
      "text/plain": [
       "Batch 12/501:   0%|          | 0/100 [00:00<?, ?it/s]"
      ]
     },
     "metadata": {},
     "output_type": "display_data"
    },
    {
     "data": {
      "application/vnd.jupyter.widget-view+json": {
       "model_id": "24ecc856532a4caaa502fd271e18047e",
       "version_major": 2,
       "version_minor": 0
      },
      "text/plain": [
       "Batch 13/501:   0%|          | 0/100 [00:00<?, ?it/s]"
      ]
     },
     "metadata": {},
     "output_type": "display_data"
    },
    {
     "data": {
      "application/vnd.jupyter.widget-view+json": {
       "model_id": "3fb3163ffd304ae3965ae251fea521fe",
       "version_major": 2,
       "version_minor": 0
      },
      "text/plain": [
       "Batch 14/501:   0%|          | 0/100 [00:00<?, ?it/s]"
      ]
     },
     "metadata": {},
     "output_type": "display_data"
    },
    {
     "data": {
      "application/vnd.jupyter.widget-view+json": {
       "model_id": "d6d6094708ce411c8992c5f4c9656c3b",
       "version_major": 2,
       "version_minor": 0
      },
      "text/plain": [
       "Batch 15/501:   0%|          | 0/100 [00:00<?, ?it/s]"
      ]
     },
     "metadata": {},
     "output_type": "display_data"
    },
    {
     "data": {
      "application/vnd.jupyter.widget-view+json": {
       "model_id": "a295ec0d59584ab89405c9083f0e1b52",
       "version_major": 2,
       "version_minor": 0
      },
      "text/plain": [
       "Batch 16/501:   0%|          | 0/100 [00:00<?, ?it/s]"
      ]
     },
     "metadata": {},
     "output_type": "display_data"
    },
    {
     "data": {
      "application/vnd.jupyter.widget-view+json": {
       "model_id": "a839affb05ee40a6b2433c31bbb0dfc7",
       "version_major": 2,
       "version_minor": 0
      },
      "text/plain": [
       "Batch 17/501:   0%|          | 0/100 [00:00<?, ?it/s]"
      ]
     },
     "metadata": {},
     "output_type": "display_data"
    },
    {
     "data": {
      "application/vnd.jupyter.widget-view+json": {
       "model_id": "6792334467cf4d73bf1e292ee6b3f663",
       "version_major": 2,
       "version_minor": 0
      },
      "text/plain": [
       "Batch 18/501:   0%|          | 0/100 [00:00<?, ?it/s]"
      ]
     },
     "metadata": {},
     "output_type": "display_data"
    },
    {
     "data": {
      "application/vnd.jupyter.widget-view+json": {
       "model_id": "ee4e28a641034248aed65cfd124adfd2",
       "version_major": 2,
       "version_minor": 0
      },
      "text/plain": [
       "Batch 19/501:   0%|          | 0/100 [00:00<?, ?it/s]"
      ]
     },
     "metadata": {},
     "output_type": "display_data"
    },
    {
     "data": {
      "application/vnd.jupyter.widget-view+json": {
       "model_id": "671d34e6a1514637953ed594d44e7d0e",
       "version_major": 2,
       "version_minor": 0
      },
      "text/plain": [
       "Batch 20/501:   0%|          | 0/100 [00:00<?, ?it/s]"
      ]
     },
     "metadata": {},
     "output_type": "display_data"
    },
    {
     "data": {
      "application/vnd.jupyter.widget-view+json": {
       "model_id": "c31863227d7944c1b8047f871cfa81d5",
       "version_major": 2,
       "version_minor": 0
      },
      "text/plain": [
       "Batch 21/501:   0%|          | 0/100 [00:00<?, ?it/s]"
      ]
     },
     "metadata": {},
     "output_type": "display_data"
    },
    {
     "data": {
      "application/vnd.jupyter.widget-view+json": {
       "model_id": "6908cc25e1ad458085deff9eac18d52b",
       "version_major": 2,
       "version_minor": 0
      },
      "text/plain": [
       "Batch 22/501:   0%|          | 0/100 [00:00<?, ?it/s]"
      ]
     },
     "metadata": {},
     "output_type": "display_data"
    },
    {
     "data": {
      "application/vnd.jupyter.widget-view+json": {
       "model_id": "86407b5500aa4fc1abb2f020e99b6b4b",
       "version_major": 2,
       "version_minor": 0
      },
      "text/plain": [
       "Batch 23/501:   0%|          | 0/100 [00:00<?, ?it/s]"
      ]
     },
     "metadata": {},
     "output_type": "display_data"
    },
    {
     "data": {
      "application/vnd.jupyter.widget-view+json": {
       "model_id": "665d5730ce0044e394122085ca3e3c6a",
       "version_major": 2,
       "version_minor": 0
      },
      "text/plain": [
       "Batch 24/501:   0%|          | 0/100 [00:00<?, ?it/s]"
      ]
     },
     "metadata": {},
     "output_type": "display_data"
    },
    {
     "data": {
      "application/vnd.jupyter.widget-view+json": {
       "model_id": "6fe889d0e6ea4e09ac8e92c5c645d757",
       "version_major": 2,
       "version_minor": 0
      },
      "text/plain": [
       "Batch 25/501:   0%|          | 0/100 [00:00<?, ?it/s]"
      ]
     },
     "metadata": {},
     "output_type": "display_data"
    },
    {
     "data": {
      "application/vnd.jupyter.widget-view+json": {
       "model_id": "3f0d91c72a564507ba03c842565175d1",
       "version_major": 2,
       "version_minor": 0
      },
      "text/plain": [
       "Batch 26/501:   0%|          | 0/100 [00:00<?, ?it/s]"
      ]
     },
     "metadata": {},
     "output_type": "display_data"
    },
    {
     "data": {
      "application/vnd.jupyter.widget-view+json": {
       "model_id": "074d03f1cefd458bacd08353f795e898",
       "version_major": 2,
       "version_minor": 0
      },
      "text/plain": [
       "Batch 27/501:   0%|          | 0/100 [00:00<?, ?it/s]"
      ]
     },
     "metadata": {},
     "output_type": "display_data"
    },
    {
     "data": {
      "application/vnd.jupyter.widget-view+json": {
       "model_id": "e0e0fbe66e37440b9556d1cdc8be9658",
       "version_major": 2,
       "version_minor": 0
      },
      "text/plain": [
       "Batch 28/501:   0%|          | 0/100 [00:00<?, ?it/s]"
      ]
     },
     "metadata": {},
     "output_type": "display_data"
    },
    {
     "data": {
      "application/vnd.jupyter.widget-view+json": {
       "model_id": "2328072f1ee14d05a289fbe8a9a416ce",
       "version_major": 2,
       "version_minor": 0
      },
      "text/plain": [
       "Batch 29/501:   0%|          | 0/100 [00:00<?, ?it/s]"
      ]
     },
     "metadata": {},
     "output_type": "display_data"
    },
    {
     "data": {
      "application/vnd.jupyter.widget-view+json": {
       "model_id": "fe8fc653c23743d69fef064e0e89e410",
       "version_major": 2,
       "version_minor": 0
      },
      "text/plain": [
       "Batch 30/501:   0%|          | 0/100 [00:00<?, ?it/s]"
      ]
     },
     "metadata": {},
     "output_type": "display_data"
    },
    {
     "data": {
      "application/vnd.jupyter.widget-view+json": {
       "model_id": "37c2cf7d98664cd6ba9547511e9b607c",
       "version_major": 2,
       "version_minor": 0
      },
      "text/plain": [
       "Batch 31/501:   0%|          | 0/100 [00:00<?, ?it/s]"
      ]
     },
     "metadata": {},
     "output_type": "display_data"
    },
    {
     "data": {
      "application/vnd.jupyter.widget-view+json": {
       "model_id": "d32198c25df24ea8a2a805ea2db543af",
       "version_major": 2,
       "version_minor": 0
      },
      "text/plain": [
       "Batch 32/501:   0%|          | 0/100 [00:00<?, ?it/s]"
      ]
     },
     "metadata": {},
     "output_type": "display_data"
    },
    {
     "data": {
      "application/vnd.jupyter.widget-view+json": {
       "model_id": "128aa27531cb4bb3b5f2153340ae0b5c",
       "version_major": 2,
       "version_minor": 0
      },
      "text/plain": [
       "Batch 33/501:   0%|          | 0/100 [00:00<?, ?it/s]"
      ]
     },
     "metadata": {},
     "output_type": "display_data"
    },
    {
     "data": {
      "application/vnd.jupyter.widget-view+json": {
       "model_id": "bab3b4a9286343c88e0432978328a080",
       "version_major": 2,
       "version_minor": 0
      },
      "text/plain": [
       "Batch 34/501:   0%|          | 0/100 [00:00<?, ?it/s]"
      ]
     },
     "metadata": {},
     "output_type": "display_data"
    },
    {
     "data": {
      "application/vnd.jupyter.widget-view+json": {
       "model_id": "faa8b722caa54238a367534497982f2f",
       "version_major": 2,
       "version_minor": 0
      },
      "text/plain": [
       "Batch 35/501:   0%|          | 0/100 [00:00<?, ?it/s]"
      ]
     },
     "metadata": {},
     "output_type": "display_data"
    },
    {
     "data": {
      "application/vnd.jupyter.widget-view+json": {
       "model_id": "0754b1125d0e49aa9812a281a78dcdc2",
       "version_major": 2,
       "version_minor": 0
      },
      "text/plain": [
       "Batch 36/501:   0%|          | 0/100 [00:00<?, ?it/s]"
      ]
     },
     "metadata": {},
     "output_type": "display_data"
    },
    {
     "data": {
      "application/vnd.jupyter.widget-view+json": {
       "model_id": "c3d2a1eb646045209c1977b0788bd93c",
       "version_major": 2,
       "version_minor": 0
      },
      "text/plain": [
       "Batch 37/501:   0%|          | 0/100 [00:00<?, ?it/s]"
      ]
     },
     "metadata": {},
     "output_type": "display_data"
    },
    {
     "data": {
      "application/vnd.jupyter.widget-view+json": {
       "model_id": "3aaad563fffa478c8946e665421223b5",
       "version_major": 2,
       "version_minor": 0
      },
      "text/plain": [
       "Batch 38/501:   0%|          | 0/100 [00:00<?, ?it/s]"
      ]
     },
     "metadata": {},
     "output_type": "display_data"
    },
    {
     "data": {
      "application/vnd.jupyter.widget-view+json": {
       "model_id": "9d4d90e6a78c4a6fac47e8a410e82526",
       "version_major": 2,
       "version_minor": 0
      },
      "text/plain": [
       "Batch 39/501:   0%|          | 0/100 [00:00<?, ?it/s]"
      ]
     },
     "metadata": {},
     "output_type": "display_data"
    },
    {
     "data": {
      "application/vnd.jupyter.widget-view+json": {
       "model_id": "a9ee564ec38c43beabab1baf231f89bf",
       "version_major": 2,
       "version_minor": 0
      },
      "text/plain": [
       "Batch 40/501:   0%|          | 0/100 [00:00<?, ?it/s]"
      ]
     },
     "metadata": {},
     "output_type": "display_data"
    },
    {
     "data": {
      "application/vnd.jupyter.widget-view+json": {
       "model_id": "f46978d7b66b4c9985462c8a1d1eabed",
       "version_major": 2,
       "version_minor": 0
      },
      "text/plain": [
       "Batch 41/501:   0%|          | 0/100 [00:00<?, ?it/s]"
      ]
     },
     "metadata": {},
     "output_type": "display_data"
    },
    {
     "data": {
      "application/vnd.jupyter.widget-view+json": {
       "model_id": "8ed822ab44524c8aba26092982cadd03",
       "version_major": 2,
       "version_minor": 0
      },
      "text/plain": [
       "Batch 42/501:   0%|          | 0/100 [00:00<?, ?it/s]"
      ]
     },
     "metadata": {},
     "output_type": "display_data"
    },
    {
     "data": {
      "application/vnd.jupyter.widget-view+json": {
       "model_id": "1c9b11178dfa41aea330c1da29e178f3",
       "version_major": 2,
       "version_minor": 0
      },
      "text/plain": [
       "Batch 43/501:   0%|          | 0/100 [00:00<?, ?it/s]"
      ]
     },
     "metadata": {},
     "output_type": "display_data"
    },
    {
     "data": {
      "application/vnd.jupyter.widget-view+json": {
       "model_id": "364dcd352b974ccb94079ac0b6051e55",
       "version_major": 2,
       "version_minor": 0
      },
      "text/plain": [
       "Batch 44/501:   0%|          | 0/100 [00:00<?, ?it/s]"
      ]
     },
     "metadata": {},
     "output_type": "display_data"
    },
    {
     "data": {
      "application/vnd.jupyter.widget-view+json": {
       "model_id": "a27290a4bedf4ce795986dc353e7948e",
       "version_major": 2,
       "version_minor": 0
      },
      "text/plain": [
       "Batch 45/501:   0%|          | 0/100 [00:00<?, ?it/s]"
      ]
     },
     "metadata": {},
     "output_type": "display_data"
    },
    {
     "data": {
      "application/vnd.jupyter.widget-view+json": {
       "model_id": "d03644d2012a41db8ece84a805bc794d",
       "version_major": 2,
       "version_minor": 0
      },
      "text/plain": [
       "Batch 46/501:   0%|          | 0/100 [00:00<?, ?it/s]"
      ]
     },
     "metadata": {},
     "output_type": "display_data"
    },
    {
     "data": {
      "application/vnd.jupyter.widget-view+json": {
       "model_id": "9f420be6f9184be1b17747d7a7e55246",
       "version_major": 2,
       "version_minor": 0
      },
      "text/plain": [
       "Batch 47/501:   0%|          | 0/100 [00:00<?, ?it/s]"
      ]
     },
     "metadata": {},
     "output_type": "display_data"
    },
    {
     "data": {
      "application/vnd.jupyter.widget-view+json": {
       "model_id": "78fa96cb92d44397ac9778617ce8681a",
       "version_major": 2,
       "version_minor": 0
      },
      "text/plain": [
       "Batch 48/501:   0%|          | 0/100 [00:00<?, ?it/s]"
      ]
     },
     "metadata": {},
     "output_type": "display_data"
    },
    {
     "data": {
      "application/vnd.jupyter.widget-view+json": {
       "model_id": "b241947e5f8543f6aa2d6460d60d7424",
       "version_major": 2,
       "version_minor": 0
      },
      "text/plain": [
       "Batch 49/501:   0%|          | 0/100 [00:00<?, ?it/s]"
      ]
     },
     "metadata": {},
     "output_type": "display_data"
    },
    {
     "data": {
      "application/vnd.jupyter.widget-view+json": {
       "model_id": "89e24dfc42d646bb9a99f64628102620",
       "version_major": 2,
       "version_minor": 0
      },
      "text/plain": [
       "Batch 50/501:   0%|          | 0/100 [00:00<?, ?it/s]"
      ]
     },
     "metadata": {},
     "output_type": "display_data"
    },
    {
     "data": {
      "application/vnd.jupyter.widget-view+json": {
       "model_id": "b193c1aa683142b89979c088cd497835",
       "version_major": 2,
       "version_minor": 0
      },
      "text/plain": [
       "Batch 51/501:   0%|          | 0/100 [00:00<?, ?it/s]"
      ]
     },
     "metadata": {},
     "output_type": "display_data"
    },
    {
     "data": {
      "application/vnd.jupyter.widget-view+json": {
       "model_id": "0cd53f17386241b1a05f0c1b36df717a",
       "version_major": 2,
       "version_minor": 0
      },
      "text/plain": [
       "Batch 52/501:   0%|          | 0/100 [00:00<?, ?it/s]"
      ]
     },
     "metadata": {},
     "output_type": "display_data"
    },
    {
     "data": {
      "application/vnd.jupyter.widget-view+json": {
       "model_id": "7eaafc381f554ca884d40c6a176d4f28",
       "version_major": 2,
       "version_minor": 0
      },
      "text/plain": [
       "Batch 53/501:   0%|          | 0/100 [00:00<?, ?it/s]"
      ]
     },
     "metadata": {},
     "output_type": "display_data"
    },
    {
     "data": {
      "application/vnd.jupyter.widget-view+json": {
       "model_id": "33c2e7f7e0384c978f1f61fbdcfd9179",
       "version_major": 2,
       "version_minor": 0
      },
      "text/plain": [
       "Batch 54/501:   0%|          | 0/100 [00:00<?, ?it/s]"
      ]
     },
     "metadata": {},
     "output_type": "display_data"
    },
    {
     "data": {
      "application/vnd.jupyter.widget-view+json": {
       "model_id": "fbb6cee29f9943b1bac16be5fb838030",
       "version_major": 2,
       "version_minor": 0
      },
      "text/plain": [
       "Batch 55/501:   0%|          | 0/100 [00:00<?, ?it/s]"
      ]
     },
     "metadata": {},
     "output_type": "display_data"
    },
    {
     "data": {
      "application/vnd.jupyter.widget-view+json": {
       "model_id": "8a58333e5287487e86cbbc1cabd3d63c",
       "version_major": 2,
       "version_minor": 0
      },
      "text/plain": [
       "Batch 56/501:   0%|          | 0/100 [00:00<?, ?it/s]"
      ]
     },
     "metadata": {},
     "output_type": "display_data"
    },
    {
     "data": {
      "application/vnd.jupyter.widget-view+json": {
       "model_id": "d23cd3740e9d4277b89bdf3bfa33f9ed",
       "version_major": 2,
       "version_minor": 0
      },
      "text/plain": [
       "Batch 57/501:   0%|          | 0/100 [00:00<?, ?it/s]"
      ]
     },
     "metadata": {},
     "output_type": "display_data"
    },
    {
     "data": {
      "application/vnd.jupyter.widget-view+json": {
       "model_id": "c4276007b51643dbb137f1e9b7174602",
       "version_major": 2,
       "version_minor": 0
      },
      "text/plain": [
       "Batch 58/501:   0%|          | 0/100 [00:00<?, ?it/s]"
      ]
     },
     "metadata": {},
     "output_type": "display_data"
    },
    {
     "data": {
      "application/vnd.jupyter.widget-view+json": {
       "model_id": "2f7f0dc617fd477e8ac4de4d62231e32",
       "version_major": 2,
       "version_minor": 0
      },
      "text/plain": [
       "Batch 59/501:   0%|          | 0/100 [00:00<?, ?it/s]"
      ]
     },
     "metadata": {},
     "output_type": "display_data"
    },
    {
     "data": {
      "application/vnd.jupyter.widget-view+json": {
       "model_id": "9e5eedce4a12497f8511566231cb224f",
       "version_major": 2,
       "version_minor": 0
      },
      "text/plain": [
       "Batch 60/501:   0%|          | 0/100 [00:00<?, ?it/s]"
      ]
     },
     "metadata": {},
     "output_type": "display_data"
    },
    {
     "data": {
      "application/vnd.jupyter.widget-view+json": {
       "model_id": "ef7b6c6a25524e9ab878d76c47475afa",
       "version_major": 2,
       "version_minor": 0
      },
      "text/plain": [
       "Batch 61/501:   0%|          | 0/100 [00:00<?, ?it/s]"
      ]
     },
     "metadata": {},
     "output_type": "display_data"
    },
    {
     "data": {
      "application/vnd.jupyter.widget-view+json": {
       "model_id": "5721e9cc9ce04f54be6a58d6455d0d70",
       "version_major": 2,
       "version_minor": 0
      },
      "text/plain": [
       "Batch 62/501:   0%|          | 0/100 [00:00<?, ?it/s]"
      ]
     },
     "metadata": {},
     "output_type": "display_data"
    },
    {
     "data": {
      "application/vnd.jupyter.widget-view+json": {
       "model_id": "b712f0e1690d4a2f98f4ad86dab0ddbe",
       "version_major": 2,
       "version_minor": 0
      },
      "text/plain": [
       "Batch 63/501:   0%|          | 0/100 [00:00<?, ?it/s]"
      ]
     },
     "metadata": {},
     "output_type": "display_data"
    },
    {
     "data": {
      "application/vnd.jupyter.widget-view+json": {
       "model_id": "ea3e3bc08a5741c98b5245907df92700",
       "version_major": 2,
       "version_minor": 0
      },
      "text/plain": [
       "Batch 64/501:   0%|          | 0/100 [00:00<?, ?it/s]"
      ]
     },
     "metadata": {},
     "output_type": "display_data"
    },
    {
     "data": {
      "application/vnd.jupyter.widget-view+json": {
       "model_id": "803e7ef16fd84d28b40d3e7df1a7ff57",
       "version_major": 2,
       "version_minor": 0
      },
      "text/plain": [
       "Batch 65/501:   0%|          | 0/100 [00:00<?, ?it/s]"
      ]
     },
     "metadata": {},
     "output_type": "display_data"
    },
    {
     "data": {
      "application/vnd.jupyter.widget-view+json": {
       "model_id": "e75135a9e92f4f4daf66988de68cc4ff",
       "version_major": 2,
       "version_minor": 0
      },
      "text/plain": [
       "Batch 66/501:   0%|          | 0/100 [00:00<?, ?it/s]"
      ]
     },
     "metadata": {},
     "output_type": "display_data"
    },
    {
     "data": {
      "application/vnd.jupyter.widget-view+json": {
       "model_id": "288f2ad60ead4a2e8e8ab72eb1660dd7",
       "version_major": 2,
       "version_minor": 0
      },
      "text/plain": [
       "Batch 67/501:   0%|          | 0/100 [00:00<?, ?it/s]"
      ]
     },
     "metadata": {},
     "output_type": "display_data"
    },
    {
     "data": {
      "application/vnd.jupyter.widget-view+json": {
       "model_id": "ee14318d8ae042249f11b363e3bb6b75",
       "version_major": 2,
       "version_minor": 0
      },
      "text/plain": [
       "Batch 68/501:   0%|          | 0/100 [00:00<?, ?it/s]"
      ]
     },
     "metadata": {},
     "output_type": "display_data"
    },
    {
     "data": {
      "application/vnd.jupyter.widget-view+json": {
       "model_id": "702096d8390a4934b230a627d8666fda",
       "version_major": 2,
       "version_minor": 0
      },
      "text/plain": [
       "Batch 69/501:   0%|          | 0/100 [00:00<?, ?it/s]"
      ]
     },
     "metadata": {},
     "output_type": "display_data"
    },
    {
     "data": {
      "application/vnd.jupyter.widget-view+json": {
       "model_id": "3289823421e14a49ab37cff092088963",
       "version_major": 2,
       "version_minor": 0
      },
      "text/plain": [
       "Batch 70/501:   0%|          | 0/100 [00:00<?, ?it/s]"
      ]
     },
     "metadata": {},
     "output_type": "display_data"
    },
    {
     "data": {
      "application/vnd.jupyter.widget-view+json": {
       "model_id": "36d39f6bf5424bd3af56188e35e3df8f",
       "version_major": 2,
       "version_minor": 0
      },
      "text/plain": [
       "Batch 71/501:   0%|          | 0/100 [00:00<?, ?it/s]"
      ]
     },
     "metadata": {},
     "output_type": "display_data"
    },
    {
     "data": {
      "application/vnd.jupyter.widget-view+json": {
       "model_id": "fbde0bf0b90d479ea5c9201b3270fd01",
       "version_major": 2,
       "version_minor": 0
      },
      "text/plain": [
       "Batch 72/501:   0%|          | 0/100 [00:00<?, ?it/s]"
      ]
     },
     "metadata": {},
     "output_type": "display_data"
    },
    {
     "data": {
      "application/vnd.jupyter.widget-view+json": {
       "model_id": "40d9af19420245c2839c69e086e8f365",
       "version_major": 2,
       "version_minor": 0
      },
      "text/plain": [
       "Batch 73/501:   0%|          | 0/100 [00:00<?, ?it/s]"
      ]
     },
     "metadata": {},
     "output_type": "display_data"
    },
    {
     "data": {
      "application/vnd.jupyter.widget-view+json": {
       "model_id": "7ea044d26c8b40118bae0b3df06d0089",
       "version_major": 2,
       "version_minor": 0
      },
      "text/plain": [
       "Batch 74/501:   0%|          | 0/100 [00:00<?, ?it/s]"
      ]
     },
     "metadata": {},
     "output_type": "display_data"
    },
    {
     "data": {
      "application/vnd.jupyter.widget-view+json": {
       "model_id": "1b2b8afbaccf49aba0a95af8416bfe04",
       "version_major": 2,
       "version_minor": 0
      },
      "text/plain": [
       "Batch 75/501:   0%|          | 0/100 [00:00<?, ?it/s]"
      ]
     },
     "metadata": {},
     "output_type": "display_data"
    },
    {
     "data": {
      "application/vnd.jupyter.widget-view+json": {
       "model_id": "ca2985577bc64410aae472531f1ed993",
       "version_major": 2,
       "version_minor": 0
      },
      "text/plain": [
       "Batch 76/501:   0%|          | 0/100 [00:00<?, ?it/s]"
      ]
     },
     "metadata": {},
     "output_type": "display_data"
    },
    {
     "data": {
      "application/vnd.jupyter.widget-view+json": {
       "model_id": "24ee5d1ef3c84f1fa33ef8e26dadc898",
       "version_major": 2,
       "version_minor": 0
      },
      "text/plain": [
       "Batch 77/501:   0%|          | 0/100 [00:00<?, ?it/s]"
      ]
     },
     "metadata": {},
     "output_type": "display_data"
    },
    {
     "data": {
      "application/vnd.jupyter.widget-view+json": {
       "model_id": "48a708ea87ae47f7a1060877dd081e2e",
       "version_major": 2,
       "version_minor": 0
      },
      "text/plain": [
       "Batch 78/501:   0%|          | 0/100 [00:00<?, ?it/s]"
      ]
     },
     "metadata": {},
     "output_type": "display_data"
    },
    {
     "data": {
      "application/vnd.jupyter.widget-view+json": {
       "model_id": "410c31b527b4405e8393424f142bc846",
       "version_major": 2,
       "version_minor": 0
      },
      "text/plain": [
       "Batch 79/501:   0%|          | 0/100 [00:00<?, ?it/s]"
      ]
     },
     "metadata": {},
     "output_type": "display_data"
    },
    {
     "data": {
      "application/vnd.jupyter.widget-view+json": {
       "model_id": "229008267b694c61b4a26b13d94be1dd",
       "version_major": 2,
       "version_minor": 0
      },
      "text/plain": [
       "Batch 80/501:   0%|          | 0/100 [00:00<?, ?it/s]"
      ]
     },
     "metadata": {},
     "output_type": "display_data"
    },
    {
     "data": {
      "application/vnd.jupyter.widget-view+json": {
       "model_id": "224a928f86b8410a8d33b69464ceba5f",
       "version_major": 2,
       "version_minor": 0
      },
      "text/plain": [
       "Batch 81/501:   0%|          | 0/100 [00:00<?, ?it/s]"
      ]
     },
     "metadata": {},
     "output_type": "display_data"
    },
    {
     "data": {
      "application/vnd.jupyter.widget-view+json": {
       "model_id": "b96878c6fa2b4d4bad4b62ee28ee882a",
       "version_major": 2,
       "version_minor": 0
      },
      "text/plain": [
       "Batch 82/501:   0%|          | 0/100 [00:00<?, ?it/s]"
      ]
     },
     "metadata": {},
     "output_type": "display_data"
    },
    {
     "data": {
      "application/vnd.jupyter.widget-view+json": {
       "model_id": "14ce2e8c9b9c41fe90c8acde4848b9a6",
       "version_major": 2,
       "version_minor": 0
      },
      "text/plain": [
       "Batch 83/501:   0%|          | 0/100 [00:00<?, ?it/s]"
      ]
     },
     "metadata": {},
     "output_type": "display_data"
    },
    {
     "data": {
      "application/vnd.jupyter.widget-view+json": {
       "model_id": "90c10c03dce84ffca71a90b1b8b5a7ca",
       "version_major": 2,
       "version_minor": 0
      },
      "text/plain": [
       "Batch 84/501:   0%|          | 0/100 [00:00<?, ?it/s]"
      ]
     },
     "metadata": {},
     "output_type": "display_data"
    },
    {
     "data": {
      "application/vnd.jupyter.widget-view+json": {
       "model_id": "101529a3022d4fbda125d38a24744919",
       "version_major": 2,
       "version_minor": 0
      },
      "text/plain": [
       "Batch 85/501:   0%|          | 0/100 [00:00<?, ?it/s]"
      ]
     },
     "metadata": {},
     "output_type": "display_data"
    },
    {
     "data": {
      "application/vnd.jupyter.widget-view+json": {
       "model_id": "521a7f72c0844e1fa3a4b4e6ec7e0dde",
       "version_major": 2,
       "version_minor": 0
      },
      "text/plain": [
       "Batch 86/501:   0%|          | 0/100 [00:00<?, ?it/s]"
      ]
     },
     "metadata": {},
     "output_type": "display_data"
    },
    {
     "data": {
      "application/vnd.jupyter.widget-view+json": {
       "model_id": "f1bacac733404829962790fd85a5b732",
       "version_major": 2,
       "version_minor": 0
      },
      "text/plain": [
       "Batch 87/501:   0%|          | 0/100 [00:00<?, ?it/s]"
      ]
     },
     "metadata": {},
     "output_type": "display_data"
    },
    {
     "data": {
      "application/vnd.jupyter.widget-view+json": {
       "model_id": "04c6fd1596fe4b3ebd926d9065760056",
       "version_major": 2,
       "version_minor": 0
      },
      "text/plain": [
       "Batch 88/501:   0%|          | 0/100 [00:00<?, ?it/s]"
      ]
     },
     "metadata": {},
     "output_type": "display_data"
    },
    {
     "data": {
      "application/vnd.jupyter.widget-view+json": {
       "model_id": "ecaca3d1ebf44265be6a89b245abc249",
       "version_major": 2,
       "version_minor": 0
      },
      "text/plain": [
       "Batch 89/501:   0%|          | 0/100 [00:00<?, ?it/s]"
      ]
     },
     "metadata": {},
     "output_type": "display_data"
    },
    {
     "data": {
      "application/vnd.jupyter.widget-view+json": {
       "model_id": "c6a06f420c3f453ab1624fb19d03b1bb",
       "version_major": 2,
       "version_minor": 0
      },
      "text/plain": [
       "Batch 90/501:   0%|          | 0/100 [00:00<?, ?it/s]"
      ]
     },
     "metadata": {},
     "output_type": "display_data"
    },
    {
     "data": {
      "application/vnd.jupyter.widget-view+json": {
       "model_id": "3a6dc6e72155444daf725256e7fe2cc5",
       "version_major": 2,
       "version_minor": 0
      },
      "text/plain": [
       "Batch 91/501:   0%|          | 0/100 [00:00<?, ?it/s]"
      ]
     },
     "metadata": {},
     "output_type": "display_data"
    },
    {
     "data": {
      "application/vnd.jupyter.widget-view+json": {
       "model_id": "c4a180f4ebfa4ca29d169c057e5c7d2a",
       "version_major": 2,
       "version_minor": 0
      },
      "text/plain": [
       "Batch 92/501:   0%|          | 0/100 [00:00<?, ?it/s]"
      ]
     },
     "metadata": {},
     "output_type": "display_data"
    },
    {
     "data": {
      "application/vnd.jupyter.widget-view+json": {
       "model_id": "d8c089610b0a455283444f04274a89e7",
       "version_major": 2,
       "version_minor": 0
      },
      "text/plain": [
       "Batch 93/501:   0%|          | 0/100 [00:00<?, ?it/s]"
      ]
     },
     "metadata": {},
     "output_type": "display_data"
    },
    {
     "data": {
      "application/vnd.jupyter.widget-view+json": {
       "model_id": "4a833568b2604af69dab1a763b5790e8",
       "version_major": 2,
       "version_minor": 0
      },
      "text/plain": [
       "Batch 94/501:   0%|          | 0/100 [00:00<?, ?it/s]"
      ]
     },
     "metadata": {},
     "output_type": "display_data"
    },
    {
     "data": {
      "application/vnd.jupyter.widget-view+json": {
       "model_id": "e3a29e751fdd45cba38a56d8041b3df8",
       "version_major": 2,
       "version_minor": 0
      },
      "text/plain": [
       "Batch 95/501:   0%|          | 0/100 [00:00<?, ?it/s]"
      ]
     },
     "metadata": {},
     "output_type": "display_data"
    },
    {
     "data": {
      "application/vnd.jupyter.widget-view+json": {
       "model_id": "78702bc34bc149c29ed71e81eb11a84d",
       "version_major": 2,
       "version_minor": 0
      },
      "text/plain": [
       "Batch 96/501:   0%|          | 0/100 [00:00<?, ?it/s]"
      ]
     },
     "metadata": {},
     "output_type": "display_data"
    },
    {
     "data": {
      "application/vnd.jupyter.widget-view+json": {
       "model_id": "f5b540aa6e8b4a9cad673d68f487af6f",
       "version_major": 2,
       "version_minor": 0
      },
      "text/plain": [
       "Batch 97/501:   0%|          | 0/100 [00:00<?, ?it/s]"
      ]
     },
     "metadata": {},
     "output_type": "display_data"
    },
    {
     "data": {
      "application/vnd.jupyter.widget-view+json": {
       "model_id": "491b1db0042f45d8882a0fad58969c83",
       "version_major": 2,
       "version_minor": 0
      },
      "text/plain": [
       "Batch 98/501:   0%|          | 0/100 [00:00<?, ?it/s]"
      ]
     },
     "metadata": {},
     "output_type": "display_data"
    },
    {
     "data": {
      "application/vnd.jupyter.widget-view+json": {
       "model_id": "e914b7051cbb44ad809ebed1258c5724",
       "version_major": 2,
       "version_minor": 0
      },
      "text/plain": [
       "Batch 99/501:   0%|          | 0/100 [00:00<?, ?it/s]"
      ]
     },
     "metadata": {},
     "output_type": "display_data"
    },
    {
     "data": {
      "application/vnd.jupyter.widget-view+json": {
       "model_id": "a54250ef8d474b01b1b02e17035f5fdb",
       "version_major": 2,
       "version_minor": 0
      },
      "text/plain": [
       "Batch 100/501:   0%|          | 0/100 [00:00<?, ?it/s]"
      ]
     },
     "metadata": {},
     "output_type": "display_data"
    },
    {
     "data": {
      "application/vnd.jupyter.widget-view+json": {
       "model_id": "fe81ae55dac844d5b493b45b22823c34",
       "version_major": 2,
       "version_minor": 0
      },
      "text/plain": [
       "Batch 101/501:   0%|          | 0/100 [00:00<?, ?it/s]"
      ]
     },
     "metadata": {},
     "output_type": "display_data"
    },
    {
     "data": {
      "application/vnd.jupyter.widget-view+json": {
       "model_id": "8ab5d9991abc48b39ae4804dc3232b36",
       "version_major": 2,
       "version_minor": 0
      },
      "text/plain": [
       "Batch 102/501:   0%|          | 0/100 [00:00<?, ?it/s]"
      ]
     },
     "metadata": {},
     "output_type": "display_data"
    },
    {
     "data": {
      "application/vnd.jupyter.widget-view+json": {
       "model_id": "8361d3461d3940419b4534f50941c613",
       "version_major": 2,
       "version_minor": 0
      },
      "text/plain": [
       "Batch 103/501:   0%|          | 0/100 [00:00<?, ?it/s]"
      ]
     },
     "metadata": {},
     "output_type": "display_data"
    },
    {
     "data": {
      "application/vnd.jupyter.widget-view+json": {
       "model_id": "4c758086491847e3a462eb1d1d505022",
       "version_major": 2,
       "version_minor": 0
      },
      "text/plain": [
       "Batch 104/501:   0%|          | 0/100 [00:00<?, ?it/s]"
      ]
     },
     "metadata": {},
     "output_type": "display_data"
    },
    {
     "data": {
      "application/vnd.jupyter.widget-view+json": {
       "model_id": "46f3cf457555452c84b87ac9f6fa8a1f",
       "version_major": 2,
       "version_minor": 0
      },
      "text/plain": [
       "Batch 105/501:   0%|          | 0/100 [00:00<?, ?it/s]"
      ]
     },
     "metadata": {},
     "output_type": "display_data"
    },
    {
     "data": {
      "application/vnd.jupyter.widget-view+json": {
       "model_id": "30ae1af7dbe341cea1f0e66ee8fd569f",
       "version_major": 2,
       "version_minor": 0
      },
      "text/plain": [
       "Batch 106/501:   0%|          | 0/100 [00:00<?, ?it/s]"
      ]
     },
     "metadata": {},
     "output_type": "display_data"
    },
    {
     "data": {
      "application/vnd.jupyter.widget-view+json": {
       "model_id": "4f4011bf23334e37a3155178458482e5",
       "version_major": 2,
       "version_minor": 0
      },
      "text/plain": [
       "Batch 107/501:   0%|          | 0/100 [00:00<?, ?it/s]"
      ]
     },
     "metadata": {},
     "output_type": "display_data"
    },
    {
     "data": {
      "application/vnd.jupyter.widget-view+json": {
       "model_id": "55cf7949a9db49d3a670e77f3841859b",
       "version_major": 2,
       "version_minor": 0
      },
      "text/plain": [
       "Batch 108/501:   0%|          | 0/100 [00:00<?, ?it/s]"
      ]
     },
     "metadata": {},
     "output_type": "display_data"
    },
    {
     "data": {
      "application/vnd.jupyter.widget-view+json": {
       "model_id": "37cd6a1ede14455a96bc99bd0574b01d",
       "version_major": 2,
       "version_minor": 0
      },
      "text/plain": [
       "Batch 109/501:   0%|          | 0/100 [00:00<?, ?it/s]"
      ]
     },
     "metadata": {},
     "output_type": "display_data"
    },
    {
     "data": {
      "application/vnd.jupyter.widget-view+json": {
       "model_id": "8d85d18614034f0a9417e0f7128ea710",
       "version_major": 2,
       "version_minor": 0
      },
      "text/plain": [
       "Batch 110/501:   0%|          | 0/100 [00:00<?, ?it/s]"
      ]
     },
     "metadata": {},
     "output_type": "display_data"
    },
    {
     "data": {
      "application/vnd.jupyter.widget-view+json": {
       "model_id": "dd9050a933f64bdb8b5c1076ca2b861c",
       "version_major": 2,
       "version_minor": 0
      },
      "text/plain": [
       "Batch 111/501:   0%|          | 0/100 [00:00<?, ?it/s]"
      ]
     },
     "metadata": {},
     "output_type": "display_data"
    },
    {
     "data": {
      "application/vnd.jupyter.widget-view+json": {
       "model_id": "621c645acde6475784aa8744776bacc3",
       "version_major": 2,
       "version_minor": 0
      },
      "text/plain": [
       "Batch 112/501:   0%|          | 0/100 [00:00<?, ?it/s]"
      ]
     },
     "metadata": {},
     "output_type": "display_data"
    },
    {
     "data": {
      "application/vnd.jupyter.widget-view+json": {
       "model_id": "980ac3ee467149b7a69200a28c6c2fb5",
       "version_major": 2,
       "version_minor": 0
      },
      "text/plain": [
       "Batch 113/501:   0%|          | 0/100 [00:00<?, ?it/s]"
      ]
     },
     "metadata": {},
     "output_type": "display_data"
    },
    {
     "data": {
      "application/vnd.jupyter.widget-view+json": {
       "model_id": "b391da500b2141e4b95c63c8e8569186",
       "version_major": 2,
       "version_minor": 0
      },
      "text/plain": [
       "Batch 114/501:   0%|          | 0/100 [00:00<?, ?it/s]"
      ]
     },
     "metadata": {},
     "output_type": "display_data"
    },
    {
     "data": {
      "application/vnd.jupyter.widget-view+json": {
       "model_id": "06390eaa5f1446238a1b618425148c15",
       "version_major": 2,
       "version_minor": 0
      },
      "text/plain": [
       "Batch 115/501:   0%|          | 0/100 [00:00<?, ?it/s]"
      ]
     },
     "metadata": {},
     "output_type": "display_data"
    },
    {
     "data": {
      "application/vnd.jupyter.widget-view+json": {
       "model_id": "3d4245890941444590ee561011bb6f33",
       "version_major": 2,
       "version_minor": 0
      },
      "text/plain": [
       "Batch 116/501:   0%|          | 0/100 [00:00<?, ?it/s]"
      ]
     },
     "metadata": {},
     "output_type": "display_data"
    },
    {
     "data": {
      "application/vnd.jupyter.widget-view+json": {
       "model_id": "a36eaac9fdd64d7da9cbd8e2965370f6",
       "version_major": 2,
       "version_minor": 0
      },
      "text/plain": [
       "Batch 117/501:   0%|          | 0/100 [00:00<?, ?it/s]"
      ]
     },
     "metadata": {},
     "output_type": "display_data"
    },
    {
     "data": {
      "application/vnd.jupyter.widget-view+json": {
       "model_id": "224feb44d0794a61b54870bd9d8327b9",
       "version_major": 2,
       "version_minor": 0
      },
      "text/plain": [
       "Batch 118/501:   0%|          | 0/100 [00:00<?, ?it/s]"
      ]
     },
     "metadata": {},
     "output_type": "display_data"
    },
    {
     "data": {
      "application/vnd.jupyter.widget-view+json": {
       "model_id": "8d940a50db9848138ad1445299b0314f",
       "version_major": 2,
       "version_minor": 0
      },
      "text/plain": [
       "Batch 119/501:   0%|          | 0/100 [00:00<?, ?it/s]"
      ]
     },
     "metadata": {},
     "output_type": "display_data"
    },
    {
     "data": {
      "application/vnd.jupyter.widget-view+json": {
       "model_id": "93aa309463e74078a8b86800ff77f7a0",
       "version_major": 2,
       "version_minor": 0
      },
      "text/plain": [
       "Batch 120/501:   0%|          | 0/100 [00:00<?, ?it/s]"
      ]
     },
     "metadata": {},
     "output_type": "display_data"
    },
    {
     "data": {
      "application/vnd.jupyter.widget-view+json": {
       "model_id": "ae45077ab99d4d69a8bae34874972e08",
       "version_major": 2,
       "version_minor": 0
      },
      "text/plain": [
       "Batch 121/501:   0%|          | 0/100 [00:00<?, ?it/s]"
      ]
     },
     "metadata": {},
     "output_type": "display_data"
    },
    {
     "data": {
      "application/vnd.jupyter.widget-view+json": {
       "model_id": "a7126a7655c54ba4804fe9325628bd1a",
       "version_major": 2,
       "version_minor": 0
      },
      "text/plain": [
       "Batch 122/501:   0%|          | 0/100 [00:00<?, ?it/s]"
      ]
     },
     "metadata": {},
     "output_type": "display_data"
    },
    {
     "data": {
      "application/vnd.jupyter.widget-view+json": {
       "model_id": "af8c9b04d67045f1852a061260a4bba3",
       "version_major": 2,
       "version_minor": 0
      },
      "text/plain": [
       "Batch 123/501:   0%|          | 0/100 [00:00<?, ?it/s]"
      ]
     },
     "metadata": {},
     "output_type": "display_data"
    },
    {
     "data": {
      "application/vnd.jupyter.widget-view+json": {
       "model_id": "6ac6492e2ef9494abdd2378e4fe05ea4",
       "version_major": 2,
       "version_minor": 0
      },
      "text/plain": [
       "Batch 124/501:   0%|          | 0/100 [00:00<?, ?it/s]"
      ]
     },
     "metadata": {},
     "output_type": "display_data"
    },
    {
     "data": {
      "application/vnd.jupyter.widget-view+json": {
       "model_id": "a1f2d798140d42549a2b2bcd724148f1",
       "version_major": 2,
       "version_minor": 0
      },
      "text/plain": [
       "Batch 125/501:   0%|          | 0/100 [00:00<?, ?it/s]"
      ]
     },
     "metadata": {},
     "output_type": "display_data"
    },
    {
     "data": {
      "application/vnd.jupyter.widget-view+json": {
       "model_id": "bb760755275041f0809f3513e01df005",
       "version_major": 2,
       "version_minor": 0
      },
      "text/plain": [
       "Batch 126/501:   0%|          | 0/100 [00:00<?, ?it/s]"
      ]
     },
     "metadata": {},
     "output_type": "display_data"
    },
    {
     "data": {
      "application/vnd.jupyter.widget-view+json": {
       "model_id": "1aa37c4bd5564d6aa8e58e3213083386",
       "version_major": 2,
       "version_minor": 0
      },
      "text/plain": [
       "Batch 127/501:   0%|          | 0/100 [00:00<?, ?it/s]"
      ]
     },
     "metadata": {},
     "output_type": "display_data"
    },
    {
     "data": {
      "application/vnd.jupyter.widget-view+json": {
       "model_id": "d54aa4caed904721b4da7d4508c84044",
       "version_major": 2,
       "version_minor": 0
      },
      "text/plain": [
       "Batch 128/501:   0%|          | 0/100 [00:00<?, ?it/s]"
      ]
     },
     "metadata": {},
     "output_type": "display_data"
    },
    {
     "data": {
      "application/vnd.jupyter.widget-view+json": {
       "model_id": "06b8c1b7fca5469cab41d035400eafa0",
       "version_major": 2,
       "version_minor": 0
      },
      "text/plain": [
       "Batch 129/501:   0%|          | 0/100 [00:00<?, ?it/s]"
      ]
     },
     "metadata": {},
     "output_type": "display_data"
    },
    {
     "data": {
      "application/vnd.jupyter.widget-view+json": {
       "model_id": "628e4a71c410476b8111f66b48ea8efd",
       "version_major": 2,
       "version_minor": 0
      },
      "text/plain": [
       "Batch 130/501:   0%|          | 0/100 [00:00<?, ?it/s]"
      ]
     },
     "metadata": {},
     "output_type": "display_data"
    },
    {
     "data": {
      "application/vnd.jupyter.widget-view+json": {
       "model_id": "faaf4b343108404abe69d3da704f3856",
       "version_major": 2,
       "version_minor": 0
      },
      "text/plain": [
       "Batch 131/501:   0%|          | 0/100 [00:00<?, ?it/s]"
      ]
     },
     "metadata": {},
     "output_type": "display_data"
    },
    {
     "data": {
      "application/vnd.jupyter.widget-view+json": {
       "model_id": "098d07ea5e5a4f6c8982e43ed2384815",
       "version_major": 2,
       "version_minor": 0
      },
      "text/plain": [
       "Batch 132/501:   0%|          | 0/100 [00:00<?, ?it/s]"
      ]
     },
     "metadata": {},
     "output_type": "display_data"
    },
    {
     "data": {
      "application/vnd.jupyter.widget-view+json": {
       "model_id": "b7b3d9839b7842869c87827d0e2b603c",
       "version_major": 2,
       "version_minor": 0
      },
      "text/plain": [
       "Batch 133/501:   0%|          | 0/100 [00:00<?, ?it/s]"
      ]
     },
     "metadata": {},
     "output_type": "display_data"
    },
    {
     "data": {
      "application/vnd.jupyter.widget-view+json": {
       "model_id": "ab01e007eda54e2a92fe161d1a434c53",
       "version_major": 2,
       "version_minor": 0
      },
      "text/plain": [
       "Batch 134/501:   0%|          | 0/100 [00:00<?, ?it/s]"
      ]
     },
     "metadata": {},
     "output_type": "display_data"
    },
    {
     "data": {
      "application/vnd.jupyter.widget-view+json": {
       "model_id": "99c3856380db405698dd0031baf6433b",
       "version_major": 2,
       "version_minor": 0
      },
      "text/plain": [
       "Batch 135/501:   0%|          | 0/100 [00:00<?, ?it/s]"
      ]
     },
     "metadata": {},
     "output_type": "display_data"
    },
    {
     "data": {
      "application/vnd.jupyter.widget-view+json": {
       "model_id": "f7b0688fafc642fd9807b20099e21410",
       "version_major": 2,
       "version_minor": 0
      },
      "text/plain": [
       "Batch 136/501:   0%|          | 0/100 [00:00<?, ?it/s]"
      ]
     },
     "metadata": {},
     "output_type": "display_data"
    },
    {
     "data": {
      "application/vnd.jupyter.widget-view+json": {
       "model_id": "c0f68132b01c45d3beeb4408a2cc4309",
       "version_major": 2,
       "version_minor": 0
      },
      "text/plain": [
       "Batch 137/501:   0%|          | 0/100 [00:00<?, ?it/s]"
      ]
     },
     "metadata": {},
     "output_type": "display_data"
    },
    {
     "data": {
      "application/vnd.jupyter.widget-view+json": {
       "model_id": "a7fc3fdff1dd405faa4a764911f429e4",
       "version_major": 2,
       "version_minor": 0
      },
      "text/plain": [
       "Batch 138/501:   0%|          | 0/100 [00:00<?, ?it/s]"
      ]
     },
     "metadata": {},
     "output_type": "display_data"
    },
    {
     "data": {
      "application/vnd.jupyter.widget-view+json": {
       "model_id": "173fe3224e0f4d389d26d6f6645875e3",
       "version_major": 2,
       "version_minor": 0
      },
      "text/plain": [
       "Batch 139/501:   0%|          | 0/100 [00:00<?, ?it/s]"
      ]
     },
     "metadata": {},
     "output_type": "display_data"
    },
    {
     "data": {
      "application/vnd.jupyter.widget-view+json": {
       "model_id": "43759148a2fa4062aa9a4fd9b49031e9",
       "version_major": 2,
       "version_minor": 0
      },
      "text/plain": [
       "Batch 140/501:   0%|          | 0/100 [00:00<?, ?it/s]"
      ]
     },
     "metadata": {},
     "output_type": "display_data"
    },
    {
     "data": {
      "application/vnd.jupyter.widget-view+json": {
       "model_id": "929e3f36338d4ec1bcb69bb50b82bfab",
       "version_major": 2,
       "version_minor": 0
      },
      "text/plain": [
       "Batch 141/501:   0%|          | 0/100 [00:00<?, ?it/s]"
      ]
     },
     "metadata": {},
     "output_type": "display_data"
    },
    {
     "data": {
      "application/vnd.jupyter.widget-view+json": {
       "model_id": "2434dd0bbc914bae9ca198697836229c",
       "version_major": 2,
       "version_minor": 0
      },
      "text/plain": [
       "Batch 142/501:   0%|          | 0/100 [00:00<?, ?it/s]"
      ]
     },
     "metadata": {},
     "output_type": "display_data"
    },
    {
     "data": {
      "application/vnd.jupyter.widget-view+json": {
       "model_id": "2a63d36142474733bca38c4499dacc98",
       "version_major": 2,
       "version_minor": 0
      },
      "text/plain": [
       "Batch 143/501:   0%|          | 0/100 [00:00<?, ?it/s]"
      ]
     },
     "metadata": {},
     "output_type": "display_data"
    },
    {
     "data": {
      "application/vnd.jupyter.widget-view+json": {
       "model_id": "59d93295f9f74fa18a4988b02a6d6691",
       "version_major": 2,
       "version_minor": 0
      },
      "text/plain": [
       "Batch 144/501:   0%|          | 0/100 [00:00<?, ?it/s]"
      ]
     },
     "metadata": {},
     "output_type": "display_data"
    },
    {
     "data": {
      "application/vnd.jupyter.widget-view+json": {
       "model_id": "74e8fff14548485fa7e4cc8c1cd0ecdc",
       "version_major": 2,
       "version_minor": 0
      },
      "text/plain": [
       "Batch 145/501:   0%|          | 0/100 [00:00<?, ?it/s]"
      ]
     },
     "metadata": {},
     "output_type": "display_data"
    },
    {
     "data": {
      "application/vnd.jupyter.widget-view+json": {
       "model_id": "e826d4a797b24c16a77c743aec68c2e3",
       "version_major": 2,
       "version_minor": 0
      },
      "text/plain": [
       "Batch 146/501:   0%|          | 0/100 [00:00<?, ?it/s]"
      ]
     },
     "metadata": {},
     "output_type": "display_data"
    },
    {
     "data": {
      "application/vnd.jupyter.widget-view+json": {
       "model_id": "b901a71bf06440d18f558ecc8cb5f39c",
       "version_major": 2,
       "version_minor": 0
      },
      "text/plain": [
       "Batch 147/501:   0%|          | 0/100 [00:00<?, ?it/s]"
      ]
     },
     "metadata": {},
     "output_type": "display_data"
    },
    {
     "data": {
      "application/vnd.jupyter.widget-view+json": {
       "model_id": "14cf0f6e5bc14a2d84f618adcf5ecca9",
       "version_major": 2,
       "version_minor": 0
      },
      "text/plain": [
       "Batch 148/501:   0%|          | 0/100 [00:00<?, ?it/s]"
      ]
     },
     "metadata": {},
     "output_type": "display_data"
    },
    {
     "data": {
      "application/vnd.jupyter.widget-view+json": {
       "model_id": "d0ff7cf9c6654532b029671daf4630a2",
       "version_major": 2,
       "version_minor": 0
      },
      "text/plain": [
       "Batch 149/501:   0%|          | 0/100 [00:00<?, ?it/s]"
      ]
     },
     "metadata": {},
     "output_type": "display_data"
    },
    {
     "data": {
      "application/vnd.jupyter.widget-view+json": {
       "model_id": "ab3fcb7b76d249e1a8409c1461387eab",
       "version_major": 2,
       "version_minor": 0
      },
      "text/plain": [
       "Batch 150/501:   0%|          | 0/100 [00:00<?, ?it/s]"
      ]
     },
     "metadata": {},
     "output_type": "display_data"
    },
    {
     "data": {
      "application/vnd.jupyter.widget-view+json": {
       "model_id": "f7ff9b792c9c40899ca3b38ac785ba6f",
       "version_major": 2,
       "version_minor": 0
      },
      "text/plain": [
       "Batch 151/501:   0%|          | 0/100 [00:00<?, ?it/s]"
      ]
     },
     "metadata": {},
     "output_type": "display_data"
    },
    {
     "data": {
      "application/vnd.jupyter.widget-view+json": {
       "model_id": "be7dd559211f4d3e933b820feee29519",
       "version_major": 2,
       "version_minor": 0
      },
      "text/plain": [
       "Batch 152/501:   0%|          | 0/100 [00:00<?, ?it/s]"
      ]
     },
     "metadata": {},
     "output_type": "display_data"
    },
    {
     "data": {
      "application/vnd.jupyter.widget-view+json": {
       "model_id": "f5823d7060024443abd114316559aac0",
       "version_major": 2,
       "version_minor": 0
      },
      "text/plain": [
       "Batch 153/501:   0%|          | 0/100 [00:00<?, ?it/s]"
      ]
     },
     "metadata": {},
     "output_type": "display_data"
    },
    {
     "data": {
      "application/vnd.jupyter.widget-view+json": {
       "model_id": "02cef4d4a36f42e2ab2685fcf11563b3",
       "version_major": 2,
       "version_minor": 0
      },
      "text/plain": [
       "Batch 154/501:   0%|          | 0/100 [00:00<?, ?it/s]"
      ]
     },
     "metadata": {},
     "output_type": "display_data"
    },
    {
     "data": {
      "application/vnd.jupyter.widget-view+json": {
       "model_id": "bda86e35e7b34690b465bd02d2dd54b4",
       "version_major": 2,
       "version_minor": 0
      },
      "text/plain": [
       "Batch 155/501:   0%|          | 0/100 [00:00<?, ?it/s]"
      ]
     },
     "metadata": {},
     "output_type": "display_data"
    },
    {
     "data": {
      "application/vnd.jupyter.widget-view+json": {
       "model_id": "e09bdd596f934e7bb2d2201c90a37dba",
       "version_major": 2,
       "version_minor": 0
      },
      "text/plain": [
       "Batch 156/501:   0%|          | 0/100 [00:00<?, ?it/s]"
      ]
     },
     "metadata": {},
     "output_type": "display_data"
    },
    {
     "data": {
      "application/vnd.jupyter.widget-view+json": {
       "model_id": "7902ca4441834b599a78353542cb144c",
       "version_major": 2,
       "version_minor": 0
      },
      "text/plain": [
       "Batch 157/501:   0%|          | 0/100 [00:00<?, ?it/s]"
      ]
     },
     "metadata": {},
     "output_type": "display_data"
    },
    {
     "data": {
      "application/vnd.jupyter.widget-view+json": {
       "model_id": "c7b39381ddfc441b9a6f8b4c71e320d9",
       "version_major": 2,
       "version_minor": 0
      },
      "text/plain": [
       "Batch 158/501:   0%|          | 0/100 [00:00<?, ?it/s]"
      ]
     },
     "metadata": {},
     "output_type": "display_data"
    },
    {
     "data": {
      "application/vnd.jupyter.widget-view+json": {
       "model_id": "1830e0a50ca044c1b735fc727850a0a5",
       "version_major": 2,
       "version_minor": 0
      },
      "text/plain": [
       "Batch 159/501:   0%|          | 0/100 [00:00<?, ?it/s]"
      ]
     },
     "metadata": {},
     "output_type": "display_data"
    },
    {
     "data": {
      "application/vnd.jupyter.widget-view+json": {
       "model_id": "6a019032c764467f819154da15ff44eb",
       "version_major": 2,
       "version_minor": 0
      },
      "text/plain": [
       "Batch 160/501:   0%|          | 0/100 [00:00<?, ?it/s]"
      ]
     },
     "metadata": {},
     "output_type": "display_data"
    },
    {
     "data": {
      "application/vnd.jupyter.widget-view+json": {
       "model_id": "ab637501524d4eaf8ed2076844890760",
       "version_major": 2,
       "version_minor": 0
      },
      "text/plain": [
       "Batch 161/501:   0%|          | 0/100 [00:00<?, ?it/s]"
      ]
     },
     "metadata": {},
     "output_type": "display_data"
    },
    {
     "data": {
      "application/vnd.jupyter.widget-view+json": {
       "model_id": "e37d16617c974ec1aadc7f7da9e491f2",
       "version_major": 2,
       "version_minor": 0
      },
      "text/plain": [
       "Batch 162/501:   0%|          | 0/100 [00:00<?, ?it/s]"
      ]
     },
     "metadata": {},
     "output_type": "display_data"
    },
    {
     "data": {
      "application/vnd.jupyter.widget-view+json": {
       "model_id": "57391f2b70bd4bb0be66c91f51db4829",
       "version_major": 2,
       "version_minor": 0
      },
      "text/plain": [
       "Batch 163/501:   0%|          | 0/100 [00:00<?, ?it/s]"
      ]
     },
     "metadata": {},
     "output_type": "display_data"
    },
    {
     "data": {
      "application/vnd.jupyter.widget-view+json": {
       "model_id": "739f0dc86915407d9fccc83977c253b2",
       "version_major": 2,
       "version_minor": 0
      },
      "text/plain": [
       "Batch 164/501:   0%|          | 0/100 [00:00<?, ?it/s]"
      ]
     },
     "metadata": {},
     "output_type": "display_data"
    },
    {
     "data": {
      "application/vnd.jupyter.widget-view+json": {
       "model_id": "993791d87b7e47178507df71f0770988",
       "version_major": 2,
       "version_minor": 0
      },
      "text/plain": [
       "Batch 165/501:   0%|          | 0/100 [00:00<?, ?it/s]"
      ]
     },
     "metadata": {},
     "output_type": "display_data"
    },
    {
     "data": {
      "application/vnd.jupyter.widget-view+json": {
       "model_id": "95c6676fc6874f10af1bf0f43130dc8f",
       "version_major": 2,
       "version_minor": 0
      },
      "text/plain": [
       "Batch 166/501:   0%|          | 0/100 [00:00<?, ?it/s]"
      ]
     },
     "metadata": {},
     "output_type": "display_data"
    },
    {
     "data": {
      "application/vnd.jupyter.widget-view+json": {
       "model_id": "e2951ec0c90e49a085a17a0928a306af",
       "version_major": 2,
       "version_minor": 0
      },
      "text/plain": [
       "Batch 167/501:   0%|          | 0/100 [00:00<?, ?it/s]"
      ]
     },
     "metadata": {},
     "output_type": "display_data"
    },
    {
     "data": {
      "application/vnd.jupyter.widget-view+json": {
       "model_id": "51fc6825443843e1bff5ac3e8a30bbf2",
       "version_major": 2,
       "version_minor": 0
      },
      "text/plain": [
       "Batch 168/501:   0%|          | 0/100 [00:00<?, ?it/s]"
      ]
     },
     "metadata": {},
     "output_type": "display_data"
    },
    {
     "data": {
      "application/vnd.jupyter.widget-view+json": {
       "model_id": "250c589259e1439984f88af319d40014",
       "version_major": 2,
       "version_minor": 0
      },
      "text/plain": [
       "Batch 169/501:   0%|          | 0/100 [00:00<?, ?it/s]"
      ]
     },
     "metadata": {},
     "output_type": "display_data"
    },
    {
     "data": {
      "application/vnd.jupyter.widget-view+json": {
       "model_id": "70c4880c258e461ca55cc522a9b3cf6a",
       "version_major": 2,
       "version_minor": 0
      },
      "text/plain": [
       "Batch 170/501:   0%|          | 0/100 [00:00<?, ?it/s]"
      ]
     },
     "metadata": {},
     "output_type": "display_data"
    },
    {
     "data": {
      "application/vnd.jupyter.widget-view+json": {
       "model_id": "feaa433519e0475cbb220735461ec617",
       "version_major": 2,
       "version_minor": 0
      },
      "text/plain": [
       "Batch 171/501:   0%|          | 0/100 [00:00<?, ?it/s]"
      ]
     },
     "metadata": {},
     "output_type": "display_data"
    },
    {
     "data": {
      "application/vnd.jupyter.widget-view+json": {
       "model_id": "be5d16bef85d4779a9a10ea9b351ff5e",
       "version_major": 2,
       "version_minor": 0
      },
      "text/plain": [
       "Batch 172/501:   0%|          | 0/100 [00:00<?, ?it/s]"
      ]
     },
     "metadata": {},
     "output_type": "display_data"
    },
    {
     "data": {
      "application/vnd.jupyter.widget-view+json": {
       "model_id": "70274e73f1b5457e9222baf8f16c2cf0",
       "version_major": 2,
       "version_minor": 0
      },
      "text/plain": [
       "Batch 173/501:   0%|          | 0/100 [00:00<?, ?it/s]"
      ]
     },
     "metadata": {},
     "output_type": "display_data"
    },
    {
     "data": {
      "application/vnd.jupyter.widget-view+json": {
       "model_id": "b6f1ee0f004a49e2a694012bebf59f1f",
       "version_major": 2,
       "version_minor": 0
      },
      "text/plain": [
       "Batch 174/501:   0%|          | 0/100 [00:00<?, ?it/s]"
      ]
     },
     "metadata": {},
     "output_type": "display_data"
    },
    {
     "data": {
      "application/vnd.jupyter.widget-view+json": {
       "model_id": "347c59d69de44d94baf4275c6a1f8018",
       "version_major": 2,
       "version_minor": 0
      },
      "text/plain": [
       "Batch 175/501:   0%|          | 0/100 [00:00<?, ?it/s]"
      ]
     },
     "metadata": {},
     "output_type": "display_data"
    },
    {
     "data": {
      "application/vnd.jupyter.widget-view+json": {
       "model_id": "bbfc9927901e4eba98d30b6f10f78926",
       "version_major": 2,
       "version_minor": 0
      },
      "text/plain": [
       "Batch 176/501:   0%|          | 0/100 [00:00<?, ?it/s]"
      ]
     },
     "metadata": {},
     "output_type": "display_data"
    },
    {
     "data": {
      "application/vnd.jupyter.widget-view+json": {
       "model_id": "81d3c0eb99664c38b2102314771016f7",
       "version_major": 2,
       "version_minor": 0
      },
      "text/plain": [
       "Batch 177/501:   0%|          | 0/100 [00:00<?, ?it/s]"
      ]
     },
     "metadata": {},
     "output_type": "display_data"
    },
    {
     "data": {
      "application/vnd.jupyter.widget-view+json": {
       "model_id": "d1d23405422b4c1fba8b96b1ce893fd5",
       "version_major": 2,
       "version_minor": 0
      },
      "text/plain": [
       "Batch 178/501:   0%|          | 0/100 [00:00<?, ?it/s]"
      ]
     },
     "metadata": {},
     "output_type": "display_data"
    },
    {
     "data": {
      "application/vnd.jupyter.widget-view+json": {
       "model_id": "3f6526fc776144db802d818ce1fda11c",
       "version_major": 2,
       "version_minor": 0
      },
      "text/plain": [
       "Batch 179/501:   0%|          | 0/100 [00:00<?, ?it/s]"
      ]
     },
     "metadata": {},
     "output_type": "display_data"
    },
    {
     "data": {
      "application/vnd.jupyter.widget-view+json": {
       "model_id": "6f5119ef7b0e471d9a10adc9f823f061",
       "version_major": 2,
       "version_minor": 0
      },
      "text/plain": [
       "Batch 180/501:   0%|          | 0/100 [00:00<?, ?it/s]"
      ]
     },
     "metadata": {},
     "output_type": "display_data"
    },
    {
     "data": {
      "application/vnd.jupyter.widget-view+json": {
       "model_id": "0e62af0964f548388783eefd55fcb618",
       "version_major": 2,
       "version_minor": 0
      },
      "text/plain": [
       "Batch 181/501:   0%|          | 0/100 [00:00<?, ?it/s]"
      ]
     },
     "metadata": {},
     "output_type": "display_data"
    },
    {
     "data": {
      "application/vnd.jupyter.widget-view+json": {
       "model_id": "4c8e73ba924a44d6b51268665e98dfdb",
       "version_major": 2,
       "version_minor": 0
      },
      "text/plain": [
       "Batch 182/501:   0%|          | 0/100 [00:00<?, ?it/s]"
      ]
     },
     "metadata": {},
     "output_type": "display_data"
    },
    {
     "data": {
      "application/vnd.jupyter.widget-view+json": {
       "model_id": "8950f402eb0c4f2eb364dab4cef6c937",
       "version_major": 2,
       "version_minor": 0
      },
      "text/plain": [
       "Batch 183/501:   0%|          | 0/100 [00:00<?, ?it/s]"
      ]
     },
     "metadata": {},
     "output_type": "display_data"
    },
    {
     "data": {
      "application/vnd.jupyter.widget-view+json": {
       "model_id": "0e7f1a14e7ce4f9f9d2a4d002dc5724c",
       "version_major": 2,
       "version_minor": 0
      },
      "text/plain": [
       "Batch 184/501:   0%|          | 0/100 [00:00<?, ?it/s]"
      ]
     },
     "metadata": {},
     "output_type": "display_data"
    },
    {
     "data": {
      "application/vnd.jupyter.widget-view+json": {
       "model_id": "000419e3e8df472cbfec17f154649217",
       "version_major": 2,
       "version_minor": 0
      },
      "text/plain": [
       "Batch 185/501:   0%|          | 0/100 [00:00<?, ?it/s]"
      ]
     },
     "metadata": {},
     "output_type": "display_data"
    },
    {
     "data": {
      "application/vnd.jupyter.widget-view+json": {
       "model_id": "83dec542d6934c6184c3de6f62458b67",
       "version_major": 2,
       "version_minor": 0
      },
      "text/plain": [
       "Batch 186/501:   0%|          | 0/100 [00:00<?, ?it/s]"
      ]
     },
     "metadata": {},
     "output_type": "display_data"
    },
    {
     "data": {
      "application/vnd.jupyter.widget-view+json": {
       "model_id": "63c0012255184345b04450c47de44b44",
       "version_major": 2,
       "version_minor": 0
      },
      "text/plain": [
       "Batch 187/501:   0%|          | 0/100 [00:00<?, ?it/s]"
      ]
     },
     "metadata": {},
     "output_type": "display_data"
    },
    {
     "data": {
      "application/vnd.jupyter.widget-view+json": {
       "model_id": "af0a9329570545c3b821fa8e6bb75408",
       "version_major": 2,
       "version_minor": 0
      },
      "text/plain": [
       "Batch 188/501:   0%|          | 0/100 [00:00<?, ?it/s]"
      ]
     },
     "metadata": {},
     "output_type": "display_data"
    },
    {
     "data": {
      "application/vnd.jupyter.widget-view+json": {
       "model_id": "a4137f2a263d4b108b5ae9fad82c6038",
       "version_major": 2,
       "version_minor": 0
      },
      "text/plain": [
       "Batch 189/501:   0%|          | 0/100 [00:00<?, ?it/s]"
      ]
     },
     "metadata": {},
     "output_type": "display_data"
    },
    {
     "data": {
      "application/vnd.jupyter.widget-view+json": {
       "model_id": "2ed0f3101c024c46a8aff483f1a02d2a",
       "version_major": 2,
       "version_minor": 0
      },
      "text/plain": [
       "Batch 190/501:   0%|          | 0/100 [00:00<?, ?it/s]"
      ]
     },
     "metadata": {},
     "output_type": "display_data"
    },
    {
     "data": {
      "application/vnd.jupyter.widget-view+json": {
       "model_id": "28396f1ff85448c8b5ab7fa5a9a7ee01",
       "version_major": 2,
       "version_minor": 0
      },
      "text/plain": [
       "Batch 191/501:   0%|          | 0/100 [00:00<?, ?it/s]"
      ]
     },
     "metadata": {},
     "output_type": "display_data"
    },
    {
     "data": {
      "application/vnd.jupyter.widget-view+json": {
       "model_id": "c93f6b679d0c43739e18671200712cbd",
       "version_major": 2,
       "version_minor": 0
      },
      "text/plain": [
       "Batch 192/501:   0%|          | 0/100 [00:00<?, ?it/s]"
      ]
     },
     "metadata": {},
     "output_type": "display_data"
    },
    {
     "data": {
      "application/vnd.jupyter.widget-view+json": {
       "model_id": "03b7854e4c184626921c4802062a3289",
       "version_major": 2,
       "version_minor": 0
      },
      "text/plain": [
       "Batch 193/501:   0%|          | 0/100 [00:00<?, ?it/s]"
      ]
     },
     "metadata": {},
     "output_type": "display_data"
    },
    {
     "data": {
      "application/vnd.jupyter.widget-view+json": {
       "model_id": "e4070f56d4844101ba05ffd29b05da16",
       "version_major": 2,
       "version_minor": 0
      },
      "text/plain": [
       "Batch 194/501:   0%|          | 0/100 [00:00<?, ?it/s]"
      ]
     },
     "metadata": {},
     "output_type": "display_data"
    },
    {
     "data": {
      "application/vnd.jupyter.widget-view+json": {
       "model_id": "fac417276acb4be3bb531f40c5d7aa4f",
       "version_major": 2,
       "version_minor": 0
      },
      "text/plain": [
       "Batch 195/501:   0%|          | 0/100 [00:00<?, ?it/s]"
      ]
     },
     "metadata": {},
     "output_type": "display_data"
    },
    {
     "data": {
      "application/vnd.jupyter.widget-view+json": {
       "model_id": "74f25920ff9b4dac9ad7dd1b452f95d3",
       "version_major": 2,
       "version_minor": 0
      },
      "text/plain": [
       "Batch 196/501:   0%|          | 0/100 [00:00<?, ?it/s]"
      ]
     },
     "metadata": {},
     "output_type": "display_data"
    },
    {
     "data": {
      "application/vnd.jupyter.widget-view+json": {
       "model_id": "80b84074034b4468a62d21963dccc98e",
       "version_major": 2,
       "version_minor": 0
      },
      "text/plain": [
       "Batch 197/501:   0%|          | 0/100 [00:00<?, ?it/s]"
      ]
     },
     "metadata": {},
     "output_type": "display_data"
    },
    {
     "data": {
      "application/vnd.jupyter.widget-view+json": {
       "model_id": "1c4d45fdc3b340c79e0ec98e89f8510b",
       "version_major": 2,
       "version_minor": 0
      },
      "text/plain": [
       "Batch 198/501:   0%|          | 0/100 [00:00<?, ?it/s]"
      ]
     },
     "metadata": {},
     "output_type": "display_data"
    },
    {
     "data": {
      "application/vnd.jupyter.widget-view+json": {
       "model_id": "f6b7967ea46c47dabb762897f9050b03",
       "version_major": 2,
       "version_minor": 0
      },
      "text/plain": [
       "Batch 199/501:   0%|          | 0/100 [00:00<?, ?it/s]"
      ]
     },
     "metadata": {},
     "output_type": "display_data"
    },
    {
     "data": {
      "application/vnd.jupyter.widget-view+json": {
       "model_id": "38aad340985441349fec9dba7070924c",
       "version_major": 2,
       "version_minor": 0
      },
      "text/plain": [
       "Batch 200/501:   0%|          | 0/100 [00:00<?, ?it/s]"
      ]
     },
     "metadata": {},
     "output_type": "display_data"
    },
    {
     "data": {
      "application/vnd.jupyter.widget-view+json": {
       "model_id": "03240ba0a8b34d5bb2b6f00616418e27",
       "version_major": 2,
       "version_minor": 0
      },
      "text/plain": [
       "Batch 201/501:   0%|          | 0/100 [00:00<?, ?it/s]"
      ]
     },
     "metadata": {},
     "output_type": "display_data"
    },
    {
     "data": {
      "application/vnd.jupyter.widget-view+json": {
       "model_id": "7c2b51c8d5124e3b8d40340e27c28c8d",
       "version_major": 2,
       "version_minor": 0
      },
      "text/plain": [
       "Batch 202/501:   0%|          | 0/100 [00:00<?, ?it/s]"
      ]
     },
     "metadata": {},
     "output_type": "display_data"
    },
    {
     "data": {
      "application/vnd.jupyter.widget-view+json": {
       "model_id": "208b4ba0c8614018b51e1d66fa8efafa",
       "version_major": 2,
       "version_minor": 0
      },
      "text/plain": [
       "Batch 203/501:   0%|          | 0/100 [00:00<?, ?it/s]"
      ]
     },
     "metadata": {},
     "output_type": "display_data"
    },
    {
     "data": {
      "application/vnd.jupyter.widget-view+json": {
       "model_id": "21cc4085c1bf4a9dae5c92eab6e99a73",
       "version_major": 2,
       "version_minor": 0
      },
      "text/plain": [
       "Batch 204/501:   0%|          | 0/100 [00:00<?, ?it/s]"
      ]
     },
     "metadata": {},
     "output_type": "display_data"
    },
    {
     "data": {
      "application/vnd.jupyter.widget-view+json": {
       "model_id": "7b1cd69ae5ca48278beaf2a029192804",
       "version_major": 2,
       "version_minor": 0
      },
      "text/plain": [
       "Batch 205/501:   0%|          | 0/100 [00:00<?, ?it/s]"
      ]
     },
     "metadata": {},
     "output_type": "display_data"
    },
    {
     "data": {
      "application/vnd.jupyter.widget-view+json": {
       "model_id": "1f837ef41df5439ba0cdf0423d366818",
       "version_major": 2,
       "version_minor": 0
      },
      "text/plain": [
       "Batch 206/501:   0%|          | 0/100 [00:00<?, ?it/s]"
      ]
     },
     "metadata": {},
     "output_type": "display_data"
    },
    {
     "data": {
      "application/vnd.jupyter.widget-view+json": {
       "model_id": "31c9072bb5ab4ac7ba964bf22323ced7",
       "version_major": 2,
       "version_minor": 0
      },
      "text/plain": [
       "Batch 207/501:   0%|          | 0/100 [00:00<?, ?it/s]"
      ]
     },
     "metadata": {},
     "output_type": "display_data"
    },
    {
     "data": {
      "application/vnd.jupyter.widget-view+json": {
       "model_id": "4c5d19ad4cb24275b95a52a4df6d95e9",
       "version_major": 2,
       "version_minor": 0
      },
      "text/plain": [
       "Batch 208/501:   0%|          | 0/100 [00:00<?, ?it/s]"
      ]
     },
     "metadata": {},
     "output_type": "display_data"
    },
    {
     "data": {
      "application/vnd.jupyter.widget-view+json": {
       "model_id": "556ab680dd6d4afab9de84c17a82ad07",
       "version_major": 2,
       "version_minor": 0
      },
      "text/plain": [
       "Batch 209/501:   0%|          | 0/100 [00:00<?, ?it/s]"
      ]
     },
     "metadata": {},
     "output_type": "display_data"
    },
    {
     "data": {
      "application/vnd.jupyter.widget-view+json": {
       "model_id": "9b6161fd8ceb4652898ae9333087c2c9",
       "version_major": 2,
       "version_minor": 0
      },
      "text/plain": [
       "Batch 210/501:   0%|          | 0/100 [00:00<?, ?it/s]"
      ]
     },
     "metadata": {},
     "output_type": "display_data"
    },
    {
     "data": {
      "application/vnd.jupyter.widget-view+json": {
       "model_id": "f61c6d8f20e445599fbb526ab2fa2c73",
       "version_major": 2,
       "version_minor": 0
      },
      "text/plain": [
       "Batch 211/501:   0%|          | 0/100 [00:00<?, ?it/s]"
      ]
     },
     "metadata": {},
     "output_type": "display_data"
    },
    {
     "data": {
      "application/vnd.jupyter.widget-view+json": {
       "model_id": "41a8263447ed4aa78cb06f2b364701ca",
       "version_major": 2,
       "version_minor": 0
      },
      "text/plain": [
       "Batch 212/501:   0%|          | 0/100 [00:00<?, ?it/s]"
      ]
     },
     "metadata": {},
     "output_type": "display_data"
    },
    {
     "data": {
      "application/vnd.jupyter.widget-view+json": {
       "model_id": "e0fcf5b7bf404aa59912cd6e0e7a67de",
       "version_major": 2,
       "version_minor": 0
      },
      "text/plain": [
       "Batch 213/501:   0%|          | 0/100 [00:00<?, ?it/s]"
      ]
     },
     "metadata": {},
     "output_type": "display_data"
    },
    {
     "data": {
      "application/vnd.jupyter.widget-view+json": {
       "model_id": "366f4000243e445580d9cc18f947e916",
       "version_major": 2,
       "version_minor": 0
      },
      "text/plain": [
       "Batch 214/501:   0%|          | 0/100 [00:00<?, ?it/s]"
      ]
     },
     "metadata": {},
     "output_type": "display_data"
    },
    {
     "data": {
      "application/vnd.jupyter.widget-view+json": {
       "model_id": "b4d2862b8c8d4487a4b369dd0a0fa900",
       "version_major": 2,
       "version_minor": 0
      },
      "text/plain": [
       "Batch 215/501:   0%|          | 0/100 [00:00<?, ?it/s]"
      ]
     },
     "metadata": {},
     "output_type": "display_data"
    },
    {
     "data": {
      "application/vnd.jupyter.widget-view+json": {
       "model_id": "dc5f00842d5a4f508ed2412ddc64b964",
       "version_major": 2,
       "version_minor": 0
      },
      "text/plain": [
       "Batch 216/501:   0%|          | 0/100 [00:00<?, ?it/s]"
      ]
     },
     "metadata": {},
     "output_type": "display_data"
    },
    {
     "data": {
      "application/vnd.jupyter.widget-view+json": {
       "model_id": "8b0ab47aa91548059cb851f031f3c6e7",
       "version_major": 2,
       "version_minor": 0
      },
      "text/plain": [
       "Batch 217/501:   0%|          | 0/100 [00:00<?, ?it/s]"
      ]
     },
     "metadata": {},
     "output_type": "display_data"
    },
    {
     "data": {
      "application/vnd.jupyter.widget-view+json": {
       "model_id": "04dd6d85456e49639004b1f98941d72e",
       "version_major": 2,
       "version_minor": 0
      },
      "text/plain": [
       "Batch 218/501:   0%|          | 0/100 [00:00<?, ?it/s]"
      ]
     },
     "metadata": {},
     "output_type": "display_data"
    },
    {
     "data": {
      "application/vnd.jupyter.widget-view+json": {
       "model_id": "068afef283e24ab6bf20356ebd8ee6ea",
       "version_major": 2,
       "version_minor": 0
      },
      "text/plain": [
       "Batch 219/501:   0%|          | 0/100 [00:00<?, ?it/s]"
      ]
     },
     "metadata": {},
     "output_type": "display_data"
    },
    {
     "data": {
      "application/vnd.jupyter.widget-view+json": {
       "model_id": "2cf6553ef8ad4dbda00023db150c10da",
       "version_major": 2,
       "version_minor": 0
      },
      "text/plain": [
       "Batch 220/501:   0%|          | 0/100 [00:00<?, ?it/s]"
      ]
     },
     "metadata": {},
     "output_type": "display_data"
    },
    {
     "data": {
      "application/vnd.jupyter.widget-view+json": {
       "model_id": "8ada883278be4c0aab066b82f82b23ba",
       "version_major": 2,
       "version_minor": 0
      },
      "text/plain": [
       "Batch 221/501:   0%|          | 0/100 [00:00<?, ?it/s]"
      ]
     },
     "metadata": {},
     "output_type": "display_data"
    },
    {
     "data": {
      "application/vnd.jupyter.widget-view+json": {
       "model_id": "806cc9216ab6496dbc11ef5de30c4dcf",
       "version_major": 2,
       "version_minor": 0
      },
      "text/plain": [
       "Batch 222/501:   0%|          | 0/100 [00:00<?, ?it/s]"
      ]
     },
     "metadata": {},
     "output_type": "display_data"
    },
    {
     "data": {
      "application/vnd.jupyter.widget-view+json": {
       "model_id": "736d6dd9a95244ea8d1e6c01ad1305ca",
       "version_major": 2,
       "version_minor": 0
      },
      "text/plain": [
       "Batch 223/501:   0%|          | 0/100 [00:00<?, ?it/s]"
      ]
     },
     "metadata": {},
     "output_type": "display_data"
    },
    {
     "data": {
      "application/vnd.jupyter.widget-view+json": {
       "model_id": "5a3e533e394d47539b91c3d6e7226da9",
       "version_major": 2,
       "version_minor": 0
      },
      "text/plain": [
       "Batch 224/501:   0%|          | 0/100 [00:00<?, ?it/s]"
      ]
     },
     "metadata": {},
     "output_type": "display_data"
    },
    {
     "data": {
      "application/vnd.jupyter.widget-view+json": {
       "model_id": "cc5c8c20c8f8446e9b42dd84393c6c06",
       "version_major": 2,
       "version_minor": 0
      },
      "text/plain": [
       "Batch 225/501:   0%|          | 0/100 [00:00<?, ?it/s]"
      ]
     },
     "metadata": {},
     "output_type": "display_data"
    },
    {
     "data": {
      "application/vnd.jupyter.widget-view+json": {
       "model_id": "75a542019f1c4decba590eb2ebc2e64c",
       "version_major": 2,
       "version_minor": 0
      },
      "text/plain": [
       "Batch 226/501:   0%|          | 0/100 [00:00<?, ?it/s]"
      ]
     },
     "metadata": {},
     "output_type": "display_data"
    },
    {
     "data": {
      "application/vnd.jupyter.widget-view+json": {
       "model_id": "f148ad16ed09415db96e73d821b2c811",
       "version_major": 2,
       "version_minor": 0
      },
      "text/plain": [
       "Batch 227/501:   0%|          | 0/100 [00:00<?, ?it/s]"
      ]
     },
     "metadata": {},
     "output_type": "display_data"
    },
    {
     "data": {
      "application/vnd.jupyter.widget-view+json": {
       "model_id": "d0f34d9802264f348edc309202a5e76a",
       "version_major": 2,
       "version_minor": 0
      },
      "text/plain": [
       "Batch 228/501:   0%|          | 0/100 [00:00<?, ?it/s]"
      ]
     },
     "metadata": {},
     "output_type": "display_data"
    },
    {
     "data": {
      "application/vnd.jupyter.widget-view+json": {
       "model_id": "fb8b400a91c94302aa101b890a9bce0f",
       "version_major": 2,
       "version_minor": 0
      },
      "text/plain": [
       "Batch 229/501:   0%|          | 0/100 [00:00<?, ?it/s]"
      ]
     },
     "metadata": {},
     "output_type": "display_data"
    },
    {
     "data": {
      "application/vnd.jupyter.widget-view+json": {
       "model_id": "ce9ac338373f4920a8a81e162e4c6a8d",
       "version_major": 2,
       "version_minor": 0
      },
      "text/plain": [
       "Batch 230/501:   0%|          | 0/100 [00:00<?, ?it/s]"
      ]
     },
     "metadata": {},
     "output_type": "display_data"
    },
    {
     "data": {
      "application/vnd.jupyter.widget-view+json": {
       "model_id": "fe8358a6f2524421aec3f8fadf097f2d",
       "version_major": 2,
       "version_minor": 0
      },
      "text/plain": [
       "Batch 231/501:   0%|          | 0/100 [00:00<?, ?it/s]"
      ]
     },
     "metadata": {},
     "output_type": "display_data"
    },
    {
     "data": {
      "application/vnd.jupyter.widget-view+json": {
       "model_id": "7425c635b8504f3c8826ea6a391e7852",
       "version_major": 2,
       "version_minor": 0
      },
      "text/plain": [
       "Batch 232/501:   0%|          | 0/100 [00:00<?, ?it/s]"
      ]
     },
     "metadata": {},
     "output_type": "display_data"
    },
    {
     "data": {
      "application/vnd.jupyter.widget-view+json": {
       "model_id": "031a85756ea24a9a95d804c22fa1c3ec",
       "version_major": 2,
       "version_minor": 0
      },
      "text/plain": [
       "Batch 233/501:   0%|          | 0/100 [00:00<?, ?it/s]"
      ]
     },
     "metadata": {},
     "output_type": "display_data"
    },
    {
     "data": {
      "application/vnd.jupyter.widget-view+json": {
       "model_id": "31a3f468f24342108980f8dad933e189",
       "version_major": 2,
       "version_minor": 0
      },
      "text/plain": [
       "Batch 234/501:   0%|          | 0/100 [00:00<?, ?it/s]"
      ]
     },
     "metadata": {},
     "output_type": "display_data"
    },
    {
     "data": {
      "application/vnd.jupyter.widget-view+json": {
       "model_id": "1a9d3187a4194c4cb3f5b19dd0249755",
       "version_major": 2,
       "version_minor": 0
      },
      "text/plain": [
       "Batch 235/501:   0%|          | 0/100 [00:00<?, ?it/s]"
      ]
     },
     "metadata": {},
     "output_type": "display_data"
    },
    {
     "data": {
      "application/vnd.jupyter.widget-view+json": {
       "model_id": "5ae3ab5d66454aa9bc81aa4cf86e6fc4",
       "version_major": 2,
       "version_minor": 0
      },
      "text/plain": [
       "Batch 236/501:   0%|          | 0/100 [00:00<?, ?it/s]"
      ]
     },
     "metadata": {},
     "output_type": "display_data"
    },
    {
     "data": {
      "application/vnd.jupyter.widget-view+json": {
       "model_id": "a098369d3160479a85f25f7ab24dfd41",
       "version_major": 2,
       "version_minor": 0
      },
      "text/plain": [
       "Batch 237/501:   0%|          | 0/100 [00:00<?, ?it/s]"
      ]
     },
     "metadata": {},
     "output_type": "display_data"
    },
    {
     "data": {
      "application/vnd.jupyter.widget-view+json": {
       "model_id": "a9140628a83948cc9fc372d4e0d68525",
       "version_major": 2,
       "version_minor": 0
      },
      "text/plain": [
       "Batch 238/501:   0%|          | 0/100 [00:00<?, ?it/s]"
      ]
     },
     "metadata": {},
     "output_type": "display_data"
    },
    {
     "data": {
      "application/vnd.jupyter.widget-view+json": {
       "model_id": "2b6fec8c2f574c7ebbda9d9ec8dcd54f",
       "version_major": 2,
       "version_minor": 0
      },
      "text/plain": [
       "Batch 239/501:   0%|          | 0/100 [00:00<?, ?it/s]"
      ]
     },
     "metadata": {},
     "output_type": "display_data"
    },
    {
     "data": {
      "application/vnd.jupyter.widget-view+json": {
       "model_id": "e848d25d992142568535d614c24f70ec",
       "version_major": 2,
       "version_minor": 0
      },
      "text/plain": [
       "Batch 240/501:   0%|          | 0/100 [00:00<?, ?it/s]"
      ]
     },
     "metadata": {},
     "output_type": "display_data"
    },
    {
     "data": {
      "application/vnd.jupyter.widget-view+json": {
       "model_id": "98e435a5ba5341d281c4c0ee8c83aaeb",
       "version_major": 2,
       "version_minor": 0
      },
      "text/plain": [
       "Batch 241/501:   0%|          | 0/100 [00:00<?, ?it/s]"
      ]
     },
     "metadata": {},
     "output_type": "display_data"
    },
    {
     "data": {
      "application/vnd.jupyter.widget-view+json": {
       "model_id": "edef19fcfe064d1f80b48b06a32b896c",
       "version_major": 2,
       "version_minor": 0
      },
      "text/plain": [
       "Batch 242/501:   0%|          | 0/100 [00:00<?, ?it/s]"
      ]
     },
     "metadata": {},
     "output_type": "display_data"
    },
    {
     "data": {
      "application/vnd.jupyter.widget-view+json": {
       "model_id": "5c55a3e34cfe4f2eb117cb79f277217b",
       "version_major": 2,
       "version_minor": 0
      },
      "text/plain": [
       "Batch 243/501:   0%|          | 0/100 [00:00<?, ?it/s]"
      ]
     },
     "metadata": {},
     "output_type": "display_data"
    },
    {
     "data": {
      "application/vnd.jupyter.widget-view+json": {
       "model_id": "3b4553c48264477e9604d8e2d762c9be",
       "version_major": 2,
       "version_minor": 0
      },
      "text/plain": [
       "Batch 244/501:   0%|          | 0/100 [00:00<?, ?it/s]"
      ]
     },
     "metadata": {},
     "output_type": "display_data"
    },
    {
     "data": {
      "application/vnd.jupyter.widget-view+json": {
       "model_id": "110d6d79081a42daaedc10a054d4ca7c",
       "version_major": 2,
       "version_minor": 0
      },
      "text/plain": [
       "Batch 245/501:   0%|          | 0/100 [00:00<?, ?it/s]"
      ]
     },
     "metadata": {},
     "output_type": "display_data"
    },
    {
     "data": {
      "application/vnd.jupyter.widget-view+json": {
       "model_id": "2a5b5b7c6cc743aebd358d8cf7ffc68d",
       "version_major": 2,
       "version_minor": 0
      },
      "text/plain": [
       "Batch 246/501:   0%|          | 0/100 [00:00<?, ?it/s]"
      ]
     },
     "metadata": {},
     "output_type": "display_data"
    },
    {
     "data": {
      "application/vnd.jupyter.widget-view+json": {
       "model_id": "766a1721e17f468cb83d6599f8f017dd",
       "version_major": 2,
       "version_minor": 0
      },
      "text/plain": [
       "Batch 247/501:   0%|          | 0/100 [00:00<?, ?it/s]"
      ]
     },
     "metadata": {},
     "output_type": "display_data"
    },
    {
     "data": {
      "application/vnd.jupyter.widget-view+json": {
       "model_id": "0490fae03ed94b0aa195aa0957a45484",
       "version_major": 2,
       "version_minor": 0
      },
      "text/plain": [
       "Batch 248/501:   0%|          | 0/100 [00:00<?, ?it/s]"
      ]
     },
     "metadata": {},
     "output_type": "display_data"
    },
    {
     "data": {
      "application/vnd.jupyter.widget-view+json": {
       "model_id": "a82cd3d9da284d2bbf2f73968d1c2305",
       "version_major": 2,
       "version_minor": 0
      },
      "text/plain": [
       "Batch 249/501:   0%|          | 0/100 [00:00<?, ?it/s]"
      ]
     },
     "metadata": {},
     "output_type": "display_data"
    },
    {
     "data": {
      "application/vnd.jupyter.widget-view+json": {
       "model_id": "223e1c56b0cd47f593f8984e0cd18eaf",
       "version_major": 2,
       "version_minor": 0
      },
      "text/plain": [
       "Batch 250/501:   0%|          | 0/100 [00:00<?, ?it/s]"
      ]
     },
     "metadata": {},
     "output_type": "display_data"
    },
    {
     "data": {
      "application/vnd.jupyter.widget-view+json": {
       "model_id": "c76b8357f88e4fb880c4d35cf82013b9",
       "version_major": 2,
       "version_minor": 0
      },
      "text/plain": [
       "Batch 251/501:   0%|          | 0/100 [00:00<?, ?it/s]"
      ]
     },
     "metadata": {},
     "output_type": "display_data"
    },
    {
     "data": {
      "application/vnd.jupyter.widget-view+json": {
       "model_id": "f18ff8dd1b0c4349acbff86268b0285b",
       "version_major": 2,
       "version_minor": 0
      },
      "text/plain": [
       "Batch 252/501:   0%|          | 0/100 [00:00<?, ?it/s]"
      ]
     },
     "metadata": {},
     "output_type": "display_data"
    },
    {
     "data": {
      "application/vnd.jupyter.widget-view+json": {
       "model_id": "be63e0fb972040aca1d89fc13bdc229b",
       "version_major": 2,
       "version_minor": 0
      },
      "text/plain": [
       "Batch 253/501:   0%|          | 0/100 [00:00<?, ?it/s]"
      ]
     },
     "metadata": {},
     "output_type": "display_data"
    },
    {
     "data": {
      "application/vnd.jupyter.widget-view+json": {
       "model_id": "cbb333d8f1f74a859ef62df07af090ea",
       "version_major": 2,
       "version_minor": 0
      },
      "text/plain": [
       "Batch 254/501:   0%|          | 0/100 [00:00<?, ?it/s]"
      ]
     },
     "metadata": {},
     "output_type": "display_data"
    },
    {
     "data": {
      "application/vnd.jupyter.widget-view+json": {
       "model_id": "c55fce368151479ba7033c8ec86dc656",
       "version_major": 2,
       "version_minor": 0
      },
      "text/plain": [
       "Batch 255/501:   0%|          | 0/100 [00:00<?, ?it/s]"
      ]
     },
     "metadata": {},
     "output_type": "display_data"
    },
    {
     "data": {
      "application/vnd.jupyter.widget-view+json": {
       "model_id": "61ca85aa9432464a836cc9cfd3e65219",
       "version_major": 2,
       "version_minor": 0
      },
      "text/plain": [
       "Batch 256/501:   0%|          | 0/100 [00:00<?, ?it/s]"
      ]
     },
     "metadata": {},
     "output_type": "display_data"
    },
    {
     "data": {
      "application/vnd.jupyter.widget-view+json": {
       "model_id": "5de325373e6e446396650a9545192619",
       "version_major": 2,
       "version_minor": 0
      },
      "text/plain": [
       "Batch 257/501:   0%|          | 0/100 [00:00<?, ?it/s]"
      ]
     },
     "metadata": {},
     "output_type": "display_data"
    },
    {
     "data": {
      "application/vnd.jupyter.widget-view+json": {
       "model_id": "e77f61d3e2374d5bae8dfeac7cfad9bc",
       "version_major": 2,
       "version_minor": 0
      },
      "text/plain": [
       "Batch 258/501:   0%|          | 0/100 [00:00<?, ?it/s]"
      ]
     },
     "metadata": {},
     "output_type": "display_data"
    },
    {
     "data": {
      "application/vnd.jupyter.widget-view+json": {
       "model_id": "4cd7f65287684586bf2bdedcc6d28a8d",
       "version_major": 2,
       "version_minor": 0
      },
      "text/plain": [
       "Batch 259/501:   0%|          | 0/100 [00:00<?, ?it/s]"
      ]
     },
     "metadata": {},
     "output_type": "display_data"
    },
    {
     "data": {
      "application/vnd.jupyter.widget-view+json": {
       "model_id": "2b0faf41e53e4d93b0af56105c1c7a60",
       "version_major": 2,
       "version_minor": 0
      },
      "text/plain": [
       "Batch 260/501:   0%|          | 0/100 [00:00<?, ?it/s]"
      ]
     },
     "metadata": {},
     "output_type": "display_data"
    },
    {
     "data": {
      "application/vnd.jupyter.widget-view+json": {
       "model_id": "7732ee5ab4f342feb50d64b8d65d3d65",
       "version_major": 2,
       "version_minor": 0
      },
      "text/plain": [
       "Batch 261/501:   0%|          | 0/100 [00:00<?, ?it/s]"
      ]
     },
     "metadata": {},
     "output_type": "display_data"
    },
    {
     "data": {
      "application/vnd.jupyter.widget-view+json": {
       "model_id": "3cff5257380a4e7aac66cbc75f7b4bb2",
       "version_major": 2,
       "version_minor": 0
      },
      "text/plain": [
       "Batch 262/501:   0%|          | 0/100 [00:00<?, ?it/s]"
      ]
     },
     "metadata": {},
     "output_type": "display_data"
    },
    {
     "data": {
      "application/vnd.jupyter.widget-view+json": {
       "model_id": "77575d17616e4b358eee6cc6ae7b57fb",
       "version_major": 2,
       "version_minor": 0
      },
      "text/plain": [
       "Batch 263/501:   0%|          | 0/100 [00:00<?, ?it/s]"
      ]
     },
     "metadata": {},
     "output_type": "display_data"
    },
    {
     "data": {
      "application/vnd.jupyter.widget-view+json": {
       "model_id": "fe933ec9b7f645618af82c3d039f1942",
       "version_major": 2,
       "version_minor": 0
      },
      "text/plain": [
       "Batch 264/501:   0%|          | 0/100 [00:00<?, ?it/s]"
      ]
     },
     "metadata": {},
     "output_type": "display_data"
    },
    {
     "data": {
      "application/vnd.jupyter.widget-view+json": {
       "model_id": "0f5bcebe9a0a4531a6db50beca77dd2a",
       "version_major": 2,
       "version_minor": 0
      },
      "text/plain": [
       "Batch 265/501:   0%|          | 0/100 [00:00<?, ?it/s]"
      ]
     },
     "metadata": {},
     "output_type": "display_data"
    },
    {
     "data": {
      "application/vnd.jupyter.widget-view+json": {
       "model_id": "e74cafe55db24170a8d2be3216327782",
       "version_major": 2,
       "version_minor": 0
      },
      "text/plain": [
       "Batch 266/501:   0%|          | 0/100 [00:00<?, ?it/s]"
      ]
     },
     "metadata": {},
     "output_type": "display_data"
    },
    {
     "data": {
      "application/vnd.jupyter.widget-view+json": {
       "model_id": "7c0d26ca78aa447da1c4b8dc9fc53fc3",
       "version_major": 2,
       "version_minor": 0
      },
      "text/plain": [
       "Batch 267/501:   0%|          | 0/100 [00:00<?, ?it/s]"
      ]
     },
     "metadata": {},
     "output_type": "display_data"
    },
    {
     "data": {
      "application/vnd.jupyter.widget-view+json": {
       "model_id": "07e5d3a92b8d4669a084b35dea7407c8",
       "version_major": 2,
       "version_minor": 0
      },
      "text/plain": [
       "Batch 268/501:   0%|          | 0/100 [00:00<?, ?it/s]"
      ]
     },
     "metadata": {},
     "output_type": "display_data"
    },
    {
     "data": {
      "application/vnd.jupyter.widget-view+json": {
       "model_id": "754b1e9e215d4716b7766a1a1d2ef61b",
       "version_major": 2,
       "version_minor": 0
      },
      "text/plain": [
       "Batch 269/501:   0%|          | 0/100 [00:00<?, ?it/s]"
      ]
     },
     "metadata": {},
     "output_type": "display_data"
    },
    {
     "data": {
      "application/vnd.jupyter.widget-view+json": {
       "model_id": "fef5cbb9fc6849b4a52e37ce75b1277a",
       "version_major": 2,
       "version_minor": 0
      },
      "text/plain": [
       "Batch 270/501:   0%|          | 0/100 [00:00<?, ?it/s]"
      ]
     },
     "metadata": {},
     "output_type": "display_data"
    },
    {
     "data": {
      "application/vnd.jupyter.widget-view+json": {
       "model_id": "e215829c9d4140f3af2d6a3652c415c8",
       "version_major": 2,
       "version_minor": 0
      },
      "text/plain": [
       "Batch 271/501:   0%|          | 0/100 [00:00<?, ?it/s]"
      ]
     },
     "metadata": {},
     "output_type": "display_data"
    },
    {
     "data": {
      "application/vnd.jupyter.widget-view+json": {
       "model_id": "01ecb99d89a54e87abb45f477e031ebe",
       "version_major": 2,
       "version_minor": 0
      },
      "text/plain": [
       "Batch 272/501:   0%|          | 0/100 [00:00<?, ?it/s]"
      ]
     },
     "metadata": {},
     "output_type": "display_data"
    },
    {
     "data": {
      "application/vnd.jupyter.widget-view+json": {
       "model_id": "0ee68d1a863b41148bd3706c67911436",
       "version_major": 2,
       "version_minor": 0
      },
      "text/plain": [
       "Batch 273/501:   0%|          | 0/100 [00:00<?, ?it/s]"
      ]
     },
     "metadata": {},
     "output_type": "display_data"
    },
    {
     "data": {
      "application/vnd.jupyter.widget-view+json": {
       "model_id": "c7c3f7fc822841e7ac4a1782879539d8",
       "version_major": 2,
       "version_minor": 0
      },
      "text/plain": [
       "Batch 274/501:   0%|          | 0/100 [00:00<?, ?it/s]"
      ]
     },
     "metadata": {},
     "output_type": "display_data"
    },
    {
     "data": {
      "application/vnd.jupyter.widget-view+json": {
       "model_id": "a14ba001d26240b394d245a0fa22ea88",
       "version_major": 2,
       "version_minor": 0
      },
      "text/plain": [
       "Batch 275/501:   0%|          | 0/100 [00:00<?, ?it/s]"
      ]
     },
     "metadata": {},
     "output_type": "display_data"
    },
    {
     "data": {
      "application/vnd.jupyter.widget-view+json": {
       "model_id": "14c44807779e484a9a883fd03bf7fd82",
       "version_major": 2,
       "version_minor": 0
      },
      "text/plain": [
       "Batch 276/501:   0%|          | 0/100 [00:00<?, ?it/s]"
      ]
     },
     "metadata": {},
     "output_type": "display_data"
    },
    {
     "data": {
      "application/vnd.jupyter.widget-view+json": {
       "model_id": "d28cd43e6d1c4ad08e6902c21b50a06f",
       "version_major": 2,
       "version_minor": 0
      },
      "text/plain": [
       "Batch 277/501:   0%|          | 0/100 [00:00<?, ?it/s]"
      ]
     },
     "metadata": {},
     "output_type": "display_data"
    },
    {
     "data": {
      "application/vnd.jupyter.widget-view+json": {
       "model_id": "b9a73947dcc84ae28b954fef1505cee8",
       "version_major": 2,
       "version_minor": 0
      },
      "text/plain": [
       "Batch 278/501:   0%|          | 0/100 [00:00<?, ?it/s]"
      ]
     },
     "metadata": {},
     "output_type": "display_data"
    },
    {
     "data": {
      "application/vnd.jupyter.widget-view+json": {
       "model_id": "8b9e07395673473f95bed0b7efebed04",
       "version_major": 2,
       "version_minor": 0
      },
      "text/plain": [
       "Batch 279/501:   0%|          | 0/100 [00:00<?, ?it/s]"
      ]
     },
     "metadata": {},
     "output_type": "display_data"
    },
    {
     "data": {
      "application/vnd.jupyter.widget-view+json": {
       "model_id": "995551e4bf1f48d99bf3557d821507b2",
       "version_major": 2,
       "version_minor": 0
      },
      "text/plain": [
       "Batch 280/501:   0%|          | 0/100 [00:00<?, ?it/s]"
      ]
     },
     "metadata": {},
     "output_type": "display_data"
    },
    {
     "data": {
      "application/vnd.jupyter.widget-view+json": {
       "model_id": "088aeb7477fc447eb51bcf85a2981b6b",
       "version_major": 2,
       "version_minor": 0
      },
      "text/plain": [
       "Batch 281/501:   0%|          | 0/100 [00:00<?, ?it/s]"
      ]
     },
     "metadata": {},
     "output_type": "display_data"
    },
    {
     "data": {
      "application/vnd.jupyter.widget-view+json": {
       "model_id": "33454f8463df4e068992fa742452123f",
       "version_major": 2,
       "version_minor": 0
      },
      "text/plain": [
       "Batch 282/501:   0%|          | 0/100 [00:00<?, ?it/s]"
      ]
     },
     "metadata": {},
     "output_type": "display_data"
    },
    {
     "data": {
      "application/vnd.jupyter.widget-view+json": {
       "model_id": "792c2e1de2ed41898098b8113882d330",
       "version_major": 2,
       "version_minor": 0
      },
      "text/plain": [
       "Batch 283/501:   0%|          | 0/100 [00:00<?, ?it/s]"
      ]
     },
     "metadata": {},
     "output_type": "display_data"
    },
    {
     "data": {
      "application/vnd.jupyter.widget-view+json": {
       "model_id": "fa404ec8dbaf49f0a5bc7e440cd9d4e6",
       "version_major": 2,
       "version_minor": 0
      },
      "text/plain": [
       "Batch 284/501:   0%|          | 0/100 [00:00<?, ?it/s]"
      ]
     },
     "metadata": {},
     "output_type": "display_data"
    },
    {
     "data": {
      "application/vnd.jupyter.widget-view+json": {
       "model_id": "e7f54ebabe6d45ac8c8b2362d378834c",
       "version_major": 2,
       "version_minor": 0
      },
      "text/plain": [
       "Batch 285/501:   0%|          | 0/100 [00:00<?, ?it/s]"
      ]
     },
     "metadata": {},
     "output_type": "display_data"
    },
    {
     "data": {
      "application/vnd.jupyter.widget-view+json": {
       "model_id": "69ff480e8b674edc86ce1b2e9d8fdcb2",
       "version_major": 2,
       "version_minor": 0
      },
      "text/plain": [
       "Batch 286/501:   0%|          | 0/100 [00:00<?, ?it/s]"
      ]
     },
     "metadata": {},
     "output_type": "display_data"
    },
    {
     "data": {
      "application/vnd.jupyter.widget-view+json": {
       "model_id": "97103fc0925b4fb0b1be32abaca8c3a2",
       "version_major": 2,
       "version_minor": 0
      },
      "text/plain": [
       "Batch 287/501:   0%|          | 0/100 [00:00<?, ?it/s]"
      ]
     },
     "metadata": {},
     "output_type": "display_data"
    },
    {
     "data": {
      "application/vnd.jupyter.widget-view+json": {
       "model_id": "7f076e147d34466cb28f94ce45b8fee8",
       "version_major": 2,
       "version_minor": 0
      },
      "text/plain": [
       "Batch 288/501:   0%|          | 0/100 [00:00<?, ?it/s]"
      ]
     },
     "metadata": {},
     "output_type": "display_data"
    },
    {
     "data": {
      "application/vnd.jupyter.widget-view+json": {
       "model_id": "4ac0754bbf7c469ab40cc7512b952e57",
       "version_major": 2,
       "version_minor": 0
      },
      "text/plain": [
       "Batch 289/501:   0%|          | 0/100 [00:00<?, ?it/s]"
      ]
     },
     "metadata": {},
     "output_type": "display_data"
    },
    {
     "data": {
      "application/vnd.jupyter.widget-view+json": {
       "model_id": "e24f034923dd48d5bf27e2c373dc21e0",
       "version_major": 2,
       "version_minor": 0
      },
      "text/plain": [
       "Batch 290/501:   0%|          | 0/100 [00:00<?, ?it/s]"
      ]
     },
     "metadata": {},
     "output_type": "display_data"
    },
    {
     "data": {
      "application/vnd.jupyter.widget-view+json": {
       "model_id": "f144acffd32f4a7ca4d7f58956e60dec",
       "version_major": 2,
       "version_minor": 0
      },
      "text/plain": [
       "Batch 291/501:   0%|          | 0/100 [00:00<?, ?it/s]"
      ]
     },
     "metadata": {},
     "output_type": "display_data"
    },
    {
     "data": {
      "application/vnd.jupyter.widget-view+json": {
       "model_id": "e2dd7d3caf0f4eb58bafa16f4938305b",
       "version_major": 2,
       "version_minor": 0
      },
      "text/plain": [
       "Batch 292/501:   0%|          | 0/100 [00:00<?, ?it/s]"
      ]
     },
     "metadata": {},
     "output_type": "display_data"
    },
    {
     "data": {
      "application/vnd.jupyter.widget-view+json": {
       "model_id": "46efa71902df4ec88deff3bbc91b24ad",
       "version_major": 2,
       "version_minor": 0
      },
      "text/plain": [
       "Batch 293/501:   0%|          | 0/100 [00:00<?, ?it/s]"
      ]
     },
     "metadata": {},
     "output_type": "display_data"
    },
    {
     "data": {
      "application/vnd.jupyter.widget-view+json": {
       "model_id": "f40642c8140b47788f68f023a66c097b",
       "version_major": 2,
       "version_minor": 0
      },
      "text/plain": [
       "Batch 294/501:   0%|          | 0/100 [00:00<?, ?it/s]"
      ]
     },
     "metadata": {},
     "output_type": "display_data"
    },
    {
     "data": {
      "application/vnd.jupyter.widget-view+json": {
       "model_id": "d8c7fe7404594ce0b1caacc1a0d0d168",
       "version_major": 2,
       "version_minor": 0
      },
      "text/plain": [
       "Batch 295/501:   0%|          | 0/100 [00:00<?, ?it/s]"
      ]
     },
     "metadata": {},
     "output_type": "display_data"
    },
    {
     "data": {
      "application/vnd.jupyter.widget-view+json": {
       "model_id": "2e6db5c111c1419597ff7ddd89f7f84e",
       "version_major": 2,
       "version_minor": 0
      },
      "text/plain": [
       "Batch 296/501:   0%|          | 0/100 [00:00<?, ?it/s]"
      ]
     },
     "metadata": {},
     "output_type": "display_data"
    },
    {
     "data": {
      "application/vnd.jupyter.widget-view+json": {
       "model_id": "4c5e961746f94329a183de107811b38d",
       "version_major": 2,
       "version_minor": 0
      },
      "text/plain": [
       "Batch 297/501:   0%|          | 0/100 [00:00<?, ?it/s]"
      ]
     },
     "metadata": {},
     "output_type": "display_data"
    },
    {
     "data": {
      "application/vnd.jupyter.widget-view+json": {
       "model_id": "b6e1f04fe7554aacb639723247ecc56a",
       "version_major": 2,
       "version_minor": 0
      },
      "text/plain": [
       "Batch 298/501:   0%|          | 0/100 [00:00<?, ?it/s]"
      ]
     },
     "metadata": {},
     "output_type": "display_data"
    },
    {
     "data": {
      "application/vnd.jupyter.widget-view+json": {
       "model_id": "77ce5d92707b41739b12e95503787444",
       "version_major": 2,
       "version_minor": 0
      },
      "text/plain": [
       "Batch 299/501:   0%|          | 0/100 [00:00<?, ?it/s]"
      ]
     },
     "metadata": {},
     "output_type": "display_data"
    },
    {
     "data": {
      "application/vnd.jupyter.widget-view+json": {
       "model_id": "06eadde232fd4a9980fd740da07bb3e4",
       "version_major": 2,
       "version_minor": 0
      },
      "text/plain": [
       "Batch 300/501:   0%|          | 0/100 [00:00<?, ?it/s]"
      ]
     },
     "metadata": {},
     "output_type": "display_data"
    },
    {
     "data": {
      "application/vnd.jupyter.widget-view+json": {
       "model_id": "09801455ac1a4afb9d25879a9ef2f054",
       "version_major": 2,
       "version_minor": 0
      },
      "text/plain": [
       "Batch 301/501:   0%|          | 0/100 [00:00<?, ?it/s]"
      ]
     },
     "metadata": {},
     "output_type": "display_data"
    },
    {
     "data": {
      "application/vnd.jupyter.widget-view+json": {
       "model_id": "2e077bc2f9484e54b56d1285d4395581",
       "version_major": 2,
       "version_minor": 0
      },
      "text/plain": [
       "Batch 302/501:   0%|          | 0/100 [00:00<?, ?it/s]"
      ]
     },
     "metadata": {},
     "output_type": "display_data"
    },
    {
     "data": {
      "application/vnd.jupyter.widget-view+json": {
       "model_id": "3b5194bd5ffd453abe928decf5240c06",
       "version_major": 2,
       "version_minor": 0
      },
      "text/plain": [
       "Batch 303/501:   0%|          | 0/100 [00:00<?, ?it/s]"
      ]
     },
     "metadata": {},
     "output_type": "display_data"
    },
    {
     "data": {
      "application/vnd.jupyter.widget-view+json": {
       "model_id": "9c3b72d836a742489bcc4aad39f40949",
       "version_major": 2,
       "version_minor": 0
      },
      "text/plain": [
       "Batch 304/501:   0%|          | 0/100 [00:00<?, ?it/s]"
      ]
     },
     "metadata": {},
     "output_type": "display_data"
    },
    {
     "data": {
      "application/vnd.jupyter.widget-view+json": {
       "model_id": "c42cadbc3c2546afa35e9d10aab705dd",
       "version_major": 2,
       "version_minor": 0
      },
      "text/plain": [
       "Batch 305/501:   0%|          | 0/100 [00:00<?, ?it/s]"
      ]
     },
     "metadata": {},
     "output_type": "display_data"
    },
    {
     "data": {
      "application/vnd.jupyter.widget-view+json": {
       "model_id": "94e60180c1e94381ab076180a1b05fc4",
       "version_major": 2,
       "version_minor": 0
      },
      "text/plain": [
       "Batch 306/501:   0%|          | 0/100 [00:00<?, ?it/s]"
      ]
     },
     "metadata": {},
     "output_type": "display_data"
    },
    {
     "data": {
      "application/vnd.jupyter.widget-view+json": {
       "model_id": "c702612fd5d74b879a5bcc52ca376700",
       "version_major": 2,
       "version_minor": 0
      },
      "text/plain": [
       "Batch 307/501:   0%|          | 0/100 [00:00<?, ?it/s]"
      ]
     },
     "metadata": {},
     "output_type": "display_data"
    },
    {
     "data": {
      "application/vnd.jupyter.widget-view+json": {
       "model_id": "0440ed1a71ad4061ba4af40d7f78eaa7",
       "version_major": 2,
       "version_minor": 0
      },
      "text/plain": [
       "Batch 308/501:   0%|          | 0/100 [00:00<?, ?it/s]"
      ]
     },
     "metadata": {},
     "output_type": "display_data"
    },
    {
     "data": {
      "application/vnd.jupyter.widget-view+json": {
       "model_id": "aab33bd22c254207a33f2d4c9ce3d9ae",
       "version_major": 2,
       "version_minor": 0
      },
      "text/plain": [
       "Batch 309/501:   0%|          | 0/100 [00:00<?, ?it/s]"
      ]
     },
     "metadata": {},
     "output_type": "display_data"
    },
    {
     "data": {
      "application/vnd.jupyter.widget-view+json": {
       "model_id": "4351de0754a94c80ac93440fe902d19a",
       "version_major": 2,
       "version_minor": 0
      },
      "text/plain": [
       "Batch 310/501:   0%|          | 0/100 [00:00<?, ?it/s]"
      ]
     },
     "metadata": {},
     "output_type": "display_data"
    },
    {
     "data": {
      "application/vnd.jupyter.widget-view+json": {
       "model_id": "4c1a9ac1c37c4f3c8bc58dc1c13d98ca",
       "version_major": 2,
       "version_minor": 0
      },
      "text/plain": [
       "Batch 311/501:   0%|          | 0/100 [00:00<?, ?it/s]"
      ]
     },
     "metadata": {},
     "output_type": "display_data"
    },
    {
     "data": {
      "application/vnd.jupyter.widget-view+json": {
       "model_id": "794e3bb8b9e945bc9449188690115500",
       "version_major": 2,
       "version_minor": 0
      },
      "text/plain": [
       "Batch 312/501:   0%|          | 0/100 [00:00<?, ?it/s]"
      ]
     },
     "metadata": {},
     "output_type": "display_data"
    },
    {
     "data": {
      "application/vnd.jupyter.widget-view+json": {
       "model_id": "f0ec70c3b6df4781971bcec831de68b7",
       "version_major": 2,
       "version_minor": 0
      },
      "text/plain": [
       "Batch 313/501:   0%|          | 0/100 [00:00<?, ?it/s]"
      ]
     },
     "metadata": {},
     "output_type": "display_data"
    },
    {
     "data": {
      "application/vnd.jupyter.widget-view+json": {
       "model_id": "68aa6113f74a4d8abb2c6aa0015d0d85",
       "version_major": 2,
       "version_minor": 0
      },
      "text/plain": [
       "Batch 314/501:   0%|          | 0/100 [00:00<?, ?it/s]"
      ]
     },
     "metadata": {},
     "output_type": "display_data"
    },
    {
     "data": {
      "application/vnd.jupyter.widget-view+json": {
       "model_id": "e48237fb47a1474db0ea3a4e9ba2c434",
       "version_major": 2,
       "version_minor": 0
      },
      "text/plain": [
       "Batch 315/501:   0%|          | 0/100 [00:00<?, ?it/s]"
      ]
     },
     "metadata": {},
     "output_type": "display_data"
    },
    {
     "data": {
      "application/vnd.jupyter.widget-view+json": {
       "model_id": "cdf586d0f7b14c5fa319bcb0fb390710",
       "version_major": 2,
       "version_minor": 0
      },
      "text/plain": [
       "Batch 316/501:   0%|          | 0/100 [00:00<?, ?it/s]"
      ]
     },
     "metadata": {},
     "output_type": "display_data"
    },
    {
     "data": {
      "application/vnd.jupyter.widget-view+json": {
       "model_id": "49c51b3232514e6586c42ee919607020",
       "version_major": 2,
       "version_minor": 0
      },
      "text/plain": [
       "Batch 317/501:   0%|          | 0/100 [00:00<?, ?it/s]"
      ]
     },
     "metadata": {},
     "output_type": "display_data"
    },
    {
     "data": {
      "application/vnd.jupyter.widget-view+json": {
       "model_id": "a5c29af39e5d42828cf7688a1e2b8159",
       "version_major": 2,
       "version_minor": 0
      },
      "text/plain": [
       "Batch 318/501:   0%|          | 0/100 [00:00<?, ?it/s]"
      ]
     },
     "metadata": {},
     "output_type": "display_data"
    },
    {
     "data": {
      "application/vnd.jupyter.widget-view+json": {
       "model_id": "1742cdb8f16541b1894c48b13d52fa1e",
       "version_major": 2,
       "version_minor": 0
      },
      "text/plain": [
       "Batch 319/501:   0%|          | 0/100 [00:00<?, ?it/s]"
      ]
     },
     "metadata": {},
     "output_type": "display_data"
    },
    {
     "data": {
      "application/vnd.jupyter.widget-view+json": {
       "model_id": "06d44c361a3e449a9383c54b480de1a8",
       "version_major": 2,
       "version_minor": 0
      },
      "text/plain": [
       "Batch 320/501:   0%|          | 0/100 [00:00<?, ?it/s]"
      ]
     },
     "metadata": {},
     "output_type": "display_data"
    },
    {
     "data": {
      "application/vnd.jupyter.widget-view+json": {
       "model_id": "635e71b31a404599a3b8d111c9b7eda4",
       "version_major": 2,
       "version_minor": 0
      },
      "text/plain": [
       "Batch 321/501:   0%|          | 0/100 [00:00<?, ?it/s]"
      ]
     },
     "metadata": {},
     "output_type": "display_data"
    },
    {
     "data": {
      "application/vnd.jupyter.widget-view+json": {
       "model_id": "7b1d095289ba454aae999e61295ccf8c",
       "version_major": 2,
       "version_minor": 0
      },
      "text/plain": [
       "Batch 322/501:   0%|          | 0/100 [00:00<?, ?it/s]"
      ]
     },
     "metadata": {},
     "output_type": "display_data"
    },
    {
     "data": {
      "application/vnd.jupyter.widget-view+json": {
       "model_id": "14bcc3dead5d4a839516e11bddffe813",
       "version_major": 2,
       "version_minor": 0
      },
      "text/plain": [
       "Batch 323/501:   0%|          | 0/100 [00:00<?, ?it/s]"
      ]
     },
     "metadata": {},
     "output_type": "display_data"
    },
    {
     "data": {
      "application/vnd.jupyter.widget-view+json": {
       "model_id": "d46df6038d834beaac7fa81894ab131b",
       "version_major": 2,
       "version_minor": 0
      },
      "text/plain": [
       "Batch 324/501:   0%|          | 0/100 [00:00<?, ?it/s]"
      ]
     },
     "metadata": {},
     "output_type": "display_data"
    },
    {
     "data": {
      "application/vnd.jupyter.widget-view+json": {
       "model_id": "18351214603e4fb78c8509482b1d24ae",
       "version_major": 2,
       "version_minor": 0
      },
      "text/plain": [
       "Batch 325/501:   0%|          | 0/100 [00:00<?, ?it/s]"
      ]
     },
     "metadata": {},
     "output_type": "display_data"
    },
    {
     "data": {
      "application/vnd.jupyter.widget-view+json": {
       "model_id": "d48bc23fbd0b42759fc971743c484d8c",
       "version_major": 2,
       "version_minor": 0
      },
      "text/plain": [
       "Batch 326/501:   0%|          | 0/100 [00:00<?, ?it/s]"
      ]
     },
     "metadata": {},
     "output_type": "display_data"
    },
    {
     "data": {
      "application/vnd.jupyter.widget-view+json": {
       "model_id": "a51fd927bb1c4f7e9ae25d60884ffeb6",
       "version_major": 2,
       "version_minor": 0
      },
      "text/plain": [
       "Batch 327/501:   0%|          | 0/100 [00:00<?, ?it/s]"
      ]
     },
     "metadata": {},
     "output_type": "display_data"
    },
    {
     "data": {
      "application/vnd.jupyter.widget-view+json": {
       "model_id": "26030d44a155403ab1cd140d8ef587a9",
       "version_major": 2,
       "version_minor": 0
      },
      "text/plain": [
       "Batch 328/501:   0%|          | 0/100 [00:00<?, ?it/s]"
      ]
     },
     "metadata": {},
     "output_type": "display_data"
    },
    {
     "data": {
      "application/vnd.jupyter.widget-view+json": {
       "model_id": "ca3aa374005c432c9996e2cfbc1df1b5",
       "version_major": 2,
       "version_minor": 0
      },
      "text/plain": [
       "Batch 329/501:   0%|          | 0/100 [00:00<?, ?it/s]"
      ]
     },
     "metadata": {},
     "output_type": "display_data"
    },
    {
     "data": {
      "application/vnd.jupyter.widget-view+json": {
       "model_id": "1ffb039dfeb949399effb22031a21c23",
       "version_major": 2,
       "version_minor": 0
      },
      "text/plain": [
       "Batch 330/501:   0%|          | 0/100 [00:00<?, ?it/s]"
      ]
     },
     "metadata": {},
     "output_type": "display_data"
    },
    {
     "data": {
      "application/vnd.jupyter.widget-view+json": {
       "model_id": "2cab050bbb2a479294a99ee84121f6ab",
       "version_major": 2,
       "version_minor": 0
      },
      "text/plain": [
       "Batch 331/501:   0%|          | 0/100 [00:00<?, ?it/s]"
      ]
     },
     "metadata": {},
     "output_type": "display_data"
    },
    {
     "data": {
      "application/vnd.jupyter.widget-view+json": {
       "model_id": "35e5ec4664f74526b611cfb7f4520070",
       "version_major": 2,
       "version_minor": 0
      },
      "text/plain": [
       "Batch 332/501:   0%|          | 0/100 [00:00<?, ?it/s]"
      ]
     },
     "metadata": {},
     "output_type": "display_data"
    },
    {
     "data": {
      "application/vnd.jupyter.widget-view+json": {
       "model_id": "c4b876166e644c5db8ce6c0dedc62235",
       "version_major": 2,
       "version_minor": 0
      },
      "text/plain": [
       "Batch 333/501:   0%|          | 0/100 [00:00<?, ?it/s]"
      ]
     },
     "metadata": {},
     "output_type": "display_data"
    },
    {
     "data": {
      "application/vnd.jupyter.widget-view+json": {
       "model_id": "e779581ce33c44be90eae8197a8d7bcb",
       "version_major": 2,
       "version_minor": 0
      },
      "text/plain": [
       "Batch 334/501:   0%|          | 0/100 [00:00<?, ?it/s]"
      ]
     },
     "metadata": {},
     "output_type": "display_data"
    },
    {
     "data": {
      "application/vnd.jupyter.widget-view+json": {
       "model_id": "9c2647fc681742268f8e9a41856cfb28",
       "version_major": 2,
       "version_minor": 0
      },
      "text/plain": [
       "Batch 335/501:   0%|          | 0/100 [00:00<?, ?it/s]"
      ]
     },
     "metadata": {},
     "output_type": "display_data"
    },
    {
     "data": {
      "application/vnd.jupyter.widget-view+json": {
       "model_id": "f19bb0da98b3466ab3b91576f3d4163b",
       "version_major": 2,
       "version_minor": 0
      },
      "text/plain": [
       "Batch 336/501:   0%|          | 0/100 [00:00<?, ?it/s]"
      ]
     },
     "metadata": {},
     "output_type": "display_data"
    },
    {
     "data": {
      "application/vnd.jupyter.widget-view+json": {
       "model_id": "d4e7aff3065545ca81f19b33c88ddf0b",
       "version_major": 2,
       "version_minor": 0
      },
      "text/plain": [
       "Batch 337/501:   0%|          | 0/100 [00:00<?, ?it/s]"
      ]
     },
     "metadata": {},
     "output_type": "display_data"
    },
    {
     "data": {
      "application/vnd.jupyter.widget-view+json": {
       "model_id": "a268dd75466247faa06908d318384a5a",
       "version_major": 2,
       "version_minor": 0
      },
      "text/plain": [
       "Batch 338/501:   0%|          | 0/100 [00:00<?, ?it/s]"
      ]
     },
     "metadata": {},
     "output_type": "display_data"
    },
    {
     "data": {
      "application/vnd.jupyter.widget-view+json": {
       "model_id": "8a421ae884d04a65a3528ce02591d1a2",
       "version_major": 2,
       "version_minor": 0
      },
      "text/plain": [
       "Batch 339/501:   0%|          | 0/100 [00:00<?, ?it/s]"
      ]
     },
     "metadata": {},
     "output_type": "display_data"
    },
    {
     "data": {
      "application/vnd.jupyter.widget-view+json": {
       "model_id": "a1e97fd4db99416e8629baac102e3a5f",
       "version_major": 2,
       "version_minor": 0
      },
      "text/plain": [
       "Batch 340/501:   0%|          | 0/100 [00:00<?, ?it/s]"
      ]
     },
     "metadata": {},
     "output_type": "display_data"
    },
    {
     "data": {
      "application/vnd.jupyter.widget-view+json": {
       "model_id": "7a7247b9619b4b33b413a5922f2462ce",
       "version_major": 2,
       "version_minor": 0
      },
      "text/plain": [
       "Batch 341/501:   0%|          | 0/100 [00:00<?, ?it/s]"
      ]
     },
     "metadata": {},
     "output_type": "display_data"
    },
    {
     "data": {
      "application/vnd.jupyter.widget-view+json": {
       "model_id": "cf9f1870d76e467da5b4e648890b2a87",
       "version_major": 2,
       "version_minor": 0
      },
      "text/plain": [
       "Batch 342/501:   0%|          | 0/100 [00:00<?, ?it/s]"
      ]
     },
     "metadata": {},
     "output_type": "display_data"
    },
    {
     "data": {
      "application/vnd.jupyter.widget-view+json": {
       "model_id": "75980e1a0132407c99f7cb319f3965d6",
       "version_major": 2,
       "version_minor": 0
      },
      "text/plain": [
       "Batch 343/501:   0%|          | 0/100 [00:00<?, ?it/s]"
      ]
     },
     "metadata": {},
     "output_type": "display_data"
    },
    {
     "data": {
      "application/vnd.jupyter.widget-view+json": {
       "model_id": "a7f3f89cae17491d9017cddeac9dee0c",
       "version_major": 2,
       "version_minor": 0
      },
      "text/plain": [
       "Batch 344/501:   0%|          | 0/100 [00:00<?, ?it/s]"
      ]
     },
     "metadata": {},
     "output_type": "display_data"
    },
    {
     "data": {
      "application/vnd.jupyter.widget-view+json": {
       "model_id": "62857d932b844c53bc207b0d4a3ae331",
       "version_major": 2,
       "version_minor": 0
      },
      "text/plain": [
       "Batch 345/501:   0%|          | 0/100 [00:00<?, ?it/s]"
      ]
     },
     "metadata": {},
     "output_type": "display_data"
    },
    {
     "data": {
      "application/vnd.jupyter.widget-view+json": {
       "model_id": "c2a78a8621304d339ba07f137b91cfa0",
       "version_major": 2,
       "version_minor": 0
      },
      "text/plain": [
       "Batch 346/501:   0%|          | 0/100 [00:00<?, ?it/s]"
      ]
     },
     "metadata": {},
     "output_type": "display_data"
    },
    {
     "data": {
      "application/vnd.jupyter.widget-view+json": {
       "model_id": "f4128e73b40c4554a81491cf7c0553e5",
       "version_major": 2,
       "version_minor": 0
      },
      "text/plain": [
       "Batch 347/501:   0%|          | 0/100 [00:00<?, ?it/s]"
      ]
     },
     "metadata": {},
     "output_type": "display_data"
    },
    {
     "data": {
      "application/vnd.jupyter.widget-view+json": {
       "model_id": "62f1c5bd1d684863b3bcf0f09e10531c",
       "version_major": 2,
       "version_minor": 0
      },
      "text/plain": [
       "Batch 348/501:   0%|          | 0/100 [00:00<?, ?it/s]"
      ]
     },
     "metadata": {},
     "output_type": "display_data"
    },
    {
     "data": {
      "application/vnd.jupyter.widget-view+json": {
       "model_id": "3ccacb6ad2fc45e6b2f970f2166986d2",
       "version_major": 2,
       "version_minor": 0
      },
      "text/plain": [
       "Batch 349/501:   0%|          | 0/100 [00:00<?, ?it/s]"
      ]
     },
     "metadata": {},
     "output_type": "display_data"
    },
    {
     "data": {
      "application/vnd.jupyter.widget-view+json": {
       "model_id": "f95455ab512b4b12a8779197b739fe04",
       "version_major": 2,
       "version_minor": 0
      },
      "text/plain": [
       "Batch 350/501:   0%|          | 0/100 [00:00<?, ?it/s]"
      ]
     },
     "metadata": {},
     "output_type": "display_data"
    },
    {
     "data": {
      "application/vnd.jupyter.widget-view+json": {
       "model_id": "64a2e96f1d7d424295130ea0f99d1c81",
       "version_major": 2,
       "version_minor": 0
      },
      "text/plain": [
       "Batch 351/501:   0%|          | 0/100 [00:00<?, ?it/s]"
      ]
     },
     "metadata": {},
     "output_type": "display_data"
    },
    {
     "data": {
      "application/vnd.jupyter.widget-view+json": {
       "model_id": "a0818d8bdb824603ab31a5fd3cecb071",
       "version_major": 2,
       "version_minor": 0
      },
      "text/plain": [
       "Batch 352/501:   0%|          | 0/100 [00:00<?, ?it/s]"
      ]
     },
     "metadata": {},
     "output_type": "display_data"
    },
    {
     "data": {
      "application/vnd.jupyter.widget-view+json": {
       "model_id": "afc1057211ef4b929d91bf604d3571f1",
       "version_major": 2,
       "version_minor": 0
      },
      "text/plain": [
       "Batch 353/501:   0%|          | 0/100 [00:00<?, ?it/s]"
      ]
     },
     "metadata": {},
     "output_type": "display_data"
    },
    {
     "data": {
      "application/vnd.jupyter.widget-view+json": {
       "model_id": "1e96951eafa74187989b30058d6bdc9b",
       "version_major": 2,
       "version_minor": 0
      },
      "text/plain": [
       "Batch 354/501:   0%|          | 0/100 [00:00<?, ?it/s]"
      ]
     },
     "metadata": {},
     "output_type": "display_data"
    },
    {
     "data": {
      "application/vnd.jupyter.widget-view+json": {
       "model_id": "3521a6bc07fe463a88ee5d5892e2f4c5",
       "version_major": 2,
       "version_minor": 0
      },
      "text/plain": [
       "Batch 355/501:   0%|          | 0/100 [00:00<?, ?it/s]"
      ]
     },
     "metadata": {},
     "output_type": "display_data"
    },
    {
     "data": {
      "application/vnd.jupyter.widget-view+json": {
       "model_id": "c68e2512227045cba3f903dfa76257ea",
       "version_major": 2,
       "version_minor": 0
      },
      "text/plain": [
       "Batch 356/501:   0%|          | 0/100 [00:00<?, ?it/s]"
      ]
     },
     "metadata": {},
     "output_type": "display_data"
    },
    {
     "data": {
      "application/vnd.jupyter.widget-view+json": {
       "model_id": "015aa032d14642e48def2fabd2ff9d77",
       "version_major": 2,
       "version_minor": 0
      },
      "text/plain": [
       "Batch 357/501:   0%|          | 0/100 [00:00<?, ?it/s]"
      ]
     },
     "metadata": {},
     "output_type": "display_data"
    },
    {
     "data": {
      "application/vnd.jupyter.widget-view+json": {
       "model_id": "7a754a60ad8d4b479ec50ae67f84099d",
       "version_major": 2,
       "version_minor": 0
      },
      "text/plain": [
       "Batch 358/501:   0%|          | 0/100 [00:00<?, ?it/s]"
      ]
     },
     "metadata": {},
     "output_type": "display_data"
    },
    {
     "data": {
      "application/vnd.jupyter.widget-view+json": {
       "model_id": "94a03e41404d45d7a7b393b77acff214",
       "version_major": 2,
       "version_minor": 0
      },
      "text/plain": [
       "Batch 359/501:   0%|          | 0/100 [00:00<?, ?it/s]"
      ]
     },
     "metadata": {},
     "output_type": "display_data"
    },
    {
     "data": {
      "application/vnd.jupyter.widget-view+json": {
       "model_id": "ed3ecdc027bb466bab5623cfd6d20f3d",
       "version_major": 2,
       "version_minor": 0
      },
      "text/plain": [
       "Batch 360/501:   0%|          | 0/100 [00:00<?, ?it/s]"
      ]
     },
     "metadata": {},
     "output_type": "display_data"
    },
    {
     "data": {
      "application/vnd.jupyter.widget-view+json": {
       "model_id": "8326d1d2327e4232ab8bd8542df5e428",
       "version_major": 2,
       "version_minor": 0
      },
      "text/plain": [
       "Batch 361/501:   0%|          | 0/100 [00:00<?, ?it/s]"
      ]
     },
     "metadata": {},
     "output_type": "display_data"
    },
    {
     "data": {
      "application/vnd.jupyter.widget-view+json": {
       "model_id": "cddbe36d49904bbda0feb0b49af49049",
       "version_major": 2,
       "version_minor": 0
      },
      "text/plain": [
       "Batch 362/501:   0%|          | 0/100 [00:00<?, ?it/s]"
      ]
     },
     "metadata": {},
     "output_type": "display_data"
    },
    {
     "data": {
      "application/vnd.jupyter.widget-view+json": {
       "model_id": "c1dd4f7ede7740fa9344a48d74a5cf75",
       "version_major": 2,
       "version_minor": 0
      },
      "text/plain": [
       "Batch 363/501:   0%|          | 0/100 [00:00<?, ?it/s]"
      ]
     },
     "metadata": {},
     "output_type": "display_data"
    },
    {
     "data": {
      "application/vnd.jupyter.widget-view+json": {
       "model_id": "bce842d276694188bafa4e397797fd88",
       "version_major": 2,
       "version_minor": 0
      },
      "text/plain": [
       "Batch 364/501:   0%|          | 0/100 [00:00<?, ?it/s]"
      ]
     },
     "metadata": {},
     "output_type": "display_data"
    },
    {
     "data": {
      "application/vnd.jupyter.widget-view+json": {
       "model_id": "0b524e706296410ea7205f348d8360ee",
       "version_major": 2,
       "version_minor": 0
      },
      "text/plain": [
       "Batch 365/501:   0%|          | 0/100 [00:00<?, ?it/s]"
      ]
     },
     "metadata": {},
     "output_type": "display_data"
    },
    {
     "data": {
      "application/vnd.jupyter.widget-view+json": {
       "model_id": "c3597372e15c453996a0e4c9f8008cad",
       "version_major": 2,
       "version_minor": 0
      },
      "text/plain": [
       "Batch 366/501:   0%|          | 0/100 [00:00<?, ?it/s]"
      ]
     },
     "metadata": {},
     "output_type": "display_data"
    },
    {
     "data": {
      "application/vnd.jupyter.widget-view+json": {
       "model_id": "e6ab3f49de4f423ea916160636e3d2ca",
       "version_major": 2,
       "version_minor": 0
      },
      "text/plain": [
       "Batch 367/501:   0%|          | 0/100 [00:00<?, ?it/s]"
      ]
     },
     "metadata": {},
     "output_type": "display_data"
    },
    {
     "data": {
      "application/vnd.jupyter.widget-view+json": {
       "model_id": "31965fcdee9a4f2e8e309131652282db",
       "version_major": 2,
       "version_minor": 0
      },
      "text/plain": [
       "Batch 368/501:   0%|          | 0/100 [00:00<?, ?it/s]"
      ]
     },
     "metadata": {},
     "output_type": "display_data"
    },
    {
     "data": {
      "application/vnd.jupyter.widget-view+json": {
       "model_id": "5524c0b4cb1e41c78ab94c10dbb6bd0f",
       "version_major": 2,
       "version_minor": 0
      },
      "text/plain": [
       "Batch 369/501:   0%|          | 0/100 [00:00<?, ?it/s]"
      ]
     },
     "metadata": {},
     "output_type": "display_data"
    },
    {
     "data": {
      "application/vnd.jupyter.widget-view+json": {
       "model_id": "5143e8ac166b49e6881e09d4a6316d49",
       "version_major": 2,
       "version_minor": 0
      },
      "text/plain": [
       "Batch 370/501:   0%|          | 0/100 [00:00<?, ?it/s]"
      ]
     },
     "metadata": {},
     "output_type": "display_data"
    },
    {
     "data": {
      "application/vnd.jupyter.widget-view+json": {
       "model_id": "8524a873121b435dbdb10242a40f36e1",
       "version_major": 2,
       "version_minor": 0
      },
      "text/plain": [
       "Batch 371/501:   0%|          | 0/100 [00:00<?, ?it/s]"
      ]
     },
     "metadata": {},
     "output_type": "display_data"
    },
    {
     "data": {
      "application/vnd.jupyter.widget-view+json": {
       "model_id": "558a289084c34b988ea65af1c10fba16",
       "version_major": 2,
       "version_minor": 0
      },
      "text/plain": [
       "Batch 372/501:   0%|          | 0/100 [00:00<?, ?it/s]"
      ]
     },
     "metadata": {},
     "output_type": "display_data"
    },
    {
     "data": {
      "application/vnd.jupyter.widget-view+json": {
       "model_id": "10d0c55e9b7e4e3082b417588c304a17",
       "version_major": 2,
       "version_minor": 0
      },
      "text/plain": [
       "Batch 373/501:   0%|          | 0/100 [00:00<?, ?it/s]"
      ]
     },
     "metadata": {},
     "output_type": "display_data"
    },
    {
     "data": {
      "application/vnd.jupyter.widget-view+json": {
       "model_id": "e44e9ccfd7dd4776b26fdcc88388ce4c",
       "version_major": 2,
       "version_minor": 0
      },
      "text/plain": [
       "Batch 374/501:   0%|          | 0/100 [00:00<?, ?it/s]"
      ]
     },
     "metadata": {},
     "output_type": "display_data"
    },
    {
     "data": {
      "application/vnd.jupyter.widget-view+json": {
       "model_id": "b593a34f16964530951f1b19246054ae",
       "version_major": 2,
       "version_minor": 0
      },
      "text/plain": [
       "Batch 375/501:   0%|          | 0/100 [00:00<?, ?it/s]"
      ]
     },
     "metadata": {},
     "output_type": "display_data"
    },
    {
     "data": {
      "application/vnd.jupyter.widget-view+json": {
       "model_id": "6daad46dfeaf4b31b29b24aa322a9e72",
       "version_major": 2,
       "version_minor": 0
      },
      "text/plain": [
       "Batch 376/501:   0%|          | 0/100 [00:00<?, ?it/s]"
      ]
     },
     "metadata": {},
     "output_type": "display_data"
    },
    {
     "data": {
      "application/vnd.jupyter.widget-view+json": {
       "model_id": "970678b46c854efebd8c5ee79c7f5959",
       "version_major": 2,
       "version_minor": 0
      },
      "text/plain": [
       "Batch 377/501:   0%|          | 0/100 [00:00<?, ?it/s]"
      ]
     },
     "metadata": {},
     "output_type": "display_data"
    },
    {
     "data": {
      "application/vnd.jupyter.widget-view+json": {
       "model_id": "aaf972b36b8142ce878a5b81dd6c9389",
       "version_major": 2,
       "version_minor": 0
      },
      "text/plain": [
       "Batch 378/501:   0%|          | 0/100 [00:00<?, ?it/s]"
      ]
     },
     "metadata": {},
     "output_type": "display_data"
    },
    {
     "data": {
      "application/vnd.jupyter.widget-view+json": {
       "model_id": "b71fe05c68494164bce3c32cbaa667a1",
       "version_major": 2,
       "version_minor": 0
      },
      "text/plain": [
       "Batch 379/501:   0%|          | 0/100 [00:00<?, ?it/s]"
      ]
     },
     "metadata": {},
     "output_type": "display_data"
    },
    {
     "data": {
      "application/vnd.jupyter.widget-view+json": {
       "model_id": "33b1ff4b9ba843c9ba3a584f2ea492ca",
       "version_major": 2,
       "version_minor": 0
      },
      "text/plain": [
       "Batch 380/501:   0%|          | 0/100 [00:00<?, ?it/s]"
      ]
     },
     "metadata": {},
     "output_type": "display_data"
    },
    {
     "data": {
      "application/vnd.jupyter.widget-view+json": {
       "model_id": "09bf317fac8d477e862a3df6defcc24b",
       "version_major": 2,
       "version_minor": 0
      },
      "text/plain": [
       "Batch 381/501:   0%|          | 0/100 [00:00<?, ?it/s]"
      ]
     },
     "metadata": {},
     "output_type": "display_data"
    },
    {
     "data": {
      "application/vnd.jupyter.widget-view+json": {
       "model_id": "e96d55d93b554152903449f114f8e935",
       "version_major": 2,
       "version_minor": 0
      },
      "text/plain": [
       "Batch 382/501:   0%|          | 0/100 [00:00<?, ?it/s]"
      ]
     },
     "metadata": {},
     "output_type": "display_data"
    },
    {
     "data": {
      "application/vnd.jupyter.widget-view+json": {
       "model_id": "3004c4943acb44edb1824e7aebacfb4f",
       "version_major": 2,
       "version_minor": 0
      },
      "text/plain": [
       "Batch 383/501:   0%|          | 0/100 [00:00<?, ?it/s]"
      ]
     },
     "metadata": {},
     "output_type": "display_data"
    },
    {
     "data": {
      "application/vnd.jupyter.widget-view+json": {
       "model_id": "3c5f4f25a394412e9c9e1c200cc183eb",
       "version_major": 2,
       "version_minor": 0
      },
      "text/plain": [
       "Batch 384/501:   0%|          | 0/100 [00:00<?, ?it/s]"
      ]
     },
     "metadata": {},
     "output_type": "display_data"
    },
    {
     "data": {
      "application/vnd.jupyter.widget-view+json": {
       "model_id": "2c0c74cc39304c28a17f6bac8eb6d17e",
       "version_major": 2,
       "version_minor": 0
      },
      "text/plain": [
       "Batch 385/501:   0%|          | 0/100 [00:00<?, ?it/s]"
      ]
     },
     "metadata": {},
     "output_type": "display_data"
    },
    {
     "data": {
      "application/vnd.jupyter.widget-view+json": {
       "model_id": "64ed7a8a1c644dcaa18ce48e56045b77",
       "version_major": 2,
       "version_minor": 0
      },
      "text/plain": [
       "Batch 386/501:   0%|          | 0/100 [00:00<?, ?it/s]"
      ]
     },
     "metadata": {},
     "output_type": "display_data"
    },
    {
     "data": {
      "application/vnd.jupyter.widget-view+json": {
       "model_id": "08063367c1c047faab871866609706e8",
       "version_major": 2,
       "version_minor": 0
      },
      "text/plain": [
       "Batch 387/501:   0%|          | 0/100 [00:00<?, ?it/s]"
      ]
     },
     "metadata": {},
     "output_type": "display_data"
    },
    {
     "data": {
      "application/vnd.jupyter.widget-view+json": {
       "model_id": "4ea4735157234e029ea11720839de142",
       "version_major": 2,
       "version_minor": 0
      },
      "text/plain": [
       "Batch 388/501:   0%|          | 0/100 [00:00<?, ?it/s]"
      ]
     },
     "metadata": {},
     "output_type": "display_data"
    },
    {
     "data": {
      "application/vnd.jupyter.widget-view+json": {
       "model_id": "07c3352ca72d42d0beef5ec5342fb048",
       "version_major": 2,
       "version_minor": 0
      },
      "text/plain": [
       "Batch 389/501:   0%|          | 0/100 [00:00<?, ?it/s]"
      ]
     },
     "metadata": {},
     "output_type": "display_data"
    },
    {
     "data": {
      "application/vnd.jupyter.widget-view+json": {
       "model_id": "98ee9aa13aec4f408b209afd27c4ae41",
       "version_major": 2,
       "version_minor": 0
      },
      "text/plain": [
       "Batch 390/501:   0%|          | 0/100 [00:00<?, ?it/s]"
      ]
     },
     "metadata": {},
     "output_type": "display_data"
    },
    {
     "data": {
      "application/vnd.jupyter.widget-view+json": {
       "model_id": "7449ade9769a486eb55a2ac3d150f8ab",
       "version_major": 2,
       "version_minor": 0
      },
      "text/plain": [
       "Batch 391/501:   0%|          | 0/100 [00:00<?, ?it/s]"
      ]
     },
     "metadata": {},
     "output_type": "display_data"
    },
    {
     "data": {
      "application/vnd.jupyter.widget-view+json": {
       "model_id": "f4f5825754e540a9930dbb0a29046bb1",
       "version_major": 2,
       "version_minor": 0
      },
      "text/plain": [
       "Batch 392/501:   0%|          | 0/100 [00:00<?, ?it/s]"
      ]
     },
     "metadata": {},
     "output_type": "display_data"
    },
    {
     "data": {
      "application/vnd.jupyter.widget-view+json": {
       "model_id": "8c9b71d45cf74748bdd0a0324ca35c01",
       "version_major": 2,
       "version_minor": 0
      },
      "text/plain": [
       "Batch 393/501:   0%|          | 0/100 [00:00<?, ?it/s]"
      ]
     },
     "metadata": {},
     "output_type": "display_data"
    },
    {
     "data": {
      "application/vnd.jupyter.widget-view+json": {
       "model_id": "0c591443fd244b6b887df17e8b9c82b5",
       "version_major": 2,
       "version_minor": 0
      },
      "text/plain": [
       "Batch 394/501:   0%|          | 0/100 [00:00<?, ?it/s]"
      ]
     },
     "metadata": {},
     "output_type": "display_data"
    },
    {
     "data": {
      "application/vnd.jupyter.widget-view+json": {
       "model_id": "eb7024ec62cb4909993e4d04e6177523",
       "version_major": 2,
       "version_minor": 0
      },
      "text/plain": [
       "Batch 395/501:   0%|          | 0/100 [00:00<?, ?it/s]"
      ]
     },
     "metadata": {},
     "output_type": "display_data"
    },
    {
     "data": {
      "application/vnd.jupyter.widget-view+json": {
       "model_id": "8bb9b14f701e479d9f14810b313f600f",
       "version_major": 2,
       "version_minor": 0
      },
      "text/plain": [
       "Batch 396/501:   0%|          | 0/100 [00:00<?, ?it/s]"
      ]
     },
     "metadata": {},
     "output_type": "display_data"
    },
    {
     "data": {
      "application/vnd.jupyter.widget-view+json": {
       "model_id": "93fd799719cf491ead2dadee5dcb912a",
       "version_major": 2,
       "version_minor": 0
      },
      "text/plain": [
       "Batch 397/501:   0%|          | 0/100 [00:00<?, ?it/s]"
      ]
     },
     "metadata": {},
     "output_type": "display_data"
    },
    {
     "data": {
      "application/vnd.jupyter.widget-view+json": {
       "model_id": "cff0d1177c9b4e20a2b177eaba3e8fae",
       "version_major": 2,
       "version_minor": 0
      },
      "text/plain": [
       "Batch 398/501:   0%|          | 0/100 [00:00<?, ?it/s]"
      ]
     },
     "metadata": {},
     "output_type": "display_data"
    },
    {
     "data": {
      "application/vnd.jupyter.widget-view+json": {
       "model_id": "ab6aa279d12b47c2ab99684a973f6091",
       "version_major": 2,
       "version_minor": 0
      },
      "text/plain": [
       "Batch 399/501:   0%|          | 0/100 [00:00<?, ?it/s]"
      ]
     },
     "metadata": {},
     "output_type": "display_data"
    },
    {
     "data": {
      "application/vnd.jupyter.widget-view+json": {
       "model_id": "c211ac6864b64e3b8f71472023c23152",
       "version_major": 2,
       "version_minor": 0
      },
      "text/plain": [
       "Batch 400/501:   0%|          | 0/100 [00:00<?, ?it/s]"
      ]
     },
     "metadata": {},
     "output_type": "display_data"
    },
    {
     "data": {
      "application/vnd.jupyter.widget-view+json": {
       "model_id": "4f93312cf4f547edb2e449dee496f6f1",
       "version_major": 2,
       "version_minor": 0
      },
      "text/plain": [
       "Batch 401/501:   0%|          | 0/100 [00:00<?, ?it/s]"
      ]
     },
     "metadata": {},
     "output_type": "display_data"
    },
    {
     "data": {
      "application/vnd.jupyter.widget-view+json": {
       "model_id": "afca82e2259e45ff9aa09d2e801f2be7",
       "version_major": 2,
       "version_minor": 0
      },
      "text/plain": [
       "Batch 402/501:   0%|          | 0/100 [00:00<?, ?it/s]"
      ]
     },
     "metadata": {},
     "output_type": "display_data"
    },
    {
     "data": {
      "application/vnd.jupyter.widget-view+json": {
       "model_id": "f41138dd8c78417d99b375512f8399d3",
       "version_major": 2,
       "version_minor": 0
      },
      "text/plain": [
       "Batch 403/501:   0%|          | 0/100 [00:00<?, ?it/s]"
      ]
     },
     "metadata": {},
     "output_type": "display_data"
    },
    {
     "data": {
      "application/vnd.jupyter.widget-view+json": {
       "model_id": "b740d789cf50450c966f4791b183db38",
       "version_major": 2,
       "version_minor": 0
      },
      "text/plain": [
       "Batch 404/501:   0%|          | 0/100 [00:00<?, ?it/s]"
      ]
     },
     "metadata": {},
     "output_type": "display_data"
    },
    {
     "data": {
      "application/vnd.jupyter.widget-view+json": {
       "model_id": "bc4530a878fc4b419f26317059c202d5",
       "version_major": 2,
       "version_minor": 0
      },
      "text/plain": [
       "Batch 405/501:   0%|          | 0/100 [00:00<?, ?it/s]"
      ]
     },
     "metadata": {},
     "output_type": "display_data"
    },
    {
     "data": {
      "application/vnd.jupyter.widget-view+json": {
       "model_id": "8cbcca1c259b46aebd11923bf5f0d07b",
       "version_major": 2,
       "version_minor": 0
      },
      "text/plain": [
       "Batch 406/501:   0%|          | 0/100 [00:00<?, ?it/s]"
      ]
     },
     "metadata": {},
     "output_type": "display_data"
    },
    {
     "data": {
      "application/vnd.jupyter.widget-view+json": {
       "model_id": "3b86ec0cf894470592813d34991ff19f",
       "version_major": 2,
       "version_minor": 0
      },
      "text/plain": [
       "Batch 407/501:   0%|          | 0/100 [00:00<?, ?it/s]"
      ]
     },
     "metadata": {},
     "output_type": "display_data"
    },
    {
     "data": {
      "application/vnd.jupyter.widget-view+json": {
       "model_id": "ee1545295aa04c209354f02b18854ca5",
       "version_major": 2,
       "version_minor": 0
      },
      "text/plain": [
       "Batch 408/501:   0%|          | 0/100 [00:00<?, ?it/s]"
      ]
     },
     "metadata": {},
     "output_type": "display_data"
    },
    {
     "data": {
      "application/vnd.jupyter.widget-view+json": {
       "model_id": "1dd2708925f64870b37d1202a53980dc",
       "version_major": 2,
       "version_minor": 0
      },
      "text/plain": [
       "Batch 409/501:   0%|          | 0/100 [00:00<?, ?it/s]"
      ]
     },
     "metadata": {},
     "output_type": "display_data"
    },
    {
     "data": {
      "application/vnd.jupyter.widget-view+json": {
       "model_id": "5b11a6b6f1a04f59b50fd2c8c727c7c2",
       "version_major": 2,
       "version_minor": 0
      },
      "text/plain": [
       "Batch 410/501:   0%|          | 0/100 [00:00<?, ?it/s]"
      ]
     },
     "metadata": {},
     "output_type": "display_data"
    },
    {
     "data": {
      "application/vnd.jupyter.widget-view+json": {
       "model_id": "6b5971b707044949a53facf13369f4c5",
       "version_major": 2,
       "version_minor": 0
      },
      "text/plain": [
       "Batch 411/501:   0%|          | 0/100 [00:00<?, ?it/s]"
      ]
     },
     "metadata": {},
     "output_type": "display_data"
    },
    {
     "data": {
      "application/vnd.jupyter.widget-view+json": {
       "model_id": "64708fa96f5c4c5b88a6918fdbf37fa0",
       "version_major": 2,
       "version_minor": 0
      },
      "text/plain": [
       "Batch 412/501:   0%|          | 0/100 [00:00<?, ?it/s]"
      ]
     },
     "metadata": {},
     "output_type": "display_data"
    },
    {
     "data": {
      "application/vnd.jupyter.widget-view+json": {
       "model_id": "add5a5ccb9d740bb9c91d85447ae5a71",
       "version_major": 2,
       "version_minor": 0
      },
      "text/plain": [
       "Batch 413/501:   0%|          | 0/100 [00:00<?, ?it/s]"
      ]
     },
     "metadata": {},
     "output_type": "display_data"
    },
    {
     "data": {
      "application/vnd.jupyter.widget-view+json": {
       "model_id": "3ced72867306412fbbf5ed7406af2494",
       "version_major": 2,
       "version_minor": 0
      },
      "text/plain": [
       "Batch 414/501:   0%|          | 0/100 [00:00<?, ?it/s]"
      ]
     },
     "metadata": {},
     "output_type": "display_data"
    },
    {
     "data": {
      "application/vnd.jupyter.widget-view+json": {
       "model_id": "f68d46d1a8f249fe818e6394c211291b",
       "version_major": 2,
       "version_minor": 0
      },
      "text/plain": [
       "Batch 415/501:   0%|          | 0/100 [00:00<?, ?it/s]"
      ]
     },
     "metadata": {},
     "output_type": "display_data"
    },
    {
     "data": {
      "application/vnd.jupyter.widget-view+json": {
       "model_id": "0b6399922aeb477a8e3dcd20acd0c304",
       "version_major": 2,
       "version_minor": 0
      },
      "text/plain": [
       "Batch 416/501:   0%|          | 0/100 [00:00<?, ?it/s]"
      ]
     },
     "metadata": {},
     "output_type": "display_data"
    },
    {
     "data": {
      "application/vnd.jupyter.widget-view+json": {
       "model_id": "a98aae6ee19a410ba070ae33988b52f1",
       "version_major": 2,
       "version_minor": 0
      },
      "text/plain": [
       "Batch 417/501:   0%|          | 0/100 [00:00<?, ?it/s]"
      ]
     },
     "metadata": {},
     "output_type": "display_data"
    },
    {
     "data": {
      "application/vnd.jupyter.widget-view+json": {
       "model_id": "b0bf7f9b8bec46acad774c65f32fdbc0",
       "version_major": 2,
       "version_minor": 0
      },
      "text/plain": [
       "Batch 418/501:   0%|          | 0/100 [00:00<?, ?it/s]"
      ]
     },
     "metadata": {},
     "output_type": "display_data"
    },
    {
     "data": {
      "application/vnd.jupyter.widget-view+json": {
       "model_id": "f1406f16039a483f801baa016ef596ac",
       "version_major": 2,
       "version_minor": 0
      },
      "text/plain": [
       "Batch 419/501:   0%|          | 0/100 [00:00<?, ?it/s]"
      ]
     },
     "metadata": {},
     "output_type": "display_data"
    },
    {
     "data": {
      "application/vnd.jupyter.widget-view+json": {
       "model_id": "f73929ea3afe457c8ea2f358e623a555",
       "version_major": 2,
       "version_minor": 0
      },
      "text/plain": [
       "Batch 420/501:   0%|          | 0/100 [00:00<?, ?it/s]"
      ]
     },
     "metadata": {},
     "output_type": "display_data"
    },
    {
     "data": {
      "application/vnd.jupyter.widget-view+json": {
       "model_id": "80225160f7ee4df9b4d0aed7012bcf65",
       "version_major": 2,
       "version_minor": 0
      },
      "text/plain": [
       "Batch 421/501:   0%|          | 0/100 [00:00<?, ?it/s]"
      ]
     },
     "metadata": {},
     "output_type": "display_data"
    },
    {
     "data": {
      "application/vnd.jupyter.widget-view+json": {
       "model_id": "81fe7b363f464743bb679d98c08c7fe0",
       "version_major": 2,
       "version_minor": 0
      },
      "text/plain": [
       "Batch 422/501:   0%|          | 0/100 [00:00<?, ?it/s]"
      ]
     },
     "metadata": {},
     "output_type": "display_data"
    },
    {
     "data": {
      "application/vnd.jupyter.widget-view+json": {
       "model_id": "b041276b21cb426f9f3da03de4b965d0",
       "version_major": 2,
       "version_minor": 0
      },
      "text/plain": [
       "Batch 423/501:   0%|          | 0/100 [00:00<?, ?it/s]"
      ]
     },
     "metadata": {},
     "output_type": "display_data"
    },
    {
     "data": {
      "application/vnd.jupyter.widget-view+json": {
       "model_id": "24e91ae1a8ff4ebaa71cae2428326329",
       "version_major": 2,
       "version_minor": 0
      },
      "text/plain": [
       "Batch 424/501:   0%|          | 0/100 [00:00<?, ?it/s]"
      ]
     },
     "metadata": {},
     "output_type": "display_data"
    },
    {
     "data": {
      "application/vnd.jupyter.widget-view+json": {
       "model_id": "75517ebe2cfe42248671adda8572bc24",
       "version_major": 2,
       "version_minor": 0
      },
      "text/plain": [
       "Batch 425/501:   0%|          | 0/100 [00:00<?, ?it/s]"
      ]
     },
     "metadata": {},
     "output_type": "display_data"
    },
    {
     "data": {
      "application/vnd.jupyter.widget-view+json": {
       "model_id": "62a25e77012f415e9d7cfaf6870071b5",
       "version_major": 2,
       "version_minor": 0
      },
      "text/plain": [
       "Batch 426/501:   0%|          | 0/100 [00:00<?, ?it/s]"
      ]
     },
     "metadata": {},
     "output_type": "display_data"
    },
    {
     "data": {
      "application/vnd.jupyter.widget-view+json": {
       "model_id": "9808b9df60e34b81948bdbea1b4d34dc",
       "version_major": 2,
       "version_minor": 0
      },
      "text/plain": [
       "Batch 427/501:   0%|          | 0/100 [00:00<?, ?it/s]"
      ]
     },
     "metadata": {},
     "output_type": "display_data"
    },
    {
     "data": {
      "application/vnd.jupyter.widget-view+json": {
       "model_id": "6218899c02c44de49c333d143a60d699",
       "version_major": 2,
       "version_minor": 0
      },
      "text/plain": [
       "Batch 428/501:   0%|          | 0/100 [00:00<?, ?it/s]"
      ]
     },
     "metadata": {},
     "output_type": "display_data"
    },
    {
     "data": {
      "application/vnd.jupyter.widget-view+json": {
       "model_id": "e9af190e3a0043b88de8e1d59c61039e",
       "version_major": 2,
       "version_minor": 0
      },
      "text/plain": [
       "Batch 429/501:   0%|          | 0/100 [00:00<?, ?it/s]"
      ]
     },
     "metadata": {},
     "output_type": "display_data"
    },
    {
     "data": {
      "application/vnd.jupyter.widget-view+json": {
       "model_id": "4a5eb25512ac4ebcbe86e52b33f3c560",
       "version_major": 2,
       "version_minor": 0
      },
      "text/plain": [
       "Batch 430/501:   0%|          | 0/100 [00:00<?, ?it/s]"
      ]
     },
     "metadata": {},
     "output_type": "display_data"
    },
    {
     "data": {
      "application/vnd.jupyter.widget-view+json": {
       "model_id": "1dae90d854a442fa9b0b9fcc3e551216",
       "version_major": 2,
       "version_minor": 0
      },
      "text/plain": [
       "Batch 431/501:   0%|          | 0/100 [00:00<?, ?it/s]"
      ]
     },
     "metadata": {},
     "output_type": "display_data"
    },
    {
     "data": {
      "application/vnd.jupyter.widget-view+json": {
       "model_id": "cb5712904ca646f3a614cc5dcada5571",
       "version_major": 2,
       "version_minor": 0
      },
      "text/plain": [
       "Batch 432/501:   0%|          | 0/100 [00:00<?, ?it/s]"
      ]
     },
     "metadata": {},
     "output_type": "display_data"
    },
    {
     "data": {
      "application/vnd.jupyter.widget-view+json": {
       "model_id": "9b52f9fcf6f5444485ea29af3e05a1cf",
       "version_major": 2,
       "version_minor": 0
      },
      "text/plain": [
       "Batch 433/501:   0%|          | 0/100 [00:00<?, ?it/s]"
      ]
     },
     "metadata": {},
     "output_type": "display_data"
    },
    {
     "data": {
      "application/vnd.jupyter.widget-view+json": {
       "model_id": "9e63924dd31c4ee38869c022012089e5",
       "version_major": 2,
       "version_minor": 0
      },
      "text/plain": [
       "Batch 434/501:   0%|          | 0/100 [00:00<?, ?it/s]"
      ]
     },
     "metadata": {},
     "output_type": "display_data"
    },
    {
     "data": {
      "application/vnd.jupyter.widget-view+json": {
       "model_id": "e49045d63e4d40159e7283e4a7b8a70b",
       "version_major": 2,
       "version_minor": 0
      },
      "text/plain": [
       "Batch 435/501:   0%|          | 0/100 [00:00<?, ?it/s]"
      ]
     },
     "metadata": {},
     "output_type": "display_data"
    },
    {
     "data": {
      "application/vnd.jupyter.widget-view+json": {
       "model_id": "e6bfc71ab8864d4daf372b1e771bc4d2",
       "version_major": 2,
       "version_minor": 0
      },
      "text/plain": [
       "Batch 436/501:   0%|          | 0/100 [00:00<?, ?it/s]"
      ]
     },
     "metadata": {},
     "output_type": "display_data"
    },
    {
     "data": {
      "application/vnd.jupyter.widget-view+json": {
       "model_id": "08096b83827c45559d04b61e2d3e6556",
       "version_major": 2,
       "version_minor": 0
      },
      "text/plain": [
       "Batch 437/501:   0%|          | 0/100 [00:00<?, ?it/s]"
      ]
     },
     "metadata": {},
     "output_type": "display_data"
    },
    {
     "data": {
      "application/vnd.jupyter.widget-view+json": {
       "model_id": "a8e484ba38c845aea57bac2ecb8656ed",
       "version_major": 2,
       "version_minor": 0
      },
      "text/plain": [
       "Batch 438/501:   0%|          | 0/100 [00:00<?, ?it/s]"
      ]
     },
     "metadata": {},
     "output_type": "display_data"
    },
    {
     "data": {
      "application/vnd.jupyter.widget-view+json": {
       "model_id": "0014930c799e4608bda1143917980e65",
       "version_major": 2,
       "version_minor": 0
      },
      "text/plain": [
       "Batch 439/501:   0%|          | 0/100 [00:00<?, ?it/s]"
      ]
     },
     "metadata": {},
     "output_type": "display_data"
    },
    {
     "data": {
      "application/vnd.jupyter.widget-view+json": {
       "model_id": "09562342ab774c6cb6a65d8b7d0d9d0f",
       "version_major": 2,
       "version_minor": 0
      },
      "text/plain": [
       "Batch 440/501:   0%|          | 0/100 [00:00<?, ?it/s]"
      ]
     },
     "metadata": {},
     "output_type": "display_data"
    },
    {
     "data": {
      "application/vnd.jupyter.widget-view+json": {
       "model_id": "12f768b5006e41d888d1b9fb12e72cbc",
       "version_major": 2,
       "version_minor": 0
      },
      "text/plain": [
       "Batch 441/501:   0%|          | 0/100 [00:00<?, ?it/s]"
      ]
     },
     "metadata": {},
     "output_type": "display_data"
    },
    {
     "data": {
      "application/vnd.jupyter.widget-view+json": {
       "model_id": "e2263bb492df45dd83be0540cb9ac654",
       "version_major": 2,
       "version_minor": 0
      },
      "text/plain": [
       "Batch 442/501:   0%|          | 0/100 [00:00<?, ?it/s]"
      ]
     },
     "metadata": {},
     "output_type": "display_data"
    },
    {
     "data": {
      "application/vnd.jupyter.widget-view+json": {
       "model_id": "49744921a12245349285ecad600699ad",
       "version_major": 2,
       "version_minor": 0
      },
      "text/plain": [
       "Batch 443/501:   0%|          | 0/100 [00:00<?, ?it/s]"
      ]
     },
     "metadata": {},
     "output_type": "display_data"
    },
    {
     "data": {
      "application/vnd.jupyter.widget-view+json": {
       "model_id": "5245383354d841d1917e17d29e1b4b46",
       "version_major": 2,
       "version_minor": 0
      },
      "text/plain": [
       "Batch 444/501:   0%|          | 0/100 [00:00<?, ?it/s]"
      ]
     },
     "metadata": {},
     "output_type": "display_data"
    },
    {
     "data": {
      "application/vnd.jupyter.widget-view+json": {
       "model_id": "e5a32a35197b4a4fa68892cbac6e13f3",
       "version_major": 2,
       "version_minor": 0
      },
      "text/plain": [
       "Batch 445/501:   0%|          | 0/100 [00:00<?, ?it/s]"
      ]
     },
     "metadata": {},
     "output_type": "display_data"
    },
    {
     "data": {
      "application/vnd.jupyter.widget-view+json": {
       "model_id": "2e060c30f7964632aeb54c4f20faa2ee",
       "version_major": 2,
       "version_minor": 0
      },
      "text/plain": [
       "Batch 446/501:   0%|          | 0/100 [00:00<?, ?it/s]"
      ]
     },
     "metadata": {},
     "output_type": "display_data"
    },
    {
     "data": {
      "application/vnd.jupyter.widget-view+json": {
       "model_id": "bed9113ac3fd44a79559b0a99ce1f858",
       "version_major": 2,
       "version_minor": 0
      },
      "text/plain": [
       "Batch 447/501:   0%|          | 0/100 [00:00<?, ?it/s]"
      ]
     },
     "metadata": {},
     "output_type": "display_data"
    },
    {
     "data": {
      "application/vnd.jupyter.widget-view+json": {
       "model_id": "68be0f7f4b2d4a18b8076792d788079f",
       "version_major": 2,
       "version_minor": 0
      },
      "text/plain": [
       "Batch 448/501:   0%|          | 0/100 [00:00<?, ?it/s]"
      ]
     },
     "metadata": {},
     "output_type": "display_data"
    },
    {
     "data": {
      "application/vnd.jupyter.widget-view+json": {
       "model_id": "bf95c0a9bb6149fbb016a493cdf6173b",
       "version_major": 2,
       "version_minor": 0
      },
      "text/plain": [
       "Batch 449/501:   0%|          | 0/100 [00:00<?, ?it/s]"
      ]
     },
     "metadata": {},
     "output_type": "display_data"
    },
    {
     "data": {
      "application/vnd.jupyter.widget-view+json": {
       "model_id": "33faa26b78f346b4b1106614395d7049",
       "version_major": 2,
       "version_minor": 0
      },
      "text/plain": [
       "Batch 450/501:   0%|          | 0/100 [00:00<?, ?it/s]"
      ]
     },
     "metadata": {},
     "output_type": "display_data"
    },
    {
     "data": {
      "application/vnd.jupyter.widget-view+json": {
       "model_id": "21dce9f5d81a453e87d8e2842722499c",
       "version_major": 2,
       "version_minor": 0
      },
      "text/plain": [
       "Batch 451/501:   0%|          | 0/100 [00:00<?, ?it/s]"
      ]
     },
     "metadata": {},
     "output_type": "display_data"
    },
    {
     "data": {
      "application/vnd.jupyter.widget-view+json": {
       "model_id": "b7da848b26c44adaae943fa3d0bf89bd",
       "version_major": 2,
       "version_minor": 0
      },
      "text/plain": [
       "Batch 452/501:   0%|          | 0/100 [00:00<?, ?it/s]"
      ]
     },
     "metadata": {},
     "output_type": "display_data"
    },
    {
     "data": {
      "application/vnd.jupyter.widget-view+json": {
       "model_id": "1e45f18bd7544c2b8a0bf08a68188529",
       "version_major": 2,
       "version_minor": 0
      },
      "text/plain": [
       "Batch 453/501:   0%|          | 0/100 [00:00<?, ?it/s]"
      ]
     },
     "metadata": {},
     "output_type": "display_data"
    },
    {
     "data": {
      "application/vnd.jupyter.widget-view+json": {
       "model_id": "1fca0e2aed0e405fb83ab68d606aeb04",
       "version_major": 2,
       "version_minor": 0
      },
      "text/plain": [
       "Batch 454/501:   0%|          | 0/100 [00:00<?, ?it/s]"
      ]
     },
     "metadata": {},
     "output_type": "display_data"
    },
    {
     "data": {
      "application/vnd.jupyter.widget-view+json": {
       "model_id": "1cc07c56209d4a8b95ecf2215847eee8",
       "version_major": 2,
       "version_minor": 0
      },
      "text/plain": [
       "Batch 455/501:   0%|          | 0/100 [00:00<?, ?it/s]"
      ]
     },
     "metadata": {},
     "output_type": "display_data"
    },
    {
     "data": {
      "application/vnd.jupyter.widget-view+json": {
       "model_id": "20e92d2ea70d4db4879758c490452c5f",
       "version_major": 2,
       "version_minor": 0
      },
      "text/plain": [
       "Batch 456/501:   0%|          | 0/100 [00:00<?, ?it/s]"
      ]
     },
     "metadata": {},
     "output_type": "display_data"
    },
    {
     "data": {
      "application/vnd.jupyter.widget-view+json": {
       "model_id": "8258d054de8f490293b37f3cd5b77d17",
       "version_major": 2,
       "version_minor": 0
      },
      "text/plain": [
       "Batch 457/501:   0%|          | 0/100 [00:00<?, ?it/s]"
      ]
     },
     "metadata": {},
     "output_type": "display_data"
    },
    {
     "data": {
      "application/vnd.jupyter.widget-view+json": {
       "model_id": "3f1b59fa9e8c4e87ab91980d495a6351",
       "version_major": 2,
       "version_minor": 0
      },
      "text/plain": [
       "Batch 458/501:   0%|          | 0/100 [00:00<?, ?it/s]"
      ]
     },
     "metadata": {},
     "output_type": "display_data"
    },
    {
     "data": {
      "application/vnd.jupyter.widget-view+json": {
       "model_id": "fdef218c78e44b60a80978c2fea69040",
       "version_major": 2,
       "version_minor": 0
      },
      "text/plain": [
       "Batch 459/501:   0%|          | 0/100 [00:00<?, ?it/s]"
      ]
     },
     "metadata": {},
     "output_type": "display_data"
    },
    {
     "data": {
      "application/vnd.jupyter.widget-view+json": {
       "model_id": "813eaa83cd664cb6b3f59cc7a426dbc1",
       "version_major": 2,
       "version_minor": 0
      },
      "text/plain": [
       "Batch 460/501:   0%|          | 0/100 [00:00<?, ?it/s]"
      ]
     },
     "metadata": {},
     "output_type": "display_data"
    },
    {
     "data": {
      "application/vnd.jupyter.widget-view+json": {
       "model_id": "7fbb2a21ec1b4303a7216cf154b9aae6",
       "version_major": 2,
       "version_minor": 0
      },
      "text/plain": [
       "Batch 461/501:   0%|          | 0/100 [00:00<?, ?it/s]"
      ]
     },
     "metadata": {},
     "output_type": "display_data"
    },
    {
     "data": {
      "application/vnd.jupyter.widget-view+json": {
       "model_id": "5925ce9cb4b24a47b79d098ee029f772",
       "version_major": 2,
       "version_minor": 0
      },
      "text/plain": [
       "Batch 462/501:   0%|          | 0/100 [00:00<?, ?it/s]"
      ]
     },
     "metadata": {},
     "output_type": "display_data"
    },
    {
     "data": {
      "application/vnd.jupyter.widget-view+json": {
       "model_id": "70e36f3c8d784db0bbdbf7027793a992",
       "version_major": 2,
       "version_minor": 0
      },
      "text/plain": [
       "Batch 463/501:   0%|          | 0/100 [00:00<?, ?it/s]"
      ]
     },
     "metadata": {},
     "output_type": "display_data"
    },
    {
     "data": {
      "application/vnd.jupyter.widget-view+json": {
       "model_id": "c231ffd03c044dbba2cc496987239117",
       "version_major": 2,
       "version_minor": 0
      },
      "text/plain": [
       "Batch 464/501:   0%|          | 0/100 [00:00<?, ?it/s]"
      ]
     },
     "metadata": {},
     "output_type": "display_data"
    },
    {
     "data": {
      "application/vnd.jupyter.widget-view+json": {
       "model_id": "e60f61ce69914aa2b337531ff8e56c65",
       "version_major": 2,
       "version_minor": 0
      },
      "text/plain": [
       "Batch 465/501:   0%|          | 0/100 [00:00<?, ?it/s]"
      ]
     },
     "metadata": {},
     "output_type": "display_data"
    },
    {
     "data": {
      "application/vnd.jupyter.widget-view+json": {
       "model_id": "10b127a18bce4f3ba0e2663bc0283911",
       "version_major": 2,
       "version_minor": 0
      },
      "text/plain": [
       "Batch 466/501:   0%|          | 0/100 [00:00<?, ?it/s]"
      ]
     },
     "metadata": {},
     "output_type": "display_data"
    },
    {
     "data": {
      "application/vnd.jupyter.widget-view+json": {
       "model_id": "f73dfc3531094ede8eabc69ef802a2f7",
       "version_major": 2,
       "version_minor": 0
      },
      "text/plain": [
       "Batch 467/501:   0%|          | 0/100 [00:00<?, ?it/s]"
      ]
     },
     "metadata": {},
     "output_type": "display_data"
    },
    {
     "data": {
      "application/vnd.jupyter.widget-view+json": {
       "model_id": "0f6ce061768748fcbd601acfe9e5a2da",
       "version_major": 2,
       "version_minor": 0
      },
      "text/plain": [
       "Batch 468/501:   0%|          | 0/100 [00:00<?, ?it/s]"
      ]
     },
     "metadata": {},
     "output_type": "display_data"
    },
    {
     "data": {
      "application/vnd.jupyter.widget-view+json": {
       "model_id": "ae88da6705dd444dac2880d7afca6075",
       "version_major": 2,
       "version_minor": 0
      },
      "text/plain": [
       "Batch 469/501:   0%|          | 0/100 [00:00<?, ?it/s]"
      ]
     },
     "metadata": {},
     "output_type": "display_data"
    },
    {
     "data": {
      "application/vnd.jupyter.widget-view+json": {
       "model_id": "365222b7d6a34111acfb34b16620d191",
       "version_major": 2,
       "version_minor": 0
      },
      "text/plain": [
       "Batch 470/501:   0%|          | 0/100 [00:00<?, ?it/s]"
      ]
     },
     "metadata": {},
     "output_type": "display_data"
    },
    {
     "data": {
      "application/vnd.jupyter.widget-view+json": {
       "model_id": "349d37534dca420f8aaf609429c5d1a8",
       "version_major": 2,
       "version_minor": 0
      },
      "text/plain": [
       "Batch 471/501:   0%|          | 0/100 [00:00<?, ?it/s]"
      ]
     },
     "metadata": {},
     "output_type": "display_data"
    },
    {
     "data": {
      "application/vnd.jupyter.widget-view+json": {
       "model_id": "6f03f582d1e04a7c8729c53f45090715",
       "version_major": 2,
       "version_minor": 0
      },
      "text/plain": [
       "Batch 472/501:   0%|          | 0/100 [00:00<?, ?it/s]"
      ]
     },
     "metadata": {},
     "output_type": "display_data"
    },
    {
     "data": {
      "application/vnd.jupyter.widget-view+json": {
       "model_id": "5642fd61dd69424ca07a1b5d954acfa2",
       "version_major": 2,
       "version_minor": 0
      },
      "text/plain": [
       "Batch 473/501:   0%|          | 0/100 [00:00<?, ?it/s]"
      ]
     },
     "metadata": {},
     "output_type": "display_data"
    },
    {
     "data": {
      "application/vnd.jupyter.widget-view+json": {
       "model_id": "64abf75604a5426fa64ccc0b178cc86f",
       "version_major": 2,
       "version_minor": 0
      },
      "text/plain": [
       "Batch 474/501:   0%|          | 0/100 [00:00<?, ?it/s]"
      ]
     },
     "metadata": {},
     "output_type": "display_data"
    },
    {
     "data": {
      "application/vnd.jupyter.widget-view+json": {
       "model_id": "e28c83dca407436fbaba5b781ecfd9a3",
       "version_major": 2,
       "version_minor": 0
      },
      "text/plain": [
       "Batch 475/501:   0%|          | 0/100 [00:00<?, ?it/s]"
      ]
     },
     "metadata": {},
     "output_type": "display_data"
    },
    {
     "data": {
      "application/vnd.jupyter.widget-view+json": {
       "model_id": "4353bafc4444490e833d116f204b0342",
       "version_major": 2,
       "version_minor": 0
      },
      "text/plain": [
       "Batch 476/501:   0%|          | 0/100 [00:00<?, ?it/s]"
      ]
     },
     "metadata": {},
     "output_type": "display_data"
    },
    {
     "data": {
      "application/vnd.jupyter.widget-view+json": {
       "model_id": "b90963c07dec4de0a4ee8085da10b220",
       "version_major": 2,
       "version_minor": 0
      },
      "text/plain": [
       "Batch 477/501:   0%|          | 0/100 [00:00<?, ?it/s]"
      ]
     },
     "metadata": {},
     "output_type": "display_data"
    },
    {
     "data": {
      "application/vnd.jupyter.widget-view+json": {
       "model_id": "4bbd499597404beca4849f548c6ba9ee",
       "version_major": 2,
       "version_minor": 0
      },
      "text/plain": [
       "Batch 478/501:   0%|          | 0/100 [00:00<?, ?it/s]"
      ]
     },
     "metadata": {},
     "output_type": "display_data"
    },
    {
     "data": {
      "application/vnd.jupyter.widget-view+json": {
       "model_id": "4c16bd3c48324c4c9412e5896bc6128b",
       "version_major": 2,
       "version_minor": 0
      },
      "text/plain": [
       "Batch 479/501:   0%|          | 0/100 [00:00<?, ?it/s]"
      ]
     },
     "metadata": {},
     "output_type": "display_data"
    },
    {
     "data": {
      "application/vnd.jupyter.widget-view+json": {
       "model_id": "396ef014ac1a4d5998273ff7d562589f",
       "version_major": 2,
       "version_minor": 0
      },
      "text/plain": [
       "Batch 480/501:   0%|          | 0/100 [00:00<?, ?it/s]"
      ]
     },
     "metadata": {},
     "output_type": "display_data"
    },
    {
     "data": {
      "application/vnd.jupyter.widget-view+json": {
       "model_id": "066143e995944fb3ab8f8fc1637fc4ca",
       "version_major": 2,
       "version_minor": 0
      },
      "text/plain": [
       "Batch 481/501:   0%|          | 0/100 [00:00<?, ?it/s]"
      ]
     },
     "metadata": {},
     "output_type": "display_data"
    },
    {
     "data": {
      "application/vnd.jupyter.widget-view+json": {
       "model_id": "7d561c014a6a43f886fe02a7b06b8e60",
       "version_major": 2,
       "version_minor": 0
      },
      "text/plain": [
       "Batch 482/501:   0%|          | 0/100 [00:00<?, ?it/s]"
      ]
     },
     "metadata": {},
     "output_type": "display_data"
    },
    {
     "data": {
      "application/vnd.jupyter.widget-view+json": {
       "model_id": "66ae7976cd414797a229b4ec2f0fad30",
       "version_major": 2,
       "version_minor": 0
      },
      "text/plain": [
       "Batch 483/501:   0%|          | 0/100 [00:00<?, ?it/s]"
      ]
     },
     "metadata": {},
     "output_type": "display_data"
    },
    {
     "data": {
      "application/vnd.jupyter.widget-view+json": {
       "model_id": "049aaf8696a14ce58d218895a52adad0",
       "version_major": 2,
       "version_minor": 0
      },
      "text/plain": [
       "Batch 484/501:   0%|          | 0/100 [00:00<?, ?it/s]"
      ]
     },
     "metadata": {},
     "output_type": "display_data"
    },
    {
     "data": {
      "application/vnd.jupyter.widget-view+json": {
       "model_id": "75e8426a1a124ca781af98eda2819ff2",
       "version_major": 2,
       "version_minor": 0
      },
      "text/plain": [
       "Batch 485/501:   0%|          | 0/100 [00:00<?, ?it/s]"
      ]
     },
     "metadata": {},
     "output_type": "display_data"
    },
    {
     "data": {
      "application/vnd.jupyter.widget-view+json": {
       "model_id": "1ab900d20dc64c2f97ba04ce88b5bd5b",
       "version_major": 2,
       "version_minor": 0
      },
      "text/plain": [
       "Batch 486/501:   0%|          | 0/100 [00:00<?, ?it/s]"
      ]
     },
     "metadata": {},
     "output_type": "display_data"
    },
    {
     "data": {
      "application/vnd.jupyter.widget-view+json": {
       "model_id": "2c2fb32d912146bb8053ed1184b39b15",
       "version_major": 2,
       "version_minor": 0
      },
      "text/plain": [
       "Batch 487/501:   0%|          | 0/100 [00:00<?, ?it/s]"
      ]
     },
     "metadata": {},
     "output_type": "display_data"
    },
    {
     "data": {
      "application/vnd.jupyter.widget-view+json": {
       "model_id": "f0e2ced0049c4ff2bcab5ed466104112",
       "version_major": 2,
       "version_minor": 0
      },
      "text/plain": [
       "Batch 488/501:   0%|          | 0/100 [00:00<?, ?it/s]"
      ]
     },
     "metadata": {},
     "output_type": "display_data"
    },
    {
     "data": {
      "application/vnd.jupyter.widget-view+json": {
       "model_id": "d950c93e9fcf47c9a3a727ac848f74cc",
       "version_major": 2,
       "version_minor": 0
      },
      "text/plain": [
       "Batch 489/501:   0%|          | 0/100 [00:00<?, ?it/s]"
      ]
     },
     "metadata": {},
     "output_type": "display_data"
    },
    {
     "data": {
      "application/vnd.jupyter.widget-view+json": {
       "model_id": "1c03b1f5eaa542b1abcb0e42b618748e",
       "version_major": 2,
       "version_minor": 0
      },
      "text/plain": [
       "Batch 490/501:   0%|          | 0/100 [00:00<?, ?it/s]"
      ]
     },
     "metadata": {},
     "output_type": "display_data"
    },
    {
     "data": {
      "application/vnd.jupyter.widget-view+json": {
       "model_id": "84313f5f05504c2bb2784762b25e8c74",
       "version_major": 2,
       "version_minor": 0
      },
      "text/plain": [
       "Batch 491/501:   0%|          | 0/100 [00:00<?, ?it/s]"
      ]
     },
     "metadata": {},
     "output_type": "display_data"
    },
    {
     "data": {
      "application/vnd.jupyter.widget-view+json": {
       "model_id": "9fa4c5a4f68949adb709aa7add15e7a1",
       "version_major": 2,
       "version_minor": 0
      },
      "text/plain": [
       "Batch 492/501:   0%|          | 0/100 [00:00<?, ?it/s]"
      ]
     },
     "metadata": {},
     "output_type": "display_data"
    },
    {
     "data": {
      "application/vnd.jupyter.widget-view+json": {
       "model_id": "aa5a1b00baa94d14ad8f906d796be84e",
       "version_major": 2,
       "version_minor": 0
      },
      "text/plain": [
       "Batch 493/501:   0%|          | 0/100 [00:00<?, ?it/s]"
      ]
     },
     "metadata": {},
     "output_type": "display_data"
    },
    {
     "data": {
      "application/vnd.jupyter.widget-view+json": {
       "model_id": "597a2a773fc44bedab8b795a02b6e7c4",
       "version_major": 2,
       "version_minor": 0
      },
      "text/plain": [
       "Batch 494/501:   0%|          | 0/100 [00:00<?, ?it/s]"
      ]
     },
     "metadata": {},
     "output_type": "display_data"
    },
    {
     "data": {
      "application/vnd.jupyter.widget-view+json": {
       "model_id": "3b076a9ecc3d43118132d2701bc79e71",
       "version_major": 2,
       "version_minor": 0
      },
      "text/plain": [
       "Batch 495/501:   0%|          | 0/100 [00:00<?, ?it/s]"
      ]
     },
     "metadata": {},
     "output_type": "display_data"
    },
    {
     "data": {
      "application/vnd.jupyter.widget-view+json": {
       "model_id": "cfc79f51326d401c8e9f490f475d9a35",
       "version_major": 2,
       "version_minor": 0
      },
      "text/plain": [
       "Batch 496/501:   0%|          | 0/100 [00:00<?, ?it/s]"
      ]
     },
     "metadata": {},
     "output_type": "display_data"
    },
    {
     "data": {
      "application/vnd.jupyter.widget-view+json": {
       "model_id": "f9e6a55bfae14553af076ea525730299",
       "version_major": 2,
       "version_minor": 0
      },
      "text/plain": [
       "Batch 497/501:   0%|          | 0/100 [00:00<?, ?it/s]"
      ]
     },
     "metadata": {},
     "output_type": "display_data"
    },
    {
     "data": {
      "application/vnd.jupyter.widget-view+json": {
       "model_id": "24d9d2ee1c3740078a823bdc817b6685",
       "version_major": 2,
       "version_minor": 0
      },
      "text/plain": [
       "Batch 498/501:   0%|          | 0/100 [00:00<?, ?it/s]"
      ]
     },
     "metadata": {},
     "output_type": "display_data"
    },
    {
     "data": {
      "application/vnd.jupyter.widget-view+json": {
       "model_id": "eaf0cfe276ad4fbc8ba70b52a6977212",
       "version_major": 2,
       "version_minor": 0
      },
      "text/plain": [
       "Batch 499/501:   0%|          | 0/100 [00:00<?, ?it/s]"
      ]
     },
     "metadata": {},
     "output_type": "display_data"
    },
    {
     "data": {
      "application/vnd.jupyter.widget-view+json": {
       "model_id": "b995d94a0d87444f8805ed5af91edcd4",
       "version_major": 2,
       "version_minor": 0
      },
      "text/plain": [
       "Batch 500/501:   0%|          | 0/100 [00:00<?, ?it/s]"
      ]
     },
     "metadata": {},
     "output_type": "display_data"
    },
    {
     "data": {
      "application/vnd.jupyter.widget-view+json": {
       "model_id": "3132757258224198b79c909c60051330",
       "version_major": 2,
       "version_minor": 0
      },
      "text/plain": [
       "Batch 501/501:   0%|          | 0/95 [00:00<?, ?it/s]"
      ]
     },
     "metadata": {},
     "output_type": "display_data"
    },
    {
     "name": "stdout",
     "output_type": "stream",
     "text": [
      "Haversine-Distanzmatrix in Batches gespeichert!\n"
     ]
    }
   ],
   "source": [
    "import numpy as np\n",
    "import pandas as pd\n",
    "from scipy.spatial.distance import pdist  # Für Distanzberechnungen\n",
    "from joblib import Parallel, delayed  # Für parallele Berechnungen\n",
    "from tqdm.notebook import tqdm  # Fortschrittsanzeige\n",
    "\n",
    "# Funktion zur Berechnung der Haversine-Distanz\n",
    "# Diese Funktion berechnet die Haversine-Distanz zwischen zwei geographischen Punkten (Latitude, Longitude)\n",
    "def haversine(lat1, lon1, lat2, lon2):\n",
    "    R = 6371  # Erdradius in km\n",
    "    lat1, lon1, lat2, lon2 = map(np.radians, [lat1, lon1, lat2, lon2])  # Umwandlung der Koordinaten in Bogenmaß\n",
    "    dlat = lat2 - lat1  # Unterschied in der Breite\n",
    "    dlon = lon2 - lon1  # Unterschied in der Länge\n",
    "    a = np.sin(dlat / 2) ** 2 + np.cos(lat1) * np.cos(lat2) * np.sin(dlon / 2) ** 2  # Haversine-Formel\n",
    "    return 2 * R * np.arcsin(np.sqrt(a))  # Rückgabe der Distanz in Kilometern\n",
    "\n",
    "# Funktion zur Berechnung der Distanzen für einen Punkt i\n",
    "# Diese Funktion berechnet die Distanzen von Punkt i zu allen anderen Punkten\n",
    "def compute_distance(i, geo_coords):\n",
    "    distances = []  # Liste für Distanzen\n",
    "    for j in range(len(geo_coords)):  # Für alle Punkte im Datensatz\n",
    "        distance = haversine(geo_coords[i][0], geo_coords[i][1], geo_coords[j][0], geo_coords[j][1])\n",
    "        distances.append(distance)  # Füge berechnete Distanz zur Liste hinzu\n",
    "    return distances\n",
    "\n",
    "# Lade die geographischen Koordinaten\n",
    "# Hier gehen wir davon aus, dass die Datei \"geo_coords.csv\" zwei Spalten enthält: Latitude und Longitude\n",
    "geo_coords = pd.read_csv(\"geo_coords.csv\").values  # Werte als NumPy-Array laden\n",
    "\n",
    "# Berechne Haversine-Distanzen in Batches, um Speicher effizient zu nutzen\n",
    "batch_size = 100  \n",
    "num_batches = (len(geo_coords) // batch_size) + 1  # Berechne die Gesamtzahl der Batches\n",
    "\n",
    "# Berechnung in mehreren Batches\n",
    "for batch in range(num_batches):\n",
    "    start_idx = batch * batch_size  # Berechne den Start-Index für das aktuelle Batch\n",
    "    end_idx = min((batch + 1) * batch_size, len(geo_coords))  # Berechne den End-Index (sicherstellen, dass es nicht den Datenbereich überschreitet)\n",
    "\n",
    "    # Fortschrittsanzeige für den aktuellen Batch\n",
    "    with tqdm(total=(end_idx - start_idx), desc=f\"Batch {batch+1}/{num_batches}\") as pbar:\n",
    "        # Parallelisierung: Berechne Distanzen für alle Punkte im aktuellen Batch\n",
    "        batch_dist_matrix = Parallel(n_jobs=-1)(  # Parallelisierung auf alle Kerne\n",
    "            delayed(compute_distance)(i, geo_coords) for i in range(start_idx, end_idx)\n",
    "        )\n",
    "        pbar.update(end_idx - start_idx)  # Update des Fortschrittsbalkens\n",
    "\n",
    "    # Umwandeln der Berechnungsergebnisse in ein NumPy-Array für die Speicherung\n",
    "    batch_dist_matrix = np.array(batch_dist_matrix)\n",
    "\n",
    "    # Speichern der Distanzmatrix des aktuellen Batches als NumPy-Datei (.npy)\n",
    "    np.save(f\"haversine_batch_{batch}.npy\", batch_dist_matrix)\n",
    "\n",
    "print(\"Haversine-Distanzmatrix in Batches gespeichert!\")\n"
   ]
  },
  {
   "cell_type": "code",
   "execution_count": null,
   "id": "91a33af9-7e17-4037-94e5-af790f43fa7f",
   "metadata": {},
   "outputs": [],
   "source": []
  }
 ],
 "metadata": {
  "kernelspec": {
   "display_name": "Python 3 (ipykernel)",
   "language": "python",
   "name": "python3"
  },
  "language_info": {
   "codemirror_mode": {
    "name": "ipython",
    "version": 3
   },
   "file_extension": ".py",
   "mimetype": "text/x-python",
   "name": "python",
   "nbconvert_exporter": "python",
   "pygments_lexer": "ipython3",
   "version": "3.8.10"
  }
 },
 "nbformat": 4,
 "nbformat_minor": 5
}

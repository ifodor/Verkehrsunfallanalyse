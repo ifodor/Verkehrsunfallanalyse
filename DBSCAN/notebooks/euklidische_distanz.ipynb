{
 "cells": [
  {
   "cell_type": "code",
   "execution_count": 1,
   "id": "3e169174-f5f5-49c7-8f0a-e2ca5423209e",
   "metadata": {},
   "outputs": [
    {
     "data": {
      "application/vnd.jupyter.widget-view+json": {
       "model_id": "a681f32b660a4d7181660365a127553d",
       "version_major": 2,
       "version_minor": 0
      },
      "text/plain": [
       "Batch 1/501:   0%|          | 0/100 [00:00<?, ?it/s]"
      ]
     },
     "metadata": {},
     "output_type": "display_data"
    },
    {
     "data": {
      "application/vnd.jupyter.widget-view+json": {
       "model_id": "48eb84be684441d5a216b1e62b5108c6",
       "version_major": 2,
       "version_minor": 0
      },
      "text/plain": [
       "Batch 2/501:   0%|          | 0/100 [00:00<?, ?it/s]"
      ]
     },
     "metadata": {},
     "output_type": "display_data"
    },
    {
     "data": {
      "application/vnd.jupyter.widget-view+json": {
       "model_id": "f3d6a0e743874dde9247e8d68dd6d50e",
       "version_major": 2,
       "version_minor": 0
      },
      "text/plain": [
       "Batch 3/501:   0%|          | 0/100 [00:00<?, ?it/s]"
      ]
     },
     "metadata": {},
     "output_type": "display_data"
    },
    {
     "data": {
      "application/vnd.jupyter.widget-view+json": {
       "model_id": "12c06dc8a60342afb7fd9dabc4f16dd7",
       "version_major": 2,
       "version_minor": 0
      },
      "text/plain": [
       "Batch 4/501:   0%|          | 0/100 [00:00<?, ?it/s]"
      ]
     },
     "metadata": {},
     "output_type": "display_data"
    },
    {
     "data": {
      "application/vnd.jupyter.widget-view+json": {
       "model_id": "f6b25fd0c3a94902b8609500bef7a67c",
       "version_major": 2,
       "version_minor": 0
      },
      "text/plain": [
       "Batch 5/501:   0%|          | 0/100 [00:00<?, ?it/s]"
      ]
     },
     "metadata": {},
     "output_type": "display_data"
    },
    {
     "data": {
      "application/vnd.jupyter.widget-view+json": {
       "model_id": "13e3162af6de44b495dac7ffad1d71c1",
       "version_major": 2,
       "version_minor": 0
      },
      "text/plain": [
       "Batch 6/501:   0%|          | 0/100 [00:00<?, ?it/s]"
      ]
     },
     "metadata": {},
     "output_type": "display_data"
    },
    {
     "data": {
      "application/vnd.jupyter.widget-view+json": {
       "model_id": "5933cea0d33845dda9622fcef1cb46b2",
       "version_major": 2,
       "version_minor": 0
      },
      "text/plain": [
       "Batch 7/501:   0%|          | 0/100 [00:00<?, ?it/s]"
      ]
     },
     "metadata": {},
     "output_type": "display_data"
    },
    {
     "data": {
      "application/vnd.jupyter.widget-view+json": {
       "model_id": "b189803780994793a81bba7ce9ddd99e",
       "version_major": 2,
       "version_minor": 0
      },
      "text/plain": [
       "Batch 8/501:   0%|          | 0/100 [00:00<?, ?it/s]"
      ]
     },
     "metadata": {},
     "output_type": "display_data"
    },
    {
     "data": {
      "application/vnd.jupyter.widget-view+json": {
       "model_id": "ad984a535dc64873a2d192291fbf11f4",
       "version_major": 2,
       "version_minor": 0
      },
      "text/plain": [
       "Batch 9/501:   0%|          | 0/100 [00:00<?, ?it/s]"
      ]
     },
     "metadata": {},
     "output_type": "display_data"
    },
    {
     "data": {
      "application/vnd.jupyter.widget-view+json": {
       "model_id": "37848d4c45744540bc5fe32b757344ce",
       "version_major": 2,
       "version_minor": 0
      },
      "text/plain": [
       "Batch 10/501:   0%|          | 0/100 [00:00<?, ?it/s]"
      ]
     },
     "metadata": {},
     "output_type": "display_data"
    },
    {
     "data": {
      "application/vnd.jupyter.widget-view+json": {
       "model_id": "4d7c9f7a59b14dac8cac64ef16ba5d60",
       "version_major": 2,
       "version_minor": 0
      },
      "text/plain": [
       "Batch 11/501:   0%|          | 0/100 [00:00<?, ?it/s]"
      ]
     },
     "metadata": {},
     "output_type": "display_data"
    },
    {
     "data": {
      "application/vnd.jupyter.widget-view+json": {
       "model_id": "09221504d8da49eda3589758c73df1d5",
       "version_major": 2,
       "version_minor": 0
      },
      "text/plain": [
       "Batch 12/501:   0%|          | 0/100 [00:00<?, ?it/s]"
      ]
     },
     "metadata": {},
     "output_type": "display_data"
    },
    {
     "data": {
      "application/vnd.jupyter.widget-view+json": {
       "model_id": "62d9a30d476a4df5ab622dbc236061ae",
       "version_major": 2,
       "version_minor": 0
      },
      "text/plain": [
       "Batch 13/501:   0%|          | 0/100 [00:00<?, ?it/s]"
      ]
     },
     "metadata": {},
     "output_type": "display_data"
    },
    {
     "data": {
      "application/vnd.jupyter.widget-view+json": {
       "model_id": "c659fb0df56a4c2282319a265a0ed179",
       "version_major": 2,
       "version_minor": 0
      },
      "text/plain": [
       "Batch 14/501:   0%|          | 0/100 [00:00<?, ?it/s]"
      ]
     },
     "metadata": {},
     "output_type": "display_data"
    },
    {
     "data": {
      "application/vnd.jupyter.widget-view+json": {
       "model_id": "2bb7dcf6aae34a3b9c03797097f65a8c",
       "version_major": 2,
       "version_minor": 0
      },
      "text/plain": [
       "Batch 15/501:   0%|          | 0/100 [00:00<?, ?it/s]"
      ]
     },
     "metadata": {},
     "output_type": "display_data"
    },
    {
     "data": {
      "application/vnd.jupyter.widget-view+json": {
       "model_id": "020ae7efa71f489d8873ec9af1e58122",
       "version_major": 2,
       "version_minor": 0
      },
      "text/plain": [
       "Batch 16/501:   0%|          | 0/100 [00:00<?, ?it/s]"
      ]
     },
     "metadata": {},
     "output_type": "display_data"
    },
    {
     "data": {
      "application/vnd.jupyter.widget-view+json": {
       "model_id": "46d2da7ca95647508d04ab8879064f64",
       "version_major": 2,
       "version_minor": 0
      },
      "text/plain": [
       "Batch 17/501:   0%|          | 0/100 [00:00<?, ?it/s]"
      ]
     },
     "metadata": {},
     "output_type": "display_data"
    },
    {
     "data": {
      "application/vnd.jupyter.widget-view+json": {
       "model_id": "fc09c8378fbd4445a3be9a1d907e6baa",
       "version_major": 2,
       "version_minor": 0
      },
      "text/plain": [
       "Batch 18/501:   0%|          | 0/100 [00:00<?, ?it/s]"
      ]
     },
     "metadata": {},
     "output_type": "display_data"
    },
    {
     "data": {
      "application/vnd.jupyter.widget-view+json": {
       "model_id": "79269d57efda447782d0c7f0e3ac0a9b",
       "version_major": 2,
       "version_minor": 0
      },
      "text/plain": [
       "Batch 19/501:   0%|          | 0/100 [00:00<?, ?it/s]"
      ]
     },
     "metadata": {},
     "output_type": "display_data"
    },
    {
     "data": {
      "application/vnd.jupyter.widget-view+json": {
       "model_id": "19151bd8aa8745a692e4b49dcbdc2d86",
       "version_major": 2,
       "version_minor": 0
      },
      "text/plain": [
       "Batch 20/501:   0%|          | 0/100 [00:00<?, ?it/s]"
      ]
     },
     "metadata": {},
     "output_type": "display_data"
    },
    {
     "data": {
      "application/vnd.jupyter.widget-view+json": {
       "model_id": "22e0861d6dba44f1a031a63cd3d28b46",
       "version_major": 2,
       "version_minor": 0
      },
      "text/plain": [
       "Batch 21/501:   0%|          | 0/100 [00:00<?, ?it/s]"
      ]
     },
     "metadata": {},
     "output_type": "display_data"
    },
    {
     "data": {
      "application/vnd.jupyter.widget-view+json": {
       "model_id": "fa03cb127c0a43d88b25a433a7e7873c",
       "version_major": 2,
       "version_minor": 0
      },
      "text/plain": [
       "Batch 22/501:   0%|          | 0/100 [00:00<?, ?it/s]"
      ]
     },
     "metadata": {},
     "output_type": "display_data"
    },
    {
     "data": {
      "application/vnd.jupyter.widget-view+json": {
       "model_id": "27098e8962904b958e4b9c5a951afe10",
       "version_major": 2,
       "version_minor": 0
      },
      "text/plain": [
       "Batch 23/501:   0%|          | 0/100 [00:00<?, ?it/s]"
      ]
     },
     "metadata": {},
     "output_type": "display_data"
    },
    {
     "data": {
      "application/vnd.jupyter.widget-view+json": {
       "model_id": "5a41d73fba074e4fb23ef236e5f44f4b",
       "version_major": 2,
       "version_minor": 0
      },
      "text/plain": [
       "Batch 24/501:   0%|          | 0/100 [00:00<?, ?it/s]"
      ]
     },
     "metadata": {},
     "output_type": "display_data"
    },
    {
     "data": {
      "application/vnd.jupyter.widget-view+json": {
       "model_id": "36daaaa6eb184e4ea3a313d36c07b247",
       "version_major": 2,
       "version_minor": 0
      },
      "text/plain": [
       "Batch 25/501:   0%|          | 0/100 [00:00<?, ?it/s]"
      ]
     },
     "metadata": {},
     "output_type": "display_data"
    },
    {
     "data": {
      "application/vnd.jupyter.widget-view+json": {
       "model_id": "6fc9a180e5e1447e8450372aa72f7c42",
       "version_major": 2,
       "version_minor": 0
      },
      "text/plain": [
       "Batch 26/501:   0%|          | 0/100 [00:00<?, ?it/s]"
      ]
     },
     "metadata": {},
     "output_type": "display_data"
    },
    {
     "data": {
      "application/vnd.jupyter.widget-view+json": {
       "model_id": "7dba763f4a0948199877ed99b55c67e3",
       "version_major": 2,
       "version_minor": 0
      },
      "text/plain": [
       "Batch 27/501:   0%|          | 0/100 [00:00<?, ?it/s]"
      ]
     },
     "metadata": {},
     "output_type": "display_data"
    },
    {
     "data": {
      "application/vnd.jupyter.widget-view+json": {
       "model_id": "899557dae2264be2bfc4f36a4e10398d",
       "version_major": 2,
       "version_minor": 0
      },
      "text/plain": [
       "Batch 28/501:   0%|          | 0/100 [00:00<?, ?it/s]"
      ]
     },
     "metadata": {},
     "output_type": "display_data"
    },
    {
     "data": {
      "application/vnd.jupyter.widget-view+json": {
       "model_id": "2559e90cf3e144a89dfb565133d8ef16",
       "version_major": 2,
       "version_minor": 0
      },
      "text/plain": [
       "Batch 29/501:   0%|          | 0/100 [00:00<?, ?it/s]"
      ]
     },
     "metadata": {},
     "output_type": "display_data"
    },
    {
     "data": {
      "application/vnd.jupyter.widget-view+json": {
       "model_id": "3c73f40e9aa846c7bcd8bccc868fc363",
       "version_major": 2,
       "version_minor": 0
      },
      "text/plain": [
       "Batch 30/501:   0%|          | 0/100 [00:00<?, ?it/s]"
      ]
     },
     "metadata": {},
     "output_type": "display_data"
    },
    {
     "data": {
      "application/vnd.jupyter.widget-view+json": {
       "model_id": "c20f37c8c9ea4020b274c19cace11e5b",
       "version_major": 2,
       "version_minor": 0
      },
      "text/plain": [
       "Batch 31/501:   0%|          | 0/100 [00:00<?, ?it/s]"
      ]
     },
     "metadata": {},
     "output_type": "display_data"
    },
    {
     "data": {
      "application/vnd.jupyter.widget-view+json": {
       "model_id": "85af3f14d72a4aa9b548e2e7132f767b",
       "version_major": 2,
       "version_minor": 0
      },
      "text/plain": [
       "Batch 32/501:   0%|          | 0/100 [00:00<?, ?it/s]"
      ]
     },
     "metadata": {},
     "output_type": "display_data"
    },
    {
     "data": {
      "application/vnd.jupyter.widget-view+json": {
       "model_id": "8d142644355a429a973dd96f63ff772e",
       "version_major": 2,
       "version_minor": 0
      },
      "text/plain": [
       "Batch 33/501:   0%|          | 0/100 [00:00<?, ?it/s]"
      ]
     },
     "metadata": {},
     "output_type": "display_data"
    },
    {
     "data": {
      "application/vnd.jupyter.widget-view+json": {
       "model_id": "66737cb2b9f14f1d9f9dc7be2a0bf1b2",
       "version_major": 2,
       "version_minor": 0
      },
      "text/plain": [
       "Batch 34/501:   0%|          | 0/100 [00:00<?, ?it/s]"
      ]
     },
     "metadata": {},
     "output_type": "display_data"
    },
    {
     "data": {
      "application/vnd.jupyter.widget-view+json": {
       "model_id": "f823c04f3bb0444c951be75c65d5bae5",
       "version_major": 2,
       "version_minor": 0
      },
      "text/plain": [
       "Batch 35/501:   0%|          | 0/100 [00:00<?, ?it/s]"
      ]
     },
     "metadata": {},
     "output_type": "display_data"
    },
    {
     "data": {
      "application/vnd.jupyter.widget-view+json": {
       "model_id": "3a189c87f10d4438ad79567978dff7f0",
       "version_major": 2,
       "version_minor": 0
      },
      "text/plain": [
       "Batch 36/501:   0%|          | 0/100 [00:00<?, ?it/s]"
      ]
     },
     "metadata": {},
     "output_type": "display_data"
    },
    {
     "data": {
      "application/vnd.jupyter.widget-view+json": {
       "model_id": "d92c50ed5c284a81b0ffde6d8d2fa974",
       "version_major": 2,
       "version_minor": 0
      },
      "text/plain": [
       "Batch 37/501:   0%|          | 0/100 [00:00<?, ?it/s]"
      ]
     },
     "metadata": {},
     "output_type": "display_data"
    },
    {
     "data": {
      "application/vnd.jupyter.widget-view+json": {
       "model_id": "5bff0a91d09b4a3ea53b0c534538c61c",
       "version_major": 2,
       "version_minor": 0
      },
      "text/plain": [
       "Batch 38/501:   0%|          | 0/100 [00:00<?, ?it/s]"
      ]
     },
     "metadata": {},
     "output_type": "display_data"
    },
    {
     "data": {
      "application/vnd.jupyter.widget-view+json": {
       "model_id": "0ad68578dea24412af386bfef85cdf6f",
       "version_major": 2,
       "version_minor": 0
      },
      "text/plain": [
       "Batch 39/501:   0%|          | 0/100 [00:00<?, ?it/s]"
      ]
     },
     "metadata": {},
     "output_type": "display_data"
    },
    {
     "data": {
      "application/vnd.jupyter.widget-view+json": {
       "model_id": "d02110c30cdb4dfe977eb36c1bc6d3c2",
       "version_major": 2,
       "version_minor": 0
      },
      "text/plain": [
       "Batch 40/501:   0%|          | 0/100 [00:00<?, ?it/s]"
      ]
     },
     "metadata": {},
     "output_type": "display_data"
    },
    {
     "data": {
      "application/vnd.jupyter.widget-view+json": {
       "model_id": "e2bba3e251f9490f96b733f50162c1d8",
       "version_major": 2,
       "version_minor": 0
      },
      "text/plain": [
       "Batch 41/501:   0%|          | 0/100 [00:00<?, ?it/s]"
      ]
     },
     "metadata": {},
     "output_type": "display_data"
    },
    {
     "data": {
      "application/vnd.jupyter.widget-view+json": {
       "model_id": "98e8b7d0e88548a79b8655726c93fc97",
       "version_major": 2,
       "version_minor": 0
      },
      "text/plain": [
       "Batch 42/501:   0%|          | 0/100 [00:00<?, ?it/s]"
      ]
     },
     "metadata": {},
     "output_type": "display_data"
    },
    {
     "data": {
      "application/vnd.jupyter.widget-view+json": {
       "model_id": "27a5549ed2304e9cb7fc5dbe81c65d6e",
       "version_major": 2,
       "version_minor": 0
      },
      "text/plain": [
       "Batch 43/501:   0%|          | 0/100 [00:00<?, ?it/s]"
      ]
     },
     "metadata": {},
     "output_type": "display_data"
    },
    {
     "data": {
      "application/vnd.jupyter.widget-view+json": {
       "model_id": "5e1353008abf49b980063538590345e0",
       "version_major": 2,
       "version_minor": 0
      },
      "text/plain": [
       "Batch 44/501:   0%|          | 0/100 [00:00<?, ?it/s]"
      ]
     },
     "metadata": {},
     "output_type": "display_data"
    },
    {
     "data": {
      "application/vnd.jupyter.widget-view+json": {
       "model_id": "c1e3c27a732a4fd090268a3811a4db6d",
       "version_major": 2,
       "version_minor": 0
      },
      "text/plain": [
       "Batch 45/501:   0%|          | 0/100 [00:00<?, ?it/s]"
      ]
     },
     "metadata": {},
     "output_type": "display_data"
    },
    {
     "data": {
      "application/vnd.jupyter.widget-view+json": {
       "model_id": "795020aa707e4ab1a7cc3508fa9eeb88",
       "version_major": 2,
       "version_minor": 0
      },
      "text/plain": [
       "Batch 46/501:   0%|          | 0/100 [00:00<?, ?it/s]"
      ]
     },
     "metadata": {},
     "output_type": "display_data"
    },
    {
     "data": {
      "application/vnd.jupyter.widget-view+json": {
       "model_id": "6a2b4c17620f4a13a8b0af86868ff776",
       "version_major": 2,
       "version_minor": 0
      },
      "text/plain": [
       "Batch 47/501:   0%|          | 0/100 [00:00<?, ?it/s]"
      ]
     },
     "metadata": {},
     "output_type": "display_data"
    },
    {
     "data": {
      "application/vnd.jupyter.widget-view+json": {
       "model_id": "6fcc4310b95e4ab8a790daea751d9739",
       "version_major": 2,
       "version_minor": 0
      },
      "text/plain": [
       "Batch 48/501:   0%|          | 0/100 [00:00<?, ?it/s]"
      ]
     },
     "metadata": {},
     "output_type": "display_data"
    },
    {
     "data": {
      "application/vnd.jupyter.widget-view+json": {
       "model_id": "354c66384d454cb1a6bc6ef477643d06",
       "version_major": 2,
       "version_minor": 0
      },
      "text/plain": [
       "Batch 49/501:   0%|          | 0/100 [00:00<?, ?it/s]"
      ]
     },
     "metadata": {},
     "output_type": "display_data"
    },
    {
     "data": {
      "application/vnd.jupyter.widget-view+json": {
       "model_id": "aa52211cc1ab45699b6c2f46279a9bd6",
       "version_major": 2,
       "version_minor": 0
      },
      "text/plain": [
       "Batch 50/501:   0%|          | 0/100 [00:00<?, ?it/s]"
      ]
     },
     "metadata": {},
     "output_type": "display_data"
    },
    {
     "data": {
      "application/vnd.jupyter.widget-view+json": {
       "model_id": "71a4b9e042e44a88b3305d83c26eb51d",
       "version_major": 2,
       "version_minor": 0
      },
      "text/plain": [
       "Batch 51/501:   0%|          | 0/100 [00:00<?, ?it/s]"
      ]
     },
     "metadata": {},
     "output_type": "display_data"
    },
    {
     "data": {
      "application/vnd.jupyter.widget-view+json": {
       "model_id": "18e9096c106745db992d488dd6f0c61b",
       "version_major": 2,
       "version_minor": 0
      },
      "text/plain": [
       "Batch 52/501:   0%|          | 0/100 [00:00<?, ?it/s]"
      ]
     },
     "metadata": {},
     "output_type": "display_data"
    },
    {
     "data": {
      "application/vnd.jupyter.widget-view+json": {
       "model_id": "dabc20b89cbc4342b0536b0a884c74ca",
       "version_major": 2,
       "version_minor": 0
      },
      "text/plain": [
       "Batch 53/501:   0%|          | 0/100 [00:00<?, ?it/s]"
      ]
     },
     "metadata": {},
     "output_type": "display_data"
    },
    {
     "data": {
      "application/vnd.jupyter.widget-view+json": {
       "model_id": "b09d9514b04148c9b0e9a1dea3ad3b1d",
       "version_major": 2,
       "version_minor": 0
      },
      "text/plain": [
       "Batch 54/501:   0%|          | 0/100 [00:00<?, ?it/s]"
      ]
     },
     "metadata": {},
     "output_type": "display_data"
    },
    {
     "data": {
      "application/vnd.jupyter.widget-view+json": {
       "model_id": "95b2b54565f94bee8200cc343e6d5457",
       "version_major": 2,
       "version_minor": 0
      },
      "text/plain": [
       "Batch 55/501:   0%|          | 0/100 [00:00<?, ?it/s]"
      ]
     },
     "metadata": {},
     "output_type": "display_data"
    },
    {
     "data": {
      "application/vnd.jupyter.widget-view+json": {
       "model_id": "c407bb14404b4eb5b05c7159a19d1a6a",
       "version_major": 2,
       "version_minor": 0
      },
      "text/plain": [
       "Batch 56/501:   0%|          | 0/100 [00:00<?, ?it/s]"
      ]
     },
     "metadata": {},
     "output_type": "display_data"
    },
    {
     "data": {
      "application/vnd.jupyter.widget-view+json": {
       "model_id": "a4f78bcebd5244a084ee5ccff3f7368c",
       "version_major": 2,
       "version_minor": 0
      },
      "text/plain": [
       "Batch 57/501:   0%|          | 0/100 [00:00<?, ?it/s]"
      ]
     },
     "metadata": {},
     "output_type": "display_data"
    },
    {
     "data": {
      "application/vnd.jupyter.widget-view+json": {
       "model_id": "c7150855862d4fe98fb8f876bfefa2a9",
       "version_major": 2,
       "version_minor": 0
      },
      "text/plain": [
       "Batch 58/501:   0%|          | 0/100 [00:00<?, ?it/s]"
      ]
     },
     "metadata": {},
     "output_type": "display_data"
    },
    {
     "data": {
      "application/vnd.jupyter.widget-view+json": {
       "model_id": "ef36192075874d149b29d92cb563ec54",
       "version_major": 2,
       "version_minor": 0
      },
      "text/plain": [
       "Batch 59/501:   0%|          | 0/100 [00:00<?, ?it/s]"
      ]
     },
     "metadata": {},
     "output_type": "display_data"
    },
    {
     "data": {
      "application/vnd.jupyter.widget-view+json": {
       "model_id": "61028ff1f41747548a90776df5da554c",
       "version_major": 2,
       "version_minor": 0
      },
      "text/plain": [
       "Batch 60/501:   0%|          | 0/100 [00:00<?, ?it/s]"
      ]
     },
     "metadata": {},
     "output_type": "display_data"
    },
    {
     "data": {
      "application/vnd.jupyter.widget-view+json": {
       "model_id": "da8f697dad7a473a85a0e315ab0f9595",
       "version_major": 2,
       "version_minor": 0
      },
      "text/plain": [
       "Batch 61/501:   0%|          | 0/100 [00:00<?, ?it/s]"
      ]
     },
     "metadata": {},
     "output_type": "display_data"
    },
    {
     "data": {
      "application/vnd.jupyter.widget-view+json": {
       "model_id": "6ce59f0ed7c54bd4bfda1dbb38e57741",
       "version_major": 2,
       "version_minor": 0
      },
      "text/plain": [
       "Batch 62/501:   0%|          | 0/100 [00:00<?, ?it/s]"
      ]
     },
     "metadata": {},
     "output_type": "display_data"
    },
    {
     "data": {
      "application/vnd.jupyter.widget-view+json": {
       "model_id": "db3ad299e1954f52aa4d4c88b86fdd03",
       "version_major": 2,
       "version_minor": 0
      },
      "text/plain": [
       "Batch 63/501:   0%|          | 0/100 [00:00<?, ?it/s]"
      ]
     },
     "metadata": {},
     "output_type": "display_data"
    },
    {
     "data": {
      "application/vnd.jupyter.widget-view+json": {
       "model_id": "0a20b1d8b5084706a540a5a9846e7cf7",
       "version_major": 2,
       "version_minor": 0
      },
      "text/plain": [
       "Batch 64/501:   0%|          | 0/100 [00:00<?, ?it/s]"
      ]
     },
     "metadata": {},
     "output_type": "display_data"
    },
    {
     "data": {
      "application/vnd.jupyter.widget-view+json": {
       "model_id": "100bc5a994104efd8051d391079e51cf",
       "version_major": 2,
       "version_minor": 0
      },
      "text/plain": [
       "Batch 65/501:   0%|          | 0/100 [00:00<?, ?it/s]"
      ]
     },
     "metadata": {},
     "output_type": "display_data"
    },
    {
     "data": {
      "application/vnd.jupyter.widget-view+json": {
       "model_id": "40b34705653f4bc2aafd2683ba5fdc8a",
       "version_major": 2,
       "version_minor": 0
      },
      "text/plain": [
       "Batch 66/501:   0%|          | 0/100 [00:00<?, ?it/s]"
      ]
     },
     "metadata": {},
     "output_type": "display_data"
    },
    {
     "data": {
      "application/vnd.jupyter.widget-view+json": {
       "model_id": "71b7a972f3fc48b7ad6855418e0b4195",
       "version_major": 2,
       "version_minor": 0
      },
      "text/plain": [
       "Batch 67/501:   0%|          | 0/100 [00:00<?, ?it/s]"
      ]
     },
     "metadata": {},
     "output_type": "display_data"
    },
    {
     "data": {
      "application/vnd.jupyter.widget-view+json": {
       "model_id": "05c90ae1aa7943039fbf312aed3e06de",
       "version_major": 2,
       "version_minor": 0
      },
      "text/plain": [
       "Batch 68/501:   0%|          | 0/100 [00:00<?, ?it/s]"
      ]
     },
     "metadata": {},
     "output_type": "display_data"
    },
    {
     "data": {
      "application/vnd.jupyter.widget-view+json": {
       "model_id": "605aae4e52164d78a49fd7a4d4aae6ab",
       "version_major": 2,
       "version_minor": 0
      },
      "text/plain": [
       "Batch 69/501:   0%|          | 0/100 [00:00<?, ?it/s]"
      ]
     },
     "metadata": {},
     "output_type": "display_data"
    },
    {
     "data": {
      "application/vnd.jupyter.widget-view+json": {
       "model_id": "121aae39b50a48ec9c1189d84f0c7ba7",
       "version_major": 2,
       "version_minor": 0
      },
      "text/plain": [
       "Batch 70/501:   0%|          | 0/100 [00:00<?, ?it/s]"
      ]
     },
     "metadata": {},
     "output_type": "display_data"
    },
    {
     "data": {
      "application/vnd.jupyter.widget-view+json": {
       "model_id": "1cc83bf781f14639b3147ff3afd9b4b8",
       "version_major": 2,
       "version_minor": 0
      },
      "text/plain": [
       "Batch 71/501:   0%|          | 0/100 [00:00<?, ?it/s]"
      ]
     },
     "metadata": {},
     "output_type": "display_data"
    },
    {
     "data": {
      "application/vnd.jupyter.widget-view+json": {
       "model_id": "df23d6df176e42cc85830ff29f7b40f4",
       "version_major": 2,
       "version_minor": 0
      },
      "text/plain": [
       "Batch 72/501:   0%|          | 0/100 [00:00<?, ?it/s]"
      ]
     },
     "metadata": {},
     "output_type": "display_data"
    },
    {
     "data": {
      "application/vnd.jupyter.widget-view+json": {
       "model_id": "668fe3edc5a043ca8144d52b36159184",
       "version_major": 2,
       "version_minor": 0
      },
      "text/plain": [
       "Batch 73/501:   0%|          | 0/100 [00:00<?, ?it/s]"
      ]
     },
     "metadata": {},
     "output_type": "display_data"
    },
    {
     "data": {
      "application/vnd.jupyter.widget-view+json": {
       "model_id": "9d544c6c497d49ba9136f130cc7544fd",
       "version_major": 2,
       "version_minor": 0
      },
      "text/plain": [
       "Batch 74/501:   0%|          | 0/100 [00:00<?, ?it/s]"
      ]
     },
     "metadata": {},
     "output_type": "display_data"
    },
    {
     "data": {
      "application/vnd.jupyter.widget-view+json": {
       "model_id": "1399b17fde5d4ae8887078f2cf5c4767",
       "version_major": 2,
       "version_minor": 0
      },
      "text/plain": [
       "Batch 75/501:   0%|          | 0/100 [00:00<?, ?it/s]"
      ]
     },
     "metadata": {},
     "output_type": "display_data"
    },
    {
     "data": {
      "application/vnd.jupyter.widget-view+json": {
       "model_id": "171288d9789e416095beee2bd9598a67",
       "version_major": 2,
       "version_minor": 0
      },
      "text/plain": [
       "Batch 76/501:   0%|          | 0/100 [00:00<?, ?it/s]"
      ]
     },
     "metadata": {},
     "output_type": "display_data"
    },
    {
     "data": {
      "application/vnd.jupyter.widget-view+json": {
       "model_id": "6eeeee63462a4e3a9f1ee79fe7d64b03",
       "version_major": 2,
       "version_minor": 0
      },
      "text/plain": [
       "Batch 77/501:   0%|          | 0/100 [00:00<?, ?it/s]"
      ]
     },
     "metadata": {},
     "output_type": "display_data"
    },
    {
     "data": {
      "application/vnd.jupyter.widget-view+json": {
       "model_id": "88b01a9513794b399a58216607738aef",
       "version_major": 2,
       "version_minor": 0
      },
      "text/plain": [
       "Batch 78/501:   0%|          | 0/100 [00:00<?, ?it/s]"
      ]
     },
     "metadata": {},
     "output_type": "display_data"
    },
    {
     "data": {
      "application/vnd.jupyter.widget-view+json": {
       "model_id": "e22bc2228754437596b19412f10386b7",
       "version_major": 2,
       "version_minor": 0
      },
      "text/plain": [
       "Batch 79/501:   0%|          | 0/100 [00:00<?, ?it/s]"
      ]
     },
     "metadata": {},
     "output_type": "display_data"
    },
    {
     "data": {
      "application/vnd.jupyter.widget-view+json": {
       "model_id": "2f2e66387e2f4125a2f1d3af151a2a11",
       "version_major": 2,
       "version_minor": 0
      },
      "text/plain": [
       "Batch 80/501:   0%|          | 0/100 [00:00<?, ?it/s]"
      ]
     },
     "metadata": {},
     "output_type": "display_data"
    },
    {
     "data": {
      "application/vnd.jupyter.widget-view+json": {
       "model_id": "9d5523e450a04e3db8378e8cab741913",
       "version_major": 2,
       "version_minor": 0
      },
      "text/plain": [
       "Batch 81/501:   0%|          | 0/100 [00:00<?, ?it/s]"
      ]
     },
     "metadata": {},
     "output_type": "display_data"
    },
    {
     "data": {
      "application/vnd.jupyter.widget-view+json": {
       "model_id": "f975bba5f64f46458b974f629b24336b",
       "version_major": 2,
       "version_minor": 0
      },
      "text/plain": [
       "Batch 82/501:   0%|          | 0/100 [00:00<?, ?it/s]"
      ]
     },
     "metadata": {},
     "output_type": "display_data"
    },
    {
     "data": {
      "application/vnd.jupyter.widget-view+json": {
       "model_id": "91a14cf4338849c4bfd7ee5361566bcc",
       "version_major": 2,
       "version_minor": 0
      },
      "text/plain": [
       "Batch 83/501:   0%|          | 0/100 [00:00<?, ?it/s]"
      ]
     },
     "metadata": {},
     "output_type": "display_data"
    },
    {
     "data": {
      "application/vnd.jupyter.widget-view+json": {
       "model_id": "dddc677a062b4c149e7dcfc4ddff5ced",
       "version_major": 2,
       "version_minor": 0
      },
      "text/plain": [
       "Batch 84/501:   0%|          | 0/100 [00:00<?, ?it/s]"
      ]
     },
     "metadata": {},
     "output_type": "display_data"
    },
    {
     "data": {
      "application/vnd.jupyter.widget-view+json": {
       "model_id": "86eec14096e14b429a274196e344e4a7",
       "version_major": 2,
       "version_minor": 0
      },
      "text/plain": [
       "Batch 85/501:   0%|          | 0/100 [00:00<?, ?it/s]"
      ]
     },
     "metadata": {},
     "output_type": "display_data"
    },
    {
     "data": {
      "application/vnd.jupyter.widget-view+json": {
       "model_id": "bf99c55b30e646a1b04d43ae6d229f8e",
       "version_major": 2,
       "version_minor": 0
      },
      "text/plain": [
       "Batch 86/501:   0%|          | 0/100 [00:00<?, ?it/s]"
      ]
     },
     "metadata": {},
     "output_type": "display_data"
    },
    {
     "data": {
      "application/vnd.jupyter.widget-view+json": {
       "model_id": "536bcc51149c4f319f5a11610d518a09",
       "version_major": 2,
       "version_minor": 0
      },
      "text/plain": [
       "Batch 87/501:   0%|          | 0/100 [00:00<?, ?it/s]"
      ]
     },
     "metadata": {},
     "output_type": "display_data"
    },
    {
     "data": {
      "application/vnd.jupyter.widget-view+json": {
       "model_id": "5255975cb95a4d3ca418534ae52ae6c8",
       "version_major": 2,
       "version_minor": 0
      },
      "text/plain": [
       "Batch 88/501:   0%|          | 0/100 [00:00<?, ?it/s]"
      ]
     },
     "metadata": {},
     "output_type": "display_data"
    },
    {
     "data": {
      "application/vnd.jupyter.widget-view+json": {
       "model_id": "b07307cb2f70497aa309c46a7a733260",
       "version_major": 2,
       "version_minor": 0
      },
      "text/plain": [
       "Batch 89/501:   0%|          | 0/100 [00:00<?, ?it/s]"
      ]
     },
     "metadata": {},
     "output_type": "display_data"
    },
    {
     "data": {
      "application/vnd.jupyter.widget-view+json": {
       "model_id": "e5f0a8e9b3b64a9482d56128514388b5",
       "version_major": 2,
       "version_minor": 0
      },
      "text/plain": [
       "Batch 90/501:   0%|          | 0/100 [00:00<?, ?it/s]"
      ]
     },
     "metadata": {},
     "output_type": "display_data"
    },
    {
     "data": {
      "application/vnd.jupyter.widget-view+json": {
       "model_id": "a9c4a8d2689942f3bc29d16eb361b1f6",
       "version_major": 2,
       "version_minor": 0
      },
      "text/plain": [
       "Batch 91/501:   0%|          | 0/100 [00:00<?, ?it/s]"
      ]
     },
     "metadata": {},
     "output_type": "display_data"
    },
    {
     "data": {
      "application/vnd.jupyter.widget-view+json": {
       "model_id": "0957ba495ff341f3822ea57e38d473bd",
       "version_major": 2,
       "version_minor": 0
      },
      "text/plain": [
       "Batch 92/501:   0%|          | 0/100 [00:00<?, ?it/s]"
      ]
     },
     "metadata": {},
     "output_type": "display_data"
    },
    {
     "data": {
      "application/vnd.jupyter.widget-view+json": {
       "model_id": "995925c067ed41e89206bb2c41ac60ef",
       "version_major": 2,
       "version_minor": 0
      },
      "text/plain": [
       "Batch 93/501:   0%|          | 0/100 [00:00<?, ?it/s]"
      ]
     },
     "metadata": {},
     "output_type": "display_data"
    },
    {
     "data": {
      "application/vnd.jupyter.widget-view+json": {
       "model_id": "902d00606af14a7ea610b6bca774c997",
       "version_major": 2,
       "version_minor": 0
      },
      "text/plain": [
       "Batch 94/501:   0%|          | 0/100 [00:00<?, ?it/s]"
      ]
     },
     "metadata": {},
     "output_type": "display_data"
    },
    {
     "data": {
      "application/vnd.jupyter.widget-view+json": {
       "model_id": "3ec45e60374846e981b7155e29ca73fb",
       "version_major": 2,
       "version_minor": 0
      },
      "text/plain": [
       "Batch 95/501:   0%|          | 0/100 [00:00<?, ?it/s]"
      ]
     },
     "metadata": {},
     "output_type": "display_data"
    },
    {
     "data": {
      "application/vnd.jupyter.widget-view+json": {
       "model_id": "7d997091380a4e97918b918a5fce4097",
       "version_major": 2,
       "version_minor": 0
      },
      "text/plain": [
       "Batch 96/501:   0%|          | 0/100 [00:00<?, ?it/s]"
      ]
     },
     "metadata": {},
     "output_type": "display_data"
    },
    {
     "data": {
      "application/vnd.jupyter.widget-view+json": {
       "model_id": "d2893bf7e7594d5caea9a117631c10e1",
       "version_major": 2,
       "version_minor": 0
      },
      "text/plain": [
       "Batch 97/501:   0%|          | 0/100 [00:00<?, ?it/s]"
      ]
     },
     "metadata": {},
     "output_type": "display_data"
    },
    {
     "data": {
      "application/vnd.jupyter.widget-view+json": {
       "model_id": "5323f21503114ed0937328d05ab8a876",
       "version_major": 2,
       "version_minor": 0
      },
      "text/plain": [
       "Batch 98/501:   0%|          | 0/100 [00:00<?, ?it/s]"
      ]
     },
     "metadata": {},
     "output_type": "display_data"
    },
    {
     "data": {
      "application/vnd.jupyter.widget-view+json": {
       "model_id": "27cbd24990fd4dafafc5e6bc8b43afc4",
       "version_major": 2,
       "version_minor": 0
      },
      "text/plain": [
       "Batch 99/501:   0%|          | 0/100 [00:00<?, ?it/s]"
      ]
     },
     "metadata": {},
     "output_type": "display_data"
    },
    {
     "data": {
      "application/vnd.jupyter.widget-view+json": {
       "model_id": "5a55921d9422486e8f35da6643ec3996",
       "version_major": 2,
       "version_minor": 0
      },
      "text/plain": [
       "Batch 100/501:   0%|          | 0/100 [00:00<?, ?it/s]"
      ]
     },
     "metadata": {},
     "output_type": "display_data"
    },
    {
     "data": {
      "application/vnd.jupyter.widget-view+json": {
       "model_id": "02e64e5ad34340338c18384318fe9b77",
       "version_major": 2,
       "version_minor": 0
      },
      "text/plain": [
       "Batch 101/501:   0%|          | 0/100 [00:00<?, ?it/s]"
      ]
     },
     "metadata": {},
     "output_type": "display_data"
    },
    {
     "data": {
      "application/vnd.jupyter.widget-view+json": {
       "model_id": "75b59c2c26ef454d8418feae1ac8cf08",
       "version_major": 2,
       "version_minor": 0
      },
      "text/plain": [
       "Batch 102/501:   0%|          | 0/100 [00:00<?, ?it/s]"
      ]
     },
     "metadata": {},
     "output_type": "display_data"
    },
    {
     "data": {
      "application/vnd.jupyter.widget-view+json": {
       "model_id": "1b0db38d46ff4418aae254801cb4f989",
       "version_major": 2,
       "version_minor": 0
      },
      "text/plain": [
       "Batch 103/501:   0%|          | 0/100 [00:00<?, ?it/s]"
      ]
     },
     "metadata": {},
     "output_type": "display_data"
    },
    {
     "data": {
      "application/vnd.jupyter.widget-view+json": {
       "model_id": "a9fd7c526ae84b4b9148305e55e89354",
       "version_major": 2,
       "version_minor": 0
      },
      "text/plain": [
       "Batch 104/501:   0%|          | 0/100 [00:00<?, ?it/s]"
      ]
     },
     "metadata": {},
     "output_type": "display_data"
    },
    {
     "data": {
      "application/vnd.jupyter.widget-view+json": {
       "model_id": "805bcb031d11413987c296658e27559d",
       "version_major": 2,
       "version_minor": 0
      },
      "text/plain": [
       "Batch 105/501:   0%|          | 0/100 [00:00<?, ?it/s]"
      ]
     },
     "metadata": {},
     "output_type": "display_data"
    },
    {
     "data": {
      "application/vnd.jupyter.widget-view+json": {
       "model_id": "d3551f0598334563bd4fab5cf2033aa4",
       "version_major": 2,
       "version_minor": 0
      },
      "text/plain": [
       "Batch 106/501:   0%|          | 0/100 [00:00<?, ?it/s]"
      ]
     },
     "metadata": {},
     "output_type": "display_data"
    },
    {
     "data": {
      "application/vnd.jupyter.widget-view+json": {
       "model_id": "170ad778888a4bbebdcd1fb1a3c89ab3",
       "version_major": 2,
       "version_minor": 0
      },
      "text/plain": [
       "Batch 107/501:   0%|          | 0/100 [00:00<?, ?it/s]"
      ]
     },
     "metadata": {},
     "output_type": "display_data"
    },
    {
     "data": {
      "application/vnd.jupyter.widget-view+json": {
       "model_id": "33d9e01862aa45d08ad3617eb43103d4",
       "version_major": 2,
       "version_minor": 0
      },
      "text/plain": [
       "Batch 108/501:   0%|          | 0/100 [00:00<?, ?it/s]"
      ]
     },
     "metadata": {},
     "output_type": "display_data"
    },
    {
     "data": {
      "application/vnd.jupyter.widget-view+json": {
       "model_id": "4e479dd33b8844b6aeb1a407d38ad946",
       "version_major": 2,
       "version_minor": 0
      },
      "text/plain": [
       "Batch 109/501:   0%|          | 0/100 [00:00<?, ?it/s]"
      ]
     },
     "metadata": {},
     "output_type": "display_data"
    },
    {
     "data": {
      "application/vnd.jupyter.widget-view+json": {
       "model_id": "b9c123811e3a4d1b9cc227854e54a70a",
       "version_major": 2,
       "version_minor": 0
      },
      "text/plain": [
       "Batch 110/501:   0%|          | 0/100 [00:00<?, ?it/s]"
      ]
     },
     "metadata": {},
     "output_type": "display_data"
    },
    {
     "data": {
      "application/vnd.jupyter.widget-view+json": {
       "model_id": "e942c5d6410549dcaaf5d0ea625ba2f4",
       "version_major": 2,
       "version_minor": 0
      },
      "text/plain": [
       "Batch 111/501:   0%|          | 0/100 [00:00<?, ?it/s]"
      ]
     },
     "metadata": {},
     "output_type": "display_data"
    },
    {
     "data": {
      "application/vnd.jupyter.widget-view+json": {
       "model_id": "2e18d58a46954495b4107ae3bca4375f",
       "version_major": 2,
       "version_minor": 0
      },
      "text/plain": [
       "Batch 112/501:   0%|          | 0/100 [00:00<?, ?it/s]"
      ]
     },
     "metadata": {},
     "output_type": "display_data"
    },
    {
     "data": {
      "application/vnd.jupyter.widget-view+json": {
       "model_id": "19c1d1f306314999b76ab1f70d8d7fc0",
       "version_major": 2,
       "version_minor": 0
      },
      "text/plain": [
       "Batch 113/501:   0%|          | 0/100 [00:00<?, ?it/s]"
      ]
     },
     "metadata": {},
     "output_type": "display_data"
    },
    {
     "data": {
      "application/vnd.jupyter.widget-view+json": {
       "model_id": "020144b31c1346a1ab264cd21862691a",
       "version_major": 2,
       "version_minor": 0
      },
      "text/plain": [
       "Batch 114/501:   0%|          | 0/100 [00:00<?, ?it/s]"
      ]
     },
     "metadata": {},
     "output_type": "display_data"
    },
    {
     "data": {
      "application/vnd.jupyter.widget-view+json": {
       "model_id": "41e02274d6fc41778b5d602ee9538ffa",
       "version_major": 2,
       "version_minor": 0
      },
      "text/plain": [
       "Batch 115/501:   0%|          | 0/100 [00:00<?, ?it/s]"
      ]
     },
     "metadata": {},
     "output_type": "display_data"
    },
    {
     "data": {
      "application/vnd.jupyter.widget-view+json": {
       "model_id": "9aea0e39d8b34184bf04aca4df803947",
       "version_major": 2,
       "version_minor": 0
      },
      "text/plain": [
       "Batch 116/501:   0%|          | 0/100 [00:00<?, ?it/s]"
      ]
     },
     "metadata": {},
     "output_type": "display_data"
    },
    {
     "data": {
      "application/vnd.jupyter.widget-view+json": {
       "model_id": "0fc491ef304947c8a8bb7092b9dc5e54",
       "version_major": 2,
       "version_minor": 0
      },
      "text/plain": [
       "Batch 117/501:   0%|          | 0/100 [00:00<?, ?it/s]"
      ]
     },
     "metadata": {},
     "output_type": "display_data"
    },
    {
     "data": {
      "application/vnd.jupyter.widget-view+json": {
       "model_id": "a33c9101507340af9c492a14b6be0739",
       "version_major": 2,
       "version_minor": 0
      },
      "text/plain": [
       "Batch 118/501:   0%|          | 0/100 [00:00<?, ?it/s]"
      ]
     },
     "metadata": {},
     "output_type": "display_data"
    },
    {
     "data": {
      "application/vnd.jupyter.widget-view+json": {
       "model_id": "2a55f48ebffb4ca2bc1c6a59cc3d6245",
       "version_major": 2,
       "version_minor": 0
      },
      "text/plain": [
       "Batch 119/501:   0%|          | 0/100 [00:00<?, ?it/s]"
      ]
     },
     "metadata": {},
     "output_type": "display_data"
    },
    {
     "data": {
      "application/vnd.jupyter.widget-view+json": {
       "model_id": "2b95ffd80f674072bf549d3e8672f6f5",
       "version_major": 2,
       "version_minor": 0
      },
      "text/plain": [
       "Batch 120/501:   0%|          | 0/100 [00:00<?, ?it/s]"
      ]
     },
     "metadata": {},
     "output_type": "display_data"
    },
    {
     "data": {
      "application/vnd.jupyter.widget-view+json": {
       "model_id": "f2ddaaa410a04154ba8719a64610778e",
       "version_major": 2,
       "version_minor": 0
      },
      "text/plain": [
       "Batch 121/501:   0%|          | 0/100 [00:00<?, ?it/s]"
      ]
     },
     "metadata": {},
     "output_type": "display_data"
    },
    {
     "data": {
      "application/vnd.jupyter.widget-view+json": {
       "model_id": "6f887ef662d8451695b78ba79106f56c",
       "version_major": 2,
       "version_minor": 0
      },
      "text/plain": [
       "Batch 122/501:   0%|          | 0/100 [00:00<?, ?it/s]"
      ]
     },
     "metadata": {},
     "output_type": "display_data"
    },
    {
     "data": {
      "application/vnd.jupyter.widget-view+json": {
       "model_id": "37565438ad6c4a3f92fd282f4bc72916",
       "version_major": 2,
       "version_minor": 0
      },
      "text/plain": [
       "Batch 123/501:   0%|          | 0/100 [00:00<?, ?it/s]"
      ]
     },
     "metadata": {},
     "output_type": "display_data"
    },
    {
     "data": {
      "application/vnd.jupyter.widget-view+json": {
       "model_id": "7d59a6a8b11e434b8dd6d58a9861910b",
       "version_major": 2,
       "version_minor": 0
      },
      "text/plain": [
       "Batch 124/501:   0%|          | 0/100 [00:00<?, ?it/s]"
      ]
     },
     "metadata": {},
     "output_type": "display_data"
    },
    {
     "data": {
      "application/vnd.jupyter.widget-view+json": {
       "model_id": "390bf478f7ad40f789fc129d524eec65",
       "version_major": 2,
       "version_minor": 0
      },
      "text/plain": [
       "Batch 125/501:   0%|          | 0/100 [00:00<?, ?it/s]"
      ]
     },
     "metadata": {},
     "output_type": "display_data"
    },
    {
     "data": {
      "application/vnd.jupyter.widget-view+json": {
       "model_id": "b35d710bcfc14ce79db428a2f1ecf160",
       "version_major": 2,
       "version_minor": 0
      },
      "text/plain": [
       "Batch 126/501:   0%|          | 0/100 [00:00<?, ?it/s]"
      ]
     },
     "metadata": {},
     "output_type": "display_data"
    },
    {
     "data": {
      "application/vnd.jupyter.widget-view+json": {
       "model_id": "1ee0d0d2bf024caaaabdc528e75c3c46",
       "version_major": 2,
       "version_minor": 0
      },
      "text/plain": [
       "Batch 127/501:   0%|          | 0/100 [00:00<?, ?it/s]"
      ]
     },
     "metadata": {},
     "output_type": "display_data"
    },
    {
     "data": {
      "application/vnd.jupyter.widget-view+json": {
       "model_id": "8fb1790633634a03bf7a2c06f393946d",
       "version_major": 2,
       "version_minor": 0
      },
      "text/plain": [
       "Batch 128/501:   0%|          | 0/100 [00:00<?, ?it/s]"
      ]
     },
     "metadata": {},
     "output_type": "display_data"
    },
    {
     "data": {
      "application/vnd.jupyter.widget-view+json": {
       "model_id": "012e781798444ae6bc7db91c3a4ad524",
       "version_major": 2,
       "version_minor": 0
      },
      "text/plain": [
       "Batch 129/501:   0%|          | 0/100 [00:00<?, ?it/s]"
      ]
     },
     "metadata": {},
     "output_type": "display_data"
    },
    {
     "data": {
      "application/vnd.jupyter.widget-view+json": {
       "model_id": "9a1edeb474224271b78038a7594e6c57",
       "version_major": 2,
       "version_minor": 0
      },
      "text/plain": [
       "Batch 130/501:   0%|          | 0/100 [00:00<?, ?it/s]"
      ]
     },
     "metadata": {},
     "output_type": "display_data"
    },
    {
     "data": {
      "application/vnd.jupyter.widget-view+json": {
       "model_id": "e857acd260b247e49b4bd02b55ea0b8c",
       "version_major": 2,
       "version_minor": 0
      },
      "text/plain": [
       "Batch 131/501:   0%|          | 0/100 [00:00<?, ?it/s]"
      ]
     },
     "metadata": {},
     "output_type": "display_data"
    },
    {
     "data": {
      "application/vnd.jupyter.widget-view+json": {
       "model_id": "06f37e61b64a4298b7e36eed27c3c00c",
       "version_major": 2,
       "version_minor": 0
      },
      "text/plain": [
       "Batch 132/501:   0%|          | 0/100 [00:00<?, ?it/s]"
      ]
     },
     "metadata": {},
     "output_type": "display_data"
    },
    {
     "data": {
      "application/vnd.jupyter.widget-view+json": {
       "model_id": "3b19aa0ec0ea4863bf51312080b31f54",
       "version_major": 2,
       "version_minor": 0
      },
      "text/plain": [
       "Batch 133/501:   0%|          | 0/100 [00:00<?, ?it/s]"
      ]
     },
     "metadata": {},
     "output_type": "display_data"
    },
    {
     "data": {
      "application/vnd.jupyter.widget-view+json": {
       "model_id": "5f399e80e4cd4a35b7474d7f72fdc129",
       "version_major": 2,
       "version_minor": 0
      },
      "text/plain": [
       "Batch 134/501:   0%|          | 0/100 [00:00<?, ?it/s]"
      ]
     },
     "metadata": {},
     "output_type": "display_data"
    },
    {
     "data": {
      "application/vnd.jupyter.widget-view+json": {
       "model_id": "543489f7acd9463db0add0b8e99cda77",
       "version_major": 2,
       "version_minor": 0
      },
      "text/plain": [
       "Batch 135/501:   0%|          | 0/100 [00:00<?, ?it/s]"
      ]
     },
     "metadata": {},
     "output_type": "display_data"
    },
    {
     "data": {
      "application/vnd.jupyter.widget-view+json": {
       "model_id": "36d9b55239c24cc3b2c04b112959aa7c",
       "version_major": 2,
       "version_minor": 0
      },
      "text/plain": [
       "Batch 136/501:   0%|          | 0/100 [00:00<?, ?it/s]"
      ]
     },
     "metadata": {},
     "output_type": "display_data"
    },
    {
     "data": {
      "application/vnd.jupyter.widget-view+json": {
       "model_id": "522eefeef9c34d928ec85462acf37f0b",
       "version_major": 2,
       "version_minor": 0
      },
      "text/plain": [
       "Batch 137/501:   0%|          | 0/100 [00:00<?, ?it/s]"
      ]
     },
     "metadata": {},
     "output_type": "display_data"
    },
    {
     "data": {
      "application/vnd.jupyter.widget-view+json": {
       "model_id": "db898350af574f64baa930c7c9119d8d",
       "version_major": 2,
       "version_minor": 0
      },
      "text/plain": [
       "Batch 138/501:   0%|          | 0/100 [00:00<?, ?it/s]"
      ]
     },
     "metadata": {},
     "output_type": "display_data"
    },
    {
     "data": {
      "application/vnd.jupyter.widget-view+json": {
       "model_id": "6dd08056abdd49cc8768b6891cb02005",
       "version_major": 2,
       "version_minor": 0
      },
      "text/plain": [
       "Batch 139/501:   0%|          | 0/100 [00:00<?, ?it/s]"
      ]
     },
     "metadata": {},
     "output_type": "display_data"
    },
    {
     "data": {
      "application/vnd.jupyter.widget-view+json": {
       "model_id": "3482a6ac80cf4e70877fbfc62f18ac5d",
       "version_major": 2,
       "version_minor": 0
      },
      "text/plain": [
       "Batch 140/501:   0%|          | 0/100 [00:00<?, ?it/s]"
      ]
     },
     "metadata": {},
     "output_type": "display_data"
    },
    {
     "data": {
      "application/vnd.jupyter.widget-view+json": {
       "model_id": "57a92f8387d047d29ceccf6ed4eabb28",
       "version_major": 2,
       "version_minor": 0
      },
      "text/plain": [
       "Batch 141/501:   0%|          | 0/100 [00:00<?, ?it/s]"
      ]
     },
     "metadata": {},
     "output_type": "display_data"
    },
    {
     "data": {
      "application/vnd.jupyter.widget-view+json": {
       "model_id": "2900fd19a94d4708b261d0c54e2ae7c0",
       "version_major": 2,
       "version_minor": 0
      },
      "text/plain": [
       "Batch 142/501:   0%|          | 0/100 [00:00<?, ?it/s]"
      ]
     },
     "metadata": {},
     "output_type": "display_data"
    },
    {
     "data": {
      "application/vnd.jupyter.widget-view+json": {
       "model_id": "1be809fb782d46f2ae59c4db1ff5e5fa",
       "version_major": 2,
       "version_minor": 0
      },
      "text/plain": [
       "Batch 143/501:   0%|          | 0/100 [00:00<?, ?it/s]"
      ]
     },
     "metadata": {},
     "output_type": "display_data"
    },
    {
     "data": {
      "application/vnd.jupyter.widget-view+json": {
       "model_id": "3a2d4626e0344aeab6d884a62127b805",
       "version_major": 2,
       "version_minor": 0
      },
      "text/plain": [
       "Batch 144/501:   0%|          | 0/100 [00:00<?, ?it/s]"
      ]
     },
     "metadata": {},
     "output_type": "display_data"
    },
    {
     "data": {
      "application/vnd.jupyter.widget-view+json": {
       "model_id": "6b14d5280c494ec0a1ed9a75a9680769",
       "version_major": 2,
       "version_minor": 0
      },
      "text/plain": [
       "Batch 145/501:   0%|          | 0/100 [00:00<?, ?it/s]"
      ]
     },
     "metadata": {},
     "output_type": "display_data"
    },
    {
     "data": {
      "application/vnd.jupyter.widget-view+json": {
       "model_id": "d33137422b3343ce8086a8855540e865",
       "version_major": 2,
       "version_minor": 0
      },
      "text/plain": [
       "Batch 146/501:   0%|          | 0/100 [00:00<?, ?it/s]"
      ]
     },
     "metadata": {},
     "output_type": "display_data"
    },
    {
     "data": {
      "application/vnd.jupyter.widget-view+json": {
       "model_id": "fd60c53b299543dc83aa479780f3a191",
       "version_major": 2,
       "version_minor": 0
      },
      "text/plain": [
       "Batch 147/501:   0%|          | 0/100 [00:00<?, ?it/s]"
      ]
     },
     "metadata": {},
     "output_type": "display_data"
    },
    {
     "data": {
      "application/vnd.jupyter.widget-view+json": {
       "model_id": "a7cb8685fa8f47ba8e595951babd2912",
       "version_major": 2,
       "version_minor": 0
      },
      "text/plain": [
       "Batch 148/501:   0%|          | 0/100 [00:00<?, ?it/s]"
      ]
     },
     "metadata": {},
     "output_type": "display_data"
    },
    {
     "data": {
      "application/vnd.jupyter.widget-view+json": {
       "model_id": "c3d0392b5b3f4010a9ec7f16d63057f1",
       "version_major": 2,
       "version_minor": 0
      },
      "text/plain": [
       "Batch 149/501:   0%|          | 0/100 [00:00<?, ?it/s]"
      ]
     },
     "metadata": {},
     "output_type": "display_data"
    },
    {
     "data": {
      "application/vnd.jupyter.widget-view+json": {
       "model_id": "48c2efbec50a4db49889ad7bfbb7b4de",
       "version_major": 2,
       "version_minor": 0
      },
      "text/plain": [
       "Batch 150/501:   0%|          | 0/100 [00:00<?, ?it/s]"
      ]
     },
     "metadata": {},
     "output_type": "display_data"
    },
    {
     "data": {
      "application/vnd.jupyter.widget-view+json": {
       "model_id": "d3f9c181180146d9a0c24b7a0b7f7e83",
       "version_major": 2,
       "version_minor": 0
      },
      "text/plain": [
       "Batch 151/501:   0%|          | 0/100 [00:00<?, ?it/s]"
      ]
     },
     "metadata": {},
     "output_type": "display_data"
    },
    {
     "data": {
      "application/vnd.jupyter.widget-view+json": {
       "model_id": "347f39de26d74d288bc9c99de1656cb4",
       "version_major": 2,
       "version_minor": 0
      },
      "text/plain": [
       "Batch 152/501:   0%|          | 0/100 [00:00<?, ?it/s]"
      ]
     },
     "metadata": {},
     "output_type": "display_data"
    },
    {
     "data": {
      "application/vnd.jupyter.widget-view+json": {
       "model_id": "04f1000fc99a4860b04ac6d2745fe941",
       "version_major": 2,
       "version_minor": 0
      },
      "text/plain": [
       "Batch 153/501:   0%|          | 0/100 [00:00<?, ?it/s]"
      ]
     },
     "metadata": {},
     "output_type": "display_data"
    },
    {
     "data": {
      "application/vnd.jupyter.widget-view+json": {
       "model_id": "5e899a31ec874b4a88ddcc274866291a",
       "version_major": 2,
       "version_minor": 0
      },
      "text/plain": [
       "Batch 154/501:   0%|          | 0/100 [00:00<?, ?it/s]"
      ]
     },
     "metadata": {},
     "output_type": "display_data"
    },
    {
     "data": {
      "application/vnd.jupyter.widget-view+json": {
       "model_id": "eb8a3ad4c064475d859889dc491e3701",
       "version_major": 2,
       "version_minor": 0
      },
      "text/plain": [
       "Batch 155/501:   0%|          | 0/100 [00:00<?, ?it/s]"
      ]
     },
     "metadata": {},
     "output_type": "display_data"
    },
    {
     "data": {
      "application/vnd.jupyter.widget-view+json": {
       "model_id": "8460b30bf1b749519d9da2f1b404947b",
       "version_major": 2,
       "version_minor": 0
      },
      "text/plain": [
       "Batch 156/501:   0%|          | 0/100 [00:00<?, ?it/s]"
      ]
     },
     "metadata": {},
     "output_type": "display_data"
    },
    {
     "data": {
      "application/vnd.jupyter.widget-view+json": {
       "model_id": "67b3c0adf3534cb5b76d5b387ae14dae",
       "version_major": 2,
       "version_minor": 0
      },
      "text/plain": [
       "Batch 157/501:   0%|          | 0/100 [00:00<?, ?it/s]"
      ]
     },
     "metadata": {},
     "output_type": "display_data"
    },
    {
     "data": {
      "application/vnd.jupyter.widget-view+json": {
       "model_id": "e2deeec385184da7acb0dd8c30249dfe",
       "version_major": 2,
       "version_minor": 0
      },
      "text/plain": [
       "Batch 158/501:   0%|          | 0/100 [00:00<?, ?it/s]"
      ]
     },
     "metadata": {},
     "output_type": "display_data"
    },
    {
     "data": {
      "application/vnd.jupyter.widget-view+json": {
       "model_id": "302c2f409e6348f9bd57dbc718f2330e",
       "version_major": 2,
       "version_minor": 0
      },
      "text/plain": [
       "Batch 159/501:   0%|          | 0/100 [00:00<?, ?it/s]"
      ]
     },
     "metadata": {},
     "output_type": "display_data"
    },
    {
     "data": {
      "application/vnd.jupyter.widget-view+json": {
       "model_id": "04043ffffdce4335a20970136466ccb8",
       "version_major": 2,
       "version_minor": 0
      },
      "text/plain": [
       "Batch 160/501:   0%|          | 0/100 [00:00<?, ?it/s]"
      ]
     },
     "metadata": {},
     "output_type": "display_data"
    },
    {
     "data": {
      "application/vnd.jupyter.widget-view+json": {
       "model_id": "17be91d1dd964205937f67ddc48ef957",
       "version_major": 2,
       "version_minor": 0
      },
      "text/plain": [
       "Batch 161/501:   0%|          | 0/100 [00:00<?, ?it/s]"
      ]
     },
     "metadata": {},
     "output_type": "display_data"
    },
    {
     "data": {
      "application/vnd.jupyter.widget-view+json": {
       "model_id": "6145050acfae409b958dca127a694269",
       "version_major": 2,
       "version_minor": 0
      },
      "text/plain": [
       "Batch 162/501:   0%|          | 0/100 [00:00<?, ?it/s]"
      ]
     },
     "metadata": {},
     "output_type": "display_data"
    },
    {
     "data": {
      "application/vnd.jupyter.widget-view+json": {
       "model_id": "fd0d7e2184ac4b0eb5301c4443be5d1b",
       "version_major": 2,
       "version_minor": 0
      },
      "text/plain": [
       "Batch 163/501:   0%|          | 0/100 [00:00<?, ?it/s]"
      ]
     },
     "metadata": {},
     "output_type": "display_data"
    },
    {
     "data": {
      "application/vnd.jupyter.widget-view+json": {
       "model_id": "e37f70be57994804ac14ec2ee10f542e",
       "version_major": 2,
       "version_minor": 0
      },
      "text/plain": [
       "Batch 164/501:   0%|          | 0/100 [00:00<?, ?it/s]"
      ]
     },
     "metadata": {},
     "output_type": "display_data"
    },
    {
     "data": {
      "application/vnd.jupyter.widget-view+json": {
       "model_id": "d50da600c6a1499aab3d9bddc09b7f2d",
       "version_major": 2,
       "version_minor": 0
      },
      "text/plain": [
       "Batch 165/501:   0%|          | 0/100 [00:00<?, ?it/s]"
      ]
     },
     "metadata": {},
     "output_type": "display_data"
    },
    {
     "data": {
      "application/vnd.jupyter.widget-view+json": {
       "model_id": "b464d9405dc5456e84e43fe05f15b6c3",
       "version_major": 2,
       "version_minor": 0
      },
      "text/plain": [
       "Batch 166/501:   0%|          | 0/100 [00:00<?, ?it/s]"
      ]
     },
     "metadata": {},
     "output_type": "display_data"
    },
    {
     "data": {
      "application/vnd.jupyter.widget-view+json": {
       "model_id": "7d304d7068e34cd5956bdf76f3bcd94c",
       "version_major": 2,
       "version_minor": 0
      },
      "text/plain": [
       "Batch 167/501:   0%|          | 0/100 [00:00<?, ?it/s]"
      ]
     },
     "metadata": {},
     "output_type": "display_data"
    },
    {
     "data": {
      "application/vnd.jupyter.widget-view+json": {
       "model_id": "83dfa0c3d94147d681b4924dd1ed150e",
       "version_major": 2,
       "version_minor": 0
      },
      "text/plain": [
       "Batch 168/501:   0%|          | 0/100 [00:00<?, ?it/s]"
      ]
     },
     "metadata": {},
     "output_type": "display_data"
    },
    {
     "data": {
      "application/vnd.jupyter.widget-view+json": {
       "model_id": "c3bf02847157429cbf05b35c36ec0634",
       "version_major": 2,
       "version_minor": 0
      },
      "text/plain": [
       "Batch 169/501:   0%|          | 0/100 [00:00<?, ?it/s]"
      ]
     },
     "metadata": {},
     "output_type": "display_data"
    },
    {
     "data": {
      "application/vnd.jupyter.widget-view+json": {
       "model_id": "bcd2ee8a75a04e748c7d3b1a52547e09",
       "version_major": 2,
       "version_minor": 0
      },
      "text/plain": [
       "Batch 170/501:   0%|          | 0/100 [00:00<?, ?it/s]"
      ]
     },
     "metadata": {},
     "output_type": "display_data"
    },
    {
     "data": {
      "application/vnd.jupyter.widget-view+json": {
       "model_id": "97b5d95576b448b5a57233fcea650b1f",
       "version_major": 2,
       "version_minor": 0
      },
      "text/plain": [
       "Batch 171/501:   0%|          | 0/100 [00:00<?, ?it/s]"
      ]
     },
     "metadata": {},
     "output_type": "display_data"
    },
    {
     "data": {
      "application/vnd.jupyter.widget-view+json": {
       "model_id": "26102c2e8e6d4a13ad85c0a603be7c5a",
       "version_major": 2,
       "version_minor": 0
      },
      "text/plain": [
       "Batch 172/501:   0%|          | 0/100 [00:00<?, ?it/s]"
      ]
     },
     "metadata": {},
     "output_type": "display_data"
    },
    {
     "data": {
      "application/vnd.jupyter.widget-view+json": {
       "model_id": "b3752f23c2b442808b2a8fda713392d9",
       "version_major": 2,
       "version_minor": 0
      },
      "text/plain": [
       "Batch 173/501:   0%|          | 0/100 [00:00<?, ?it/s]"
      ]
     },
     "metadata": {},
     "output_type": "display_data"
    },
    {
     "data": {
      "application/vnd.jupyter.widget-view+json": {
       "model_id": "a8401a6e882942909d81f4e4ad700bc7",
       "version_major": 2,
       "version_minor": 0
      },
      "text/plain": [
       "Batch 174/501:   0%|          | 0/100 [00:00<?, ?it/s]"
      ]
     },
     "metadata": {},
     "output_type": "display_data"
    },
    {
     "data": {
      "application/vnd.jupyter.widget-view+json": {
       "model_id": "fa14d31b857e44f592e55bf4ba6682bd",
       "version_major": 2,
       "version_minor": 0
      },
      "text/plain": [
       "Batch 175/501:   0%|          | 0/100 [00:00<?, ?it/s]"
      ]
     },
     "metadata": {},
     "output_type": "display_data"
    },
    {
     "data": {
      "application/vnd.jupyter.widget-view+json": {
       "model_id": "78b53bdbbe9648219f939c4ea437b12b",
       "version_major": 2,
       "version_minor": 0
      },
      "text/plain": [
       "Batch 176/501:   0%|          | 0/100 [00:00<?, ?it/s]"
      ]
     },
     "metadata": {},
     "output_type": "display_data"
    },
    {
     "data": {
      "application/vnd.jupyter.widget-view+json": {
       "model_id": "1c4a25efbddc49f3bc0c1955fa34f3e0",
       "version_major": 2,
       "version_minor": 0
      },
      "text/plain": [
       "Batch 177/501:   0%|          | 0/100 [00:00<?, ?it/s]"
      ]
     },
     "metadata": {},
     "output_type": "display_data"
    },
    {
     "data": {
      "application/vnd.jupyter.widget-view+json": {
       "model_id": "c06f7715d39d492faa5b84a1bafc44d5",
       "version_major": 2,
       "version_minor": 0
      },
      "text/plain": [
       "Batch 178/501:   0%|          | 0/100 [00:00<?, ?it/s]"
      ]
     },
     "metadata": {},
     "output_type": "display_data"
    },
    {
     "data": {
      "application/vnd.jupyter.widget-view+json": {
       "model_id": "35dce2ea0bea4424ad4169762ceb39a5",
       "version_major": 2,
       "version_minor": 0
      },
      "text/plain": [
       "Batch 179/501:   0%|          | 0/100 [00:00<?, ?it/s]"
      ]
     },
     "metadata": {},
     "output_type": "display_data"
    },
    {
     "data": {
      "application/vnd.jupyter.widget-view+json": {
       "model_id": "900031ffaf0a4b2181dfc1046a7aae23",
       "version_major": 2,
       "version_minor": 0
      },
      "text/plain": [
       "Batch 180/501:   0%|          | 0/100 [00:00<?, ?it/s]"
      ]
     },
     "metadata": {},
     "output_type": "display_data"
    },
    {
     "data": {
      "application/vnd.jupyter.widget-view+json": {
       "model_id": "239c64ffe15d4fc5b0914f48f859cdea",
       "version_major": 2,
       "version_minor": 0
      },
      "text/plain": [
       "Batch 181/501:   0%|          | 0/100 [00:00<?, ?it/s]"
      ]
     },
     "metadata": {},
     "output_type": "display_data"
    },
    {
     "data": {
      "application/vnd.jupyter.widget-view+json": {
       "model_id": "2c315c835a3b473aa112ee9d731139f2",
       "version_major": 2,
       "version_minor": 0
      },
      "text/plain": [
       "Batch 182/501:   0%|          | 0/100 [00:00<?, ?it/s]"
      ]
     },
     "metadata": {},
     "output_type": "display_data"
    },
    {
     "data": {
      "application/vnd.jupyter.widget-view+json": {
       "model_id": "ec8098341e8c4c1ca973896baf068434",
       "version_major": 2,
       "version_minor": 0
      },
      "text/plain": [
       "Batch 183/501:   0%|          | 0/100 [00:00<?, ?it/s]"
      ]
     },
     "metadata": {},
     "output_type": "display_data"
    },
    {
     "data": {
      "application/vnd.jupyter.widget-view+json": {
       "model_id": "f51a922312a3409ca250312a0d83ab47",
       "version_major": 2,
       "version_minor": 0
      },
      "text/plain": [
       "Batch 184/501:   0%|          | 0/100 [00:00<?, ?it/s]"
      ]
     },
     "metadata": {},
     "output_type": "display_data"
    },
    {
     "data": {
      "application/vnd.jupyter.widget-view+json": {
       "model_id": "83ad6f67d82643bc84f299f41db35ffa",
       "version_major": 2,
       "version_minor": 0
      },
      "text/plain": [
       "Batch 185/501:   0%|          | 0/100 [00:00<?, ?it/s]"
      ]
     },
     "metadata": {},
     "output_type": "display_data"
    },
    {
     "data": {
      "application/vnd.jupyter.widget-view+json": {
       "model_id": "7c7741383d0543ce8b3b67c20c3195bf",
       "version_major": 2,
       "version_minor": 0
      },
      "text/plain": [
       "Batch 186/501:   0%|          | 0/100 [00:00<?, ?it/s]"
      ]
     },
     "metadata": {},
     "output_type": "display_data"
    },
    {
     "data": {
      "application/vnd.jupyter.widget-view+json": {
       "model_id": "738ce4ae55c640dfaaf8b22c8d802b8d",
       "version_major": 2,
       "version_minor": 0
      },
      "text/plain": [
       "Batch 187/501:   0%|          | 0/100 [00:00<?, ?it/s]"
      ]
     },
     "metadata": {},
     "output_type": "display_data"
    },
    {
     "data": {
      "application/vnd.jupyter.widget-view+json": {
       "model_id": "4bdfe783d31c404cb75623d0beefa8d0",
       "version_major": 2,
       "version_minor": 0
      },
      "text/plain": [
       "Batch 188/501:   0%|          | 0/100 [00:00<?, ?it/s]"
      ]
     },
     "metadata": {},
     "output_type": "display_data"
    },
    {
     "data": {
      "application/vnd.jupyter.widget-view+json": {
       "model_id": "2b7b9c51211d45e5b4921033bee41984",
       "version_major": 2,
       "version_minor": 0
      },
      "text/plain": [
       "Batch 189/501:   0%|          | 0/100 [00:00<?, ?it/s]"
      ]
     },
     "metadata": {},
     "output_type": "display_data"
    },
    {
     "data": {
      "application/vnd.jupyter.widget-view+json": {
       "model_id": "e087b6d60900480b91d73ed719965955",
       "version_major": 2,
       "version_minor": 0
      },
      "text/plain": [
       "Batch 190/501:   0%|          | 0/100 [00:00<?, ?it/s]"
      ]
     },
     "metadata": {},
     "output_type": "display_data"
    },
    {
     "data": {
      "application/vnd.jupyter.widget-view+json": {
       "model_id": "5e3c77405de1432e954102191cec1f3e",
       "version_major": 2,
       "version_minor": 0
      },
      "text/plain": [
       "Batch 191/501:   0%|          | 0/100 [00:00<?, ?it/s]"
      ]
     },
     "metadata": {},
     "output_type": "display_data"
    },
    {
     "data": {
      "application/vnd.jupyter.widget-view+json": {
       "model_id": "a2977d6e389f4d02b4d1116180cd5999",
       "version_major": 2,
       "version_minor": 0
      },
      "text/plain": [
       "Batch 192/501:   0%|          | 0/100 [00:00<?, ?it/s]"
      ]
     },
     "metadata": {},
     "output_type": "display_data"
    },
    {
     "data": {
      "application/vnd.jupyter.widget-view+json": {
       "model_id": "18853ec678ae48498deec471e79219ef",
       "version_major": 2,
       "version_minor": 0
      },
      "text/plain": [
       "Batch 193/501:   0%|          | 0/100 [00:00<?, ?it/s]"
      ]
     },
     "metadata": {},
     "output_type": "display_data"
    },
    {
     "data": {
      "application/vnd.jupyter.widget-view+json": {
       "model_id": "3e56bcb2062e49df922684a045438bc2",
       "version_major": 2,
       "version_minor": 0
      },
      "text/plain": [
       "Batch 194/501:   0%|          | 0/100 [00:00<?, ?it/s]"
      ]
     },
     "metadata": {},
     "output_type": "display_data"
    },
    {
     "data": {
      "application/vnd.jupyter.widget-view+json": {
       "model_id": "9d2e835186fc4d15a113a75a906a5cee",
       "version_major": 2,
       "version_minor": 0
      },
      "text/plain": [
       "Batch 195/501:   0%|          | 0/100 [00:00<?, ?it/s]"
      ]
     },
     "metadata": {},
     "output_type": "display_data"
    },
    {
     "data": {
      "application/vnd.jupyter.widget-view+json": {
       "model_id": "b1d261ce0f4c4af9a088edbca3bdba67",
       "version_major": 2,
       "version_minor": 0
      },
      "text/plain": [
       "Batch 196/501:   0%|          | 0/100 [00:00<?, ?it/s]"
      ]
     },
     "metadata": {},
     "output_type": "display_data"
    },
    {
     "data": {
      "application/vnd.jupyter.widget-view+json": {
       "model_id": "de5230b5860c46d6a10130b5e6936722",
       "version_major": 2,
       "version_minor": 0
      },
      "text/plain": [
       "Batch 197/501:   0%|          | 0/100 [00:00<?, ?it/s]"
      ]
     },
     "metadata": {},
     "output_type": "display_data"
    },
    {
     "data": {
      "application/vnd.jupyter.widget-view+json": {
       "model_id": "f1c079eeafa44d81b5801b6f37be0aac",
       "version_major": 2,
       "version_minor": 0
      },
      "text/plain": [
       "Batch 198/501:   0%|          | 0/100 [00:00<?, ?it/s]"
      ]
     },
     "metadata": {},
     "output_type": "display_data"
    },
    {
     "data": {
      "application/vnd.jupyter.widget-view+json": {
       "model_id": "c7d28c3163dc443c8dee913bb13f5de7",
       "version_major": 2,
       "version_minor": 0
      },
      "text/plain": [
       "Batch 199/501:   0%|          | 0/100 [00:00<?, ?it/s]"
      ]
     },
     "metadata": {},
     "output_type": "display_data"
    },
    {
     "data": {
      "application/vnd.jupyter.widget-view+json": {
       "model_id": "e45c9fd35d264c86bc5e179081bdce18",
       "version_major": 2,
       "version_minor": 0
      },
      "text/plain": [
       "Batch 200/501:   0%|          | 0/100 [00:00<?, ?it/s]"
      ]
     },
     "metadata": {},
     "output_type": "display_data"
    },
    {
     "data": {
      "application/vnd.jupyter.widget-view+json": {
       "model_id": "c94a8c00cddf43288bebfefdfc4c9abe",
       "version_major": 2,
       "version_minor": 0
      },
      "text/plain": [
       "Batch 201/501:   0%|          | 0/100 [00:00<?, ?it/s]"
      ]
     },
     "metadata": {},
     "output_type": "display_data"
    },
    {
     "data": {
      "application/vnd.jupyter.widget-view+json": {
       "model_id": "76e2da4b3514412d91d865f68590f4fe",
       "version_major": 2,
       "version_minor": 0
      },
      "text/plain": [
       "Batch 202/501:   0%|          | 0/100 [00:00<?, ?it/s]"
      ]
     },
     "metadata": {},
     "output_type": "display_data"
    },
    {
     "data": {
      "application/vnd.jupyter.widget-view+json": {
       "model_id": "9183c5bb5643437fafb951cb417f9a99",
       "version_major": 2,
       "version_minor": 0
      },
      "text/plain": [
       "Batch 203/501:   0%|          | 0/100 [00:00<?, ?it/s]"
      ]
     },
     "metadata": {},
     "output_type": "display_data"
    },
    {
     "data": {
      "application/vnd.jupyter.widget-view+json": {
       "model_id": "50b8046b86cd4b068b6a4c46a5160827",
       "version_major": 2,
       "version_minor": 0
      },
      "text/plain": [
       "Batch 204/501:   0%|          | 0/100 [00:00<?, ?it/s]"
      ]
     },
     "metadata": {},
     "output_type": "display_data"
    },
    {
     "data": {
      "application/vnd.jupyter.widget-view+json": {
       "model_id": "0e465c1d5e574c3a98244dd2d2e137bb",
       "version_major": 2,
       "version_minor": 0
      },
      "text/plain": [
       "Batch 205/501:   0%|          | 0/100 [00:00<?, ?it/s]"
      ]
     },
     "metadata": {},
     "output_type": "display_data"
    },
    {
     "data": {
      "application/vnd.jupyter.widget-view+json": {
       "model_id": "a93868dd5bb54bcfae3b584673a4788b",
       "version_major": 2,
       "version_minor": 0
      },
      "text/plain": [
       "Batch 206/501:   0%|          | 0/100 [00:00<?, ?it/s]"
      ]
     },
     "metadata": {},
     "output_type": "display_data"
    },
    {
     "data": {
      "application/vnd.jupyter.widget-view+json": {
       "model_id": "c1a3e1b3bded471c9f6830f411218691",
       "version_major": 2,
       "version_minor": 0
      },
      "text/plain": [
       "Batch 207/501:   0%|          | 0/100 [00:00<?, ?it/s]"
      ]
     },
     "metadata": {},
     "output_type": "display_data"
    },
    {
     "data": {
      "application/vnd.jupyter.widget-view+json": {
       "model_id": "2311894fb7b04041b19c70f3b7cec29e",
       "version_major": 2,
       "version_minor": 0
      },
      "text/plain": [
       "Batch 208/501:   0%|          | 0/100 [00:00<?, ?it/s]"
      ]
     },
     "metadata": {},
     "output_type": "display_data"
    },
    {
     "data": {
      "application/vnd.jupyter.widget-view+json": {
       "model_id": "7c984050cdd3453dae41d72375b2e11c",
       "version_major": 2,
       "version_minor": 0
      },
      "text/plain": [
       "Batch 209/501:   0%|          | 0/100 [00:00<?, ?it/s]"
      ]
     },
     "metadata": {},
     "output_type": "display_data"
    },
    {
     "data": {
      "application/vnd.jupyter.widget-view+json": {
       "model_id": "6f6eec2850784527aafb2b8fb1d9eaf3",
       "version_major": 2,
       "version_minor": 0
      },
      "text/plain": [
       "Batch 210/501:   0%|          | 0/100 [00:00<?, ?it/s]"
      ]
     },
     "metadata": {},
     "output_type": "display_data"
    },
    {
     "data": {
      "application/vnd.jupyter.widget-view+json": {
       "model_id": "39b7766a41144b8386263a5ad32aeefa",
       "version_major": 2,
       "version_minor": 0
      },
      "text/plain": [
       "Batch 211/501:   0%|          | 0/100 [00:00<?, ?it/s]"
      ]
     },
     "metadata": {},
     "output_type": "display_data"
    },
    {
     "data": {
      "application/vnd.jupyter.widget-view+json": {
       "model_id": "bb4e392fc23d4e52b69d5a4fc07eb2e6",
       "version_major": 2,
       "version_minor": 0
      },
      "text/plain": [
       "Batch 212/501:   0%|          | 0/100 [00:00<?, ?it/s]"
      ]
     },
     "metadata": {},
     "output_type": "display_data"
    },
    {
     "data": {
      "application/vnd.jupyter.widget-view+json": {
       "model_id": "52ee2cc8a6d4402f95522dd45108228e",
       "version_major": 2,
       "version_minor": 0
      },
      "text/plain": [
       "Batch 213/501:   0%|          | 0/100 [00:00<?, ?it/s]"
      ]
     },
     "metadata": {},
     "output_type": "display_data"
    },
    {
     "data": {
      "application/vnd.jupyter.widget-view+json": {
       "model_id": "ec409cf5563a4966a33d17da5f5a2b2c",
       "version_major": 2,
       "version_minor": 0
      },
      "text/plain": [
       "Batch 214/501:   0%|          | 0/100 [00:00<?, ?it/s]"
      ]
     },
     "metadata": {},
     "output_type": "display_data"
    },
    {
     "data": {
      "application/vnd.jupyter.widget-view+json": {
       "model_id": "9faf625e7d914383ab3c9a297109e6c4",
       "version_major": 2,
       "version_minor": 0
      },
      "text/plain": [
       "Batch 215/501:   0%|          | 0/100 [00:00<?, ?it/s]"
      ]
     },
     "metadata": {},
     "output_type": "display_data"
    },
    {
     "data": {
      "application/vnd.jupyter.widget-view+json": {
       "model_id": "32f3aeb04f8b45c396ae1dde355b1337",
       "version_major": 2,
       "version_minor": 0
      },
      "text/plain": [
       "Batch 216/501:   0%|          | 0/100 [00:00<?, ?it/s]"
      ]
     },
     "metadata": {},
     "output_type": "display_data"
    },
    {
     "data": {
      "application/vnd.jupyter.widget-view+json": {
       "model_id": "9b27eebfc7e84914878d1be77a504a68",
       "version_major": 2,
       "version_minor": 0
      },
      "text/plain": [
       "Batch 217/501:   0%|          | 0/100 [00:00<?, ?it/s]"
      ]
     },
     "metadata": {},
     "output_type": "display_data"
    },
    {
     "data": {
      "application/vnd.jupyter.widget-view+json": {
       "model_id": "b9583677a20744db935b853f43729270",
       "version_major": 2,
       "version_minor": 0
      },
      "text/plain": [
       "Batch 218/501:   0%|          | 0/100 [00:00<?, ?it/s]"
      ]
     },
     "metadata": {},
     "output_type": "display_data"
    },
    {
     "data": {
      "application/vnd.jupyter.widget-view+json": {
       "model_id": "8fb09c635a614f1cb77de305bc5b5f91",
       "version_major": 2,
       "version_minor": 0
      },
      "text/plain": [
       "Batch 219/501:   0%|          | 0/100 [00:00<?, ?it/s]"
      ]
     },
     "metadata": {},
     "output_type": "display_data"
    },
    {
     "data": {
      "application/vnd.jupyter.widget-view+json": {
       "model_id": "c7aa01363e3e40b08c498ac3bf5de240",
       "version_major": 2,
       "version_minor": 0
      },
      "text/plain": [
       "Batch 220/501:   0%|          | 0/100 [00:00<?, ?it/s]"
      ]
     },
     "metadata": {},
     "output_type": "display_data"
    },
    {
     "data": {
      "application/vnd.jupyter.widget-view+json": {
       "model_id": "48d6937ddc3647d69b5f517c5554bb14",
       "version_major": 2,
       "version_minor": 0
      },
      "text/plain": [
       "Batch 221/501:   0%|          | 0/100 [00:00<?, ?it/s]"
      ]
     },
     "metadata": {},
     "output_type": "display_data"
    },
    {
     "data": {
      "application/vnd.jupyter.widget-view+json": {
       "model_id": "bdff42264386438396a79f2398e30d75",
       "version_major": 2,
       "version_minor": 0
      },
      "text/plain": [
       "Batch 222/501:   0%|          | 0/100 [00:00<?, ?it/s]"
      ]
     },
     "metadata": {},
     "output_type": "display_data"
    },
    {
     "data": {
      "application/vnd.jupyter.widget-view+json": {
       "model_id": "6db8c6630b9c4b9aa7f599c049a04dad",
       "version_major": 2,
       "version_minor": 0
      },
      "text/plain": [
       "Batch 223/501:   0%|          | 0/100 [00:00<?, ?it/s]"
      ]
     },
     "metadata": {},
     "output_type": "display_data"
    },
    {
     "data": {
      "application/vnd.jupyter.widget-view+json": {
       "model_id": "c68a2520eb3546a185384a3fa414170c",
       "version_major": 2,
       "version_minor": 0
      },
      "text/plain": [
       "Batch 224/501:   0%|          | 0/100 [00:00<?, ?it/s]"
      ]
     },
     "metadata": {},
     "output_type": "display_data"
    },
    {
     "data": {
      "application/vnd.jupyter.widget-view+json": {
       "model_id": "a6897639225e4945907c075b62ef09f9",
       "version_major": 2,
       "version_minor": 0
      },
      "text/plain": [
       "Batch 225/501:   0%|          | 0/100 [00:00<?, ?it/s]"
      ]
     },
     "metadata": {},
     "output_type": "display_data"
    },
    {
     "data": {
      "application/vnd.jupyter.widget-view+json": {
       "model_id": "8549a60ac0074d6da1a14ccac351d6e4",
       "version_major": 2,
       "version_minor": 0
      },
      "text/plain": [
       "Batch 226/501:   0%|          | 0/100 [00:00<?, ?it/s]"
      ]
     },
     "metadata": {},
     "output_type": "display_data"
    },
    {
     "data": {
      "application/vnd.jupyter.widget-view+json": {
       "model_id": "2600c60d0fc8484791ebf4e9814d3615",
       "version_major": 2,
       "version_minor": 0
      },
      "text/plain": [
       "Batch 227/501:   0%|          | 0/100 [00:00<?, ?it/s]"
      ]
     },
     "metadata": {},
     "output_type": "display_data"
    },
    {
     "data": {
      "application/vnd.jupyter.widget-view+json": {
       "model_id": "ad98e76decbd45a89635710efa694348",
       "version_major": 2,
       "version_minor": 0
      },
      "text/plain": [
       "Batch 228/501:   0%|          | 0/100 [00:00<?, ?it/s]"
      ]
     },
     "metadata": {},
     "output_type": "display_data"
    },
    {
     "data": {
      "application/vnd.jupyter.widget-view+json": {
       "model_id": "205dc56b92c9445588f1a58c939df016",
       "version_major": 2,
       "version_minor": 0
      },
      "text/plain": [
       "Batch 229/501:   0%|          | 0/100 [00:00<?, ?it/s]"
      ]
     },
     "metadata": {},
     "output_type": "display_data"
    },
    {
     "data": {
      "application/vnd.jupyter.widget-view+json": {
       "model_id": "bdf280a1aa7e4012a44e8306bb30184a",
       "version_major": 2,
       "version_minor": 0
      },
      "text/plain": [
       "Batch 230/501:   0%|          | 0/100 [00:00<?, ?it/s]"
      ]
     },
     "metadata": {},
     "output_type": "display_data"
    },
    {
     "data": {
      "application/vnd.jupyter.widget-view+json": {
       "model_id": "7f791d27c61f40f5838fa74a011e2b2a",
       "version_major": 2,
       "version_minor": 0
      },
      "text/plain": [
       "Batch 231/501:   0%|          | 0/100 [00:00<?, ?it/s]"
      ]
     },
     "metadata": {},
     "output_type": "display_data"
    },
    {
     "data": {
      "application/vnd.jupyter.widget-view+json": {
       "model_id": "c0634ef286994e1fb3411637c16d9a64",
       "version_major": 2,
       "version_minor": 0
      },
      "text/plain": [
       "Batch 232/501:   0%|          | 0/100 [00:00<?, ?it/s]"
      ]
     },
     "metadata": {},
     "output_type": "display_data"
    },
    {
     "data": {
      "application/vnd.jupyter.widget-view+json": {
       "model_id": "1f89e4cf58e249aa9ea844ede156410f",
       "version_major": 2,
       "version_minor": 0
      },
      "text/plain": [
       "Batch 233/501:   0%|          | 0/100 [00:00<?, ?it/s]"
      ]
     },
     "metadata": {},
     "output_type": "display_data"
    },
    {
     "data": {
      "application/vnd.jupyter.widget-view+json": {
       "model_id": "845758df364c4ee580119a7d3b674644",
       "version_major": 2,
       "version_minor": 0
      },
      "text/plain": [
       "Batch 234/501:   0%|          | 0/100 [00:00<?, ?it/s]"
      ]
     },
     "metadata": {},
     "output_type": "display_data"
    },
    {
     "data": {
      "application/vnd.jupyter.widget-view+json": {
       "model_id": "f5abaa8865ca493798254bfb749f8893",
       "version_major": 2,
       "version_minor": 0
      },
      "text/plain": [
       "Batch 235/501:   0%|          | 0/100 [00:00<?, ?it/s]"
      ]
     },
     "metadata": {},
     "output_type": "display_data"
    },
    {
     "data": {
      "application/vnd.jupyter.widget-view+json": {
       "model_id": "2a634332581f490c9a45977ddbf46d4d",
       "version_major": 2,
       "version_minor": 0
      },
      "text/plain": [
       "Batch 236/501:   0%|          | 0/100 [00:00<?, ?it/s]"
      ]
     },
     "metadata": {},
     "output_type": "display_data"
    },
    {
     "data": {
      "application/vnd.jupyter.widget-view+json": {
       "model_id": "3b6654f6467c46ca96ad6006f060b9ce",
       "version_major": 2,
       "version_minor": 0
      },
      "text/plain": [
       "Batch 237/501:   0%|          | 0/100 [00:00<?, ?it/s]"
      ]
     },
     "metadata": {},
     "output_type": "display_data"
    },
    {
     "data": {
      "application/vnd.jupyter.widget-view+json": {
       "model_id": "a0add1e84d524da5a223caced1b0165e",
       "version_major": 2,
       "version_minor": 0
      },
      "text/plain": [
       "Batch 238/501:   0%|          | 0/100 [00:00<?, ?it/s]"
      ]
     },
     "metadata": {},
     "output_type": "display_data"
    },
    {
     "data": {
      "application/vnd.jupyter.widget-view+json": {
       "model_id": "97fee85777b844a8a0c093a37f69b5be",
       "version_major": 2,
       "version_minor": 0
      },
      "text/plain": [
       "Batch 239/501:   0%|          | 0/100 [00:00<?, ?it/s]"
      ]
     },
     "metadata": {},
     "output_type": "display_data"
    },
    {
     "data": {
      "application/vnd.jupyter.widget-view+json": {
       "model_id": "0ea809141995401b93e0eae00afa5d71",
       "version_major": 2,
       "version_minor": 0
      },
      "text/plain": [
       "Batch 240/501:   0%|          | 0/100 [00:00<?, ?it/s]"
      ]
     },
     "metadata": {},
     "output_type": "display_data"
    },
    {
     "data": {
      "application/vnd.jupyter.widget-view+json": {
       "model_id": "16277ff9dfcf4ce8aacc9c5f2e261f09",
       "version_major": 2,
       "version_minor": 0
      },
      "text/plain": [
       "Batch 241/501:   0%|          | 0/100 [00:00<?, ?it/s]"
      ]
     },
     "metadata": {},
     "output_type": "display_data"
    },
    {
     "data": {
      "application/vnd.jupyter.widget-view+json": {
       "model_id": "6ab351e4acca41879ed19c4979221827",
       "version_major": 2,
       "version_minor": 0
      },
      "text/plain": [
       "Batch 242/501:   0%|          | 0/100 [00:00<?, ?it/s]"
      ]
     },
     "metadata": {},
     "output_type": "display_data"
    },
    {
     "data": {
      "application/vnd.jupyter.widget-view+json": {
       "model_id": "6a07cab3100d432bb18182d9879d8622",
       "version_major": 2,
       "version_minor": 0
      },
      "text/plain": [
       "Batch 243/501:   0%|          | 0/100 [00:00<?, ?it/s]"
      ]
     },
     "metadata": {},
     "output_type": "display_data"
    },
    {
     "data": {
      "application/vnd.jupyter.widget-view+json": {
       "model_id": "6414cecf8eff43bbb0e9fde8d47bfc7a",
       "version_major": 2,
       "version_minor": 0
      },
      "text/plain": [
       "Batch 244/501:   0%|          | 0/100 [00:00<?, ?it/s]"
      ]
     },
     "metadata": {},
     "output_type": "display_data"
    },
    {
     "data": {
      "application/vnd.jupyter.widget-view+json": {
       "model_id": "5b87abc548a0423da915f94521186905",
       "version_major": 2,
       "version_minor": 0
      },
      "text/plain": [
       "Batch 245/501:   0%|          | 0/100 [00:00<?, ?it/s]"
      ]
     },
     "metadata": {},
     "output_type": "display_data"
    },
    {
     "data": {
      "application/vnd.jupyter.widget-view+json": {
       "model_id": "64266cb19b8b4a1c8f53994c64ef0b64",
       "version_major": 2,
       "version_minor": 0
      },
      "text/plain": [
       "Batch 246/501:   0%|          | 0/100 [00:00<?, ?it/s]"
      ]
     },
     "metadata": {},
     "output_type": "display_data"
    },
    {
     "data": {
      "application/vnd.jupyter.widget-view+json": {
       "model_id": "efc579a224e34e5f9c3f27047fd8b81a",
       "version_major": 2,
       "version_minor": 0
      },
      "text/plain": [
       "Batch 247/501:   0%|          | 0/100 [00:00<?, ?it/s]"
      ]
     },
     "metadata": {},
     "output_type": "display_data"
    },
    {
     "data": {
      "application/vnd.jupyter.widget-view+json": {
       "model_id": "5e501f1416514b4aa2c55dd40ac8f249",
       "version_major": 2,
       "version_minor": 0
      },
      "text/plain": [
       "Batch 248/501:   0%|          | 0/100 [00:00<?, ?it/s]"
      ]
     },
     "metadata": {},
     "output_type": "display_data"
    },
    {
     "data": {
      "application/vnd.jupyter.widget-view+json": {
       "model_id": "d57827f9793e4f648d0857714cfcf8f9",
       "version_major": 2,
       "version_minor": 0
      },
      "text/plain": [
       "Batch 249/501:   0%|          | 0/100 [00:00<?, ?it/s]"
      ]
     },
     "metadata": {},
     "output_type": "display_data"
    },
    {
     "data": {
      "application/vnd.jupyter.widget-view+json": {
       "model_id": "a3fd752b9761462a9e4fa05988b54d6e",
       "version_major": 2,
       "version_minor": 0
      },
      "text/plain": [
       "Batch 250/501:   0%|          | 0/100 [00:00<?, ?it/s]"
      ]
     },
     "metadata": {},
     "output_type": "display_data"
    },
    {
     "data": {
      "application/vnd.jupyter.widget-view+json": {
       "model_id": "d65166d9f5bb48aa83c3bfe8fb7cd072",
       "version_major": 2,
       "version_minor": 0
      },
      "text/plain": [
       "Batch 251/501:   0%|          | 0/100 [00:00<?, ?it/s]"
      ]
     },
     "metadata": {},
     "output_type": "display_data"
    },
    {
     "data": {
      "application/vnd.jupyter.widget-view+json": {
       "model_id": "05b6b50203234cd3b87a5290747a6b62",
       "version_major": 2,
       "version_minor": 0
      },
      "text/plain": [
       "Batch 252/501:   0%|          | 0/100 [00:00<?, ?it/s]"
      ]
     },
     "metadata": {},
     "output_type": "display_data"
    },
    {
     "data": {
      "application/vnd.jupyter.widget-view+json": {
       "model_id": "e65d38689ea34c118299fd54f986325c",
       "version_major": 2,
       "version_minor": 0
      },
      "text/plain": [
       "Batch 253/501:   0%|          | 0/100 [00:00<?, ?it/s]"
      ]
     },
     "metadata": {},
     "output_type": "display_data"
    },
    {
     "data": {
      "application/vnd.jupyter.widget-view+json": {
       "model_id": "f45d8192f84446049ba434fe4442fe73",
       "version_major": 2,
       "version_minor": 0
      },
      "text/plain": [
       "Batch 254/501:   0%|          | 0/100 [00:00<?, ?it/s]"
      ]
     },
     "metadata": {},
     "output_type": "display_data"
    },
    {
     "data": {
      "application/vnd.jupyter.widget-view+json": {
       "model_id": "25a0fabae3b444ae84d297569cf72bea",
       "version_major": 2,
       "version_minor": 0
      },
      "text/plain": [
       "Batch 255/501:   0%|          | 0/100 [00:00<?, ?it/s]"
      ]
     },
     "metadata": {},
     "output_type": "display_data"
    },
    {
     "data": {
      "application/vnd.jupyter.widget-view+json": {
       "model_id": "2f0fec4eb0a74421a411aeac4854a4a3",
       "version_major": 2,
       "version_minor": 0
      },
      "text/plain": [
       "Batch 256/501:   0%|          | 0/100 [00:00<?, ?it/s]"
      ]
     },
     "metadata": {},
     "output_type": "display_data"
    },
    {
     "data": {
      "application/vnd.jupyter.widget-view+json": {
       "model_id": "ab5bb79227a740f683628037fe803920",
       "version_major": 2,
       "version_minor": 0
      },
      "text/plain": [
       "Batch 257/501:   0%|          | 0/100 [00:00<?, ?it/s]"
      ]
     },
     "metadata": {},
     "output_type": "display_data"
    },
    {
     "data": {
      "application/vnd.jupyter.widget-view+json": {
       "model_id": "e0424f3b4d6d4ade9d57cfb74f573a8e",
       "version_major": 2,
       "version_minor": 0
      },
      "text/plain": [
       "Batch 258/501:   0%|          | 0/100 [00:00<?, ?it/s]"
      ]
     },
     "metadata": {},
     "output_type": "display_data"
    },
    {
     "data": {
      "application/vnd.jupyter.widget-view+json": {
       "model_id": "9ae37be3855c45ef91fd2255e220ccfc",
       "version_major": 2,
       "version_minor": 0
      },
      "text/plain": [
       "Batch 259/501:   0%|          | 0/100 [00:00<?, ?it/s]"
      ]
     },
     "metadata": {},
     "output_type": "display_data"
    },
    {
     "data": {
      "application/vnd.jupyter.widget-view+json": {
       "model_id": "45b4147415ae4584967ae9fda529469b",
       "version_major": 2,
       "version_minor": 0
      },
      "text/plain": [
       "Batch 260/501:   0%|          | 0/100 [00:00<?, ?it/s]"
      ]
     },
     "metadata": {},
     "output_type": "display_data"
    },
    {
     "data": {
      "application/vnd.jupyter.widget-view+json": {
       "model_id": "2a05176e4d974ee6b3b72a6c095e7351",
       "version_major": 2,
       "version_minor": 0
      },
      "text/plain": [
       "Batch 261/501:   0%|          | 0/100 [00:00<?, ?it/s]"
      ]
     },
     "metadata": {},
     "output_type": "display_data"
    },
    {
     "data": {
      "application/vnd.jupyter.widget-view+json": {
       "model_id": "bd9d077d3b414d07baaf328e7c23f6ec",
       "version_major": 2,
       "version_minor": 0
      },
      "text/plain": [
       "Batch 262/501:   0%|          | 0/100 [00:00<?, ?it/s]"
      ]
     },
     "metadata": {},
     "output_type": "display_data"
    },
    {
     "data": {
      "application/vnd.jupyter.widget-view+json": {
       "model_id": "ebf3fc7d297e490badca894c8b6b4583",
       "version_major": 2,
       "version_minor": 0
      },
      "text/plain": [
       "Batch 263/501:   0%|          | 0/100 [00:00<?, ?it/s]"
      ]
     },
     "metadata": {},
     "output_type": "display_data"
    },
    {
     "data": {
      "application/vnd.jupyter.widget-view+json": {
       "model_id": "10fb1308fc3e47f686ced91ac2a255cb",
       "version_major": 2,
       "version_minor": 0
      },
      "text/plain": [
       "Batch 264/501:   0%|          | 0/100 [00:00<?, ?it/s]"
      ]
     },
     "metadata": {},
     "output_type": "display_data"
    },
    {
     "data": {
      "application/vnd.jupyter.widget-view+json": {
       "model_id": "e1e5acd70dfb47b2994cf84998d22be5",
       "version_major": 2,
       "version_minor": 0
      },
      "text/plain": [
       "Batch 265/501:   0%|          | 0/100 [00:00<?, ?it/s]"
      ]
     },
     "metadata": {},
     "output_type": "display_data"
    },
    {
     "data": {
      "application/vnd.jupyter.widget-view+json": {
       "model_id": "d38e80ce01ae475ca2a1d23144651024",
       "version_major": 2,
       "version_minor": 0
      },
      "text/plain": [
       "Batch 266/501:   0%|          | 0/100 [00:00<?, ?it/s]"
      ]
     },
     "metadata": {},
     "output_type": "display_data"
    },
    {
     "data": {
      "application/vnd.jupyter.widget-view+json": {
       "model_id": "948aab9dd0cb479791e812706ae546c9",
       "version_major": 2,
       "version_minor": 0
      },
      "text/plain": [
       "Batch 267/501:   0%|          | 0/100 [00:00<?, ?it/s]"
      ]
     },
     "metadata": {},
     "output_type": "display_data"
    },
    {
     "data": {
      "application/vnd.jupyter.widget-view+json": {
       "model_id": "eacdd6dc46b64e4bbfcf757b70f87da7",
       "version_major": 2,
       "version_minor": 0
      },
      "text/plain": [
       "Batch 268/501:   0%|          | 0/100 [00:00<?, ?it/s]"
      ]
     },
     "metadata": {},
     "output_type": "display_data"
    },
    {
     "data": {
      "application/vnd.jupyter.widget-view+json": {
       "model_id": "447857ba0ba14deabab2f249e33dbff0",
       "version_major": 2,
       "version_minor": 0
      },
      "text/plain": [
       "Batch 269/501:   0%|          | 0/100 [00:00<?, ?it/s]"
      ]
     },
     "metadata": {},
     "output_type": "display_data"
    },
    {
     "data": {
      "application/vnd.jupyter.widget-view+json": {
       "model_id": "c258e585df52404fa40819488be57d31",
       "version_major": 2,
       "version_minor": 0
      },
      "text/plain": [
       "Batch 270/501:   0%|          | 0/100 [00:00<?, ?it/s]"
      ]
     },
     "metadata": {},
     "output_type": "display_data"
    },
    {
     "data": {
      "application/vnd.jupyter.widget-view+json": {
       "model_id": "910f88d699584b3b9d44e27149cfbd8f",
       "version_major": 2,
       "version_minor": 0
      },
      "text/plain": [
       "Batch 271/501:   0%|          | 0/100 [00:00<?, ?it/s]"
      ]
     },
     "metadata": {},
     "output_type": "display_data"
    },
    {
     "data": {
      "application/vnd.jupyter.widget-view+json": {
       "model_id": "90b458e7897a492e91be55d74cb6138f",
       "version_major": 2,
       "version_minor": 0
      },
      "text/plain": [
       "Batch 272/501:   0%|          | 0/100 [00:00<?, ?it/s]"
      ]
     },
     "metadata": {},
     "output_type": "display_data"
    },
    {
     "data": {
      "application/vnd.jupyter.widget-view+json": {
       "model_id": "af222afbc2264530a99ba95591ea6517",
       "version_major": 2,
       "version_minor": 0
      },
      "text/plain": [
       "Batch 273/501:   0%|          | 0/100 [00:00<?, ?it/s]"
      ]
     },
     "metadata": {},
     "output_type": "display_data"
    },
    {
     "data": {
      "application/vnd.jupyter.widget-view+json": {
       "model_id": "580b7553673248f3979ddc34afb8c162",
       "version_major": 2,
       "version_minor": 0
      },
      "text/plain": [
       "Batch 274/501:   0%|          | 0/100 [00:00<?, ?it/s]"
      ]
     },
     "metadata": {},
     "output_type": "display_data"
    },
    {
     "data": {
      "application/vnd.jupyter.widget-view+json": {
       "model_id": "672b1583a7184e5eaca2a3967312400d",
       "version_major": 2,
       "version_minor": 0
      },
      "text/plain": [
       "Batch 275/501:   0%|          | 0/100 [00:00<?, ?it/s]"
      ]
     },
     "metadata": {},
     "output_type": "display_data"
    },
    {
     "data": {
      "application/vnd.jupyter.widget-view+json": {
       "model_id": "7cbd2316ad3a43ba9446cc86c1b6265d",
       "version_major": 2,
       "version_minor": 0
      },
      "text/plain": [
       "Batch 276/501:   0%|          | 0/100 [00:00<?, ?it/s]"
      ]
     },
     "metadata": {},
     "output_type": "display_data"
    },
    {
     "data": {
      "application/vnd.jupyter.widget-view+json": {
       "model_id": "c18638c4e8bc48a6a2791992bdef807e",
       "version_major": 2,
       "version_minor": 0
      },
      "text/plain": [
       "Batch 277/501:   0%|          | 0/100 [00:00<?, ?it/s]"
      ]
     },
     "metadata": {},
     "output_type": "display_data"
    },
    {
     "data": {
      "application/vnd.jupyter.widget-view+json": {
       "model_id": "d1a245694e8045f4ad71b353f1037661",
       "version_major": 2,
       "version_minor": 0
      },
      "text/plain": [
       "Batch 278/501:   0%|          | 0/100 [00:00<?, ?it/s]"
      ]
     },
     "metadata": {},
     "output_type": "display_data"
    },
    {
     "data": {
      "application/vnd.jupyter.widget-view+json": {
       "model_id": "9183bcd2942848d89d3ed29a0ec9383f",
       "version_major": 2,
       "version_minor": 0
      },
      "text/plain": [
       "Batch 279/501:   0%|          | 0/100 [00:00<?, ?it/s]"
      ]
     },
     "metadata": {},
     "output_type": "display_data"
    },
    {
     "data": {
      "application/vnd.jupyter.widget-view+json": {
       "model_id": "2ccdcc4d9aac4b3aa159722337bd2215",
       "version_major": 2,
       "version_minor": 0
      },
      "text/plain": [
       "Batch 280/501:   0%|          | 0/100 [00:00<?, ?it/s]"
      ]
     },
     "metadata": {},
     "output_type": "display_data"
    },
    {
     "data": {
      "application/vnd.jupyter.widget-view+json": {
       "model_id": "95dfa5ad15504c6f9636fffbd81ff96c",
       "version_major": 2,
       "version_minor": 0
      },
      "text/plain": [
       "Batch 281/501:   0%|          | 0/100 [00:00<?, ?it/s]"
      ]
     },
     "metadata": {},
     "output_type": "display_data"
    },
    {
     "data": {
      "application/vnd.jupyter.widget-view+json": {
       "model_id": "d2f48323dae84c739bc3236b70f70fac",
       "version_major": 2,
       "version_minor": 0
      },
      "text/plain": [
       "Batch 282/501:   0%|          | 0/100 [00:00<?, ?it/s]"
      ]
     },
     "metadata": {},
     "output_type": "display_data"
    },
    {
     "data": {
      "application/vnd.jupyter.widget-view+json": {
       "model_id": "d5ed9b590db74399b7cef94b265065fd",
       "version_major": 2,
       "version_minor": 0
      },
      "text/plain": [
       "Batch 283/501:   0%|          | 0/100 [00:00<?, ?it/s]"
      ]
     },
     "metadata": {},
     "output_type": "display_data"
    },
    {
     "data": {
      "application/vnd.jupyter.widget-view+json": {
       "model_id": "0b3553102ab8488c9c6d104da60aae9f",
       "version_major": 2,
       "version_minor": 0
      },
      "text/plain": [
       "Batch 284/501:   0%|          | 0/100 [00:00<?, ?it/s]"
      ]
     },
     "metadata": {},
     "output_type": "display_data"
    },
    {
     "data": {
      "application/vnd.jupyter.widget-view+json": {
       "model_id": "26501ac797924754b75a2c1dfbd7f9f3",
       "version_major": 2,
       "version_minor": 0
      },
      "text/plain": [
       "Batch 285/501:   0%|          | 0/100 [00:00<?, ?it/s]"
      ]
     },
     "metadata": {},
     "output_type": "display_data"
    },
    {
     "data": {
      "application/vnd.jupyter.widget-view+json": {
       "model_id": "f6f9387d5309428fa7960d25d8ed7c33",
       "version_major": 2,
       "version_minor": 0
      },
      "text/plain": [
       "Batch 286/501:   0%|          | 0/100 [00:00<?, ?it/s]"
      ]
     },
     "metadata": {},
     "output_type": "display_data"
    },
    {
     "data": {
      "application/vnd.jupyter.widget-view+json": {
       "model_id": "378dcca102d040d782862250b70dd3b4",
       "version_major": 2,
       "version_minor": 0
      },
      "text/plain": [
       "Batch 287/501:   0%|          | 0/100 [00:00<?, ?it/s]"
      ]
     },
     "metadata": {},
     "output_type": "display_data"
    },
    {
     "data": {
      "application/vnd.jupyter.widget-view+json": {
       "model_id": "7686144bbd5d465bbe9b1ad45ea7445b",
       "version_major": 2,
       "version_minor": 0
      },
      "text/plain": [
       "Batch 288/501:   0%|          | 0/100 [00:00<?, ?it/s]"
      ]
     },
     "metadata": {},
     "output_type": "display_data"
    },
    {
     "data": {
      "application/vnd.jupyter.widget-view+json": {
       "model_id": "5d5e7d19eb2146928577318155b0ccf8",
       "version_major": 2,
       "version_minor": 0
      },
      "text/plain": [
       "Batch 289/501:   0%|          | 0/100 [00:00<?, ?it/s]"
      ]
     },
     "metadata": {},
     "output_type": "display_data"
    },
    {
     "data": {
      "application/vnd.jupyter.widget-view+json": {
       "model_id": "b1de4f430b12415ea5550c056b7e6e55",
       "version_major": 2,
       "version_minor": 0
      },
      "text/plain": [
       "Batch 290/501:   0%|          | 0/100 [00:00<?, ?it/s]"
      ]
     },
     "metadata": {},
     "output_type": "display_data"
    },
    {
     "data": {
      "application/vnd.jupyter.widget-view+json": {
       "model_id": "59e72b405dfe48da957a1c0f37420d6d",
       "version_major": 2,
       "version_minor": 0
      },
      "text/plain": [
       "Batch 291/501:   0%|          | 0/100 [00:00<?, ?it/s]"
      ]
     },
     "metadata": {},
     "output_type": "display_data"
    },
    {
     "data": {
      "application/vnd.jupyter.widget-view+json": {
       "model_id": "ce890875fcce424b9208869b05515151",
       "version_major": 2,
       "version_minor": 0
      },
      "text/plain": [
       "Batch 292/501:   0%|          | 0/100 [00:00<?, ?it/s]"
      ]
     },
     "metadata": {},
     "output_type": "display_data"
    },
    {
     "data": {
      "application/vnd.jupyter.widget-view+json": {
       "model_id": "9b91ccb00e464f8ab2fcd9ec4c8d6153",
       "version_major": 2,
       "version_minor": 0
      },
      "text/plain": [
       "Batch 293/501:   0%|          | 0/100 [00:00<?, ?it/s]"
      ]
     },
     "metadata": {},
     "output_type": "display_data"
    },
    {
     "data": {
      "application/vnd.jupyter.widget-view+json": {
       "model_id": "a3e578ac56c643deacea0629df7a9bea",
       "version_major": 2,
       "version_minor": 0
      },
      "text/plain": [
       "Batch 294/501:   0%|          | 0/100 [00:00<?, ?it/s]"
      ]
     },
     "metadata": {},
     "output_type": "display_data"
    },
    {
     "data": {
      "application/vnd.jupyter.widget-view+json": {
       "model_id": "56fad61ea8e544b8ad1742a6f86a2cba",
       "version_major": 2,
       "version_minor": 0
      },
      "text/plain": [
       "Batch 295/501:   0%|          | 0/100 [00:00<?, ?it/s]"
      ]
     },
     "metadata": {},
     "output_type": "display_data"
    },
    {
     "data": {
      "application/vnd.jupyter.widget-view+json": {
       "model_id": "25d395c3911644eba49c877550d6d52e",
       "version_major": 2,
       "version_minor": 0
      },
      "text/plain": [
       "Batch 296/501:   0%|          | 0/100 [00:00<?, ?it/s]"
      ]
     },
     "metadata": {},
     "output_type": "display_data"
    },
    {
     "data": {
      "application/vnd.jupyter.widget-view+json": {
       "model_id": "b5e2d6b6b7a64525b80bfdfd587da782",
       "version_major": 2,
       "version_minor": 0
      },
      "text/plain": [
       "Batch 297/501:   0%|          | 0/100 [00:00<?, ?it/s]"
      ]
     },
     "metadata": {},
     "output_type": "display_data"
    },
    {
     "data": {
      "application/vnd.jupyter.widget-view+json": {
       "model_id": "f12338df5516454e8104d65214ada450",
       "version_major": 2,
       "version_minor": 0
      },
      "text/plain": [
       "Batch 298/501:   0%|          | 0/100 [00:00<?, ?it/s]"
      ]
     },
     "metadata": {},
     "output_type": "display_data"
    },
    {
     "data": {
      "application/vnd.jupyter.widget-view+json": {
       "model_id": "8361212de47840c09d8f019aa99e0b32",
       "version_major": 2,
       "version_minor": 0
      },
      "text/plain": [
       "Batch 299/501:   0%|          | 0/100 [00:00<?, ?it/s]"
      ]
     },
     "metadata": {},
     "output_type": "display_data"
    },
    {
     "data": {
      "application/vnd.jupyter.widget-view+json": {
       "model_id": "31aea2b454824f299788c8a209a251b6",
       "version_major": 2,
       "version_minor": 0
      },
      "text/plain": [
       "Batch 300/501:   0%|          | 0/100 [00:00<?, ?it/s]"
      ]
     },
     "metadata": {},
     "output_type": "display_data"
    },
    {
     "data": {
      "application/vnd.jupyter.widget-view+json": {
       "model_id": "670d30bdb35540eca0a34546bdfb2f24",
       "version_major": 2,
       "version_minor": 0
      },
      "text/plain": [
       "Batch 301/501:   0%|          | 0/100 [00:00<?, ?it/s]"
      ]
     },
     "metadata": {},
     "output_type": "display_data"
    },
    {
     "data": {
      "application/vnd.jupyter.widget-view+json": {
       "model_id": "945417c547274e319f0e0c31879b7744",
       "version_major": 2,
       "version_minor": 0
      },
      "text/plain": [
       "Batch 302/501:   0%|          | 0/100 [00:00<?, ?it/s]"
      ]
     },
     "metadata": {},
     "output_type": "display_data"
    },
    {
     "data": {
      "application/vnd.jupyter.widget-view+json": {
       "model_id": "6eccbfef094647b4ae1eba025eaa0316",
       "version_major": 2,
       "version_minor": 0
      },
      "text/plain": [
       "Batch 303/501:   0%|          | 0/100 [00:00<?, ?it/s]"
      ]
     },
     "metadata": {},
     "output_type": "display_data"
    },
    {
     "data": {
      "application/vnd.jupyter.widget-view+json": {
       "model_id": "1c60f0d2d8414a799d2cb5e1eea80300",
       "version_major": 2,
       "version_minor": 0
      },
      "text/plain": [
       "Batch 304/501:   0%|          | 0/100 [00:00<?, ?it/s]"
      ]
     },
     "metadata": {},
     "output_type": "display_data"
    },
    {
     "data": {
      "application/vnd.jupyter.widget-view+json": {
       "model_id": "f2bfedc631a645f3821bf89e7abf3feb",
       "version_major": 2,
       "version_minor": 0
      },
      "text/plain": [
       "Batch 305/501:   0%|          | 0/100 [00:00<?, ?it/s]"
      ]
     },
     "metadata": {},
     "output_type": "display_data"
    },
    {
     "data": {
      "application/vnd.jupyter.widget-view+json": {
       "model_id": "13b556883dd94dadb67a14f1cbff60db",
       "version_major": 2,
       "version_minor": 0
      },
      "text/plain": [
       "Batch 306/501:   0%|          | 0/100 [00:00<?, ?it/s]"
      ]
     },
     "metadata": {},
     "output_type": "display_data"
    },
    {
     "data": {
      "application/vnd.jupyter.widget-view+json": {
       "model_id": "6cf2e9c9132d4f7fafc24bd9457cc2e2",
       "version_major": 2,
       "version_minor": 0
      },
      "text/plain": [
       "Batch 307/501:   0%|          | 0/100 [00:00<?, ?it/s]"
      ]
     },
     "metadata": {},
     "output_type": "display_data"
    },
    {
     "data": {
      "application/vnd.jupyter.widget-view+json": {
       "model_id": "4f1fe94ee79c44d7b264efbc8635d8b6",
       "version_major": 2,
       "version_minor": 0
      },
      "text/plain": [
       "Batch 308/501:   0%|          | 0/100 [00:00<?, ?it/s]"
      ]
     },
     "metadata": {},
     "output_type": "display_data"
    },
    {
     "data": {
      "application/vnd.jupyter.widget-view+json": {
       "model_id": "0e7baa36171f4ac99b61cbd6ef93d831",
       "version_major": 2,
       "version_minor": 0
      },
      "text/plain": [
       "Batch 309/501:   0%|          | 0/100 [00:00<?, ?it/s]"
      ]
     },
     "metadata": {},
     "output_type": "display_data"
    },
    {
     "data": {
      "application/vnd.jupyter.widget-view+json": {
       "model_id": "46b34014cc9943b38a01a931b27e3f14",
       "version_major": 2,
       "version_minor": 0
      },
      "text/plain": [
       "Batch 310/501:   0%|          | 0/100 [00:00<?, ?it/s]"
      ]
     },
     "metadata": {},
     "output_type": "display_data"
    },
    {
     "data": {
      "application/vnd.jupyter.widget-view+json": {
       "model_id": "7267470d37ab44428b16e9e693338f99",
       "version_major": 2,
       "version_minor": 0
      },
      "text/plain": [
       "Batch 311/501:   0%|          | 0/100 [00:00<?, ?it/s]"
      ]
     },
     "metadata": {},
     "output_type": "display_data"
    },
    {
     "data": {
      "application/vnd.jupyter.widget-view+json": {
       "model_id": "7103d5c4dd534d669c90f44eabef12d4",
       "version_major": 2,
       "version_minor": 0
      },
      "text/plain": [
       "Batch 312/501:   0%|          | 0/100 [00:00<?, ?it/s]"
      ]
     },
     "metadata": {},
     "output_type": "display_data"
    },
    {
     "data": {
      "application/vnd.jupyter.widget-view+json": {
       "model_id": "c54c133da86d4b9b9f37843fe2171567",
       "version_major": 2,
       "version_minor": 0
      },
      "text/plain": [
       "Batch 313/501:   0%|          | 0/100 [00:00<?, ?it/s]"
      ]
     },
     "metadata": {},
     "output_type": "display_data"
    },
    {
     "data": {
      "application/vnd.jupyter.widget-view+json": {
       "model_id": "35fb0aff75e94508a25a7e7d1028c63e",
       "version_major": 2,
       "version_minor": 0
      },
      "text/plain": [
       "Batch 314/501:   0%|          | 0/100 [00:00<?, ?it/s]"
      ]
     },
     "metadata": {},
     "output_type": "display_data"
    },
    {
     "data": {
      "application/vnd.jupyter.widget-view+json": {
       "model_id": "2650dcec11b64b64b21569d327108edc",
       "version_major": 2,
       "version_minor": 0
      },
      "text/plain": [
       "Batch 315/501:   0%|          | 0/100 [00:00<?, ?it/s]"
      ]
     },
     "metadata": {},
     "output_type": "display_data"
    },
    {
     "data": {
      "application/vnd.jupyter.widget-view+json": {
       "model_id": "214713ca7fb04041a74b51f20c826eb7",
       "version_major": 2,
       "version_minor": 0
      },
      "text/plain": [
       "Batch 316/501:   0%|          | 0/100 [00:00<?, ?it/s]"
      ]
     },
     "metadata": {},
     "output_type": "display_data"
    },
    {
     "data": {
      "application/vnd.jupyter.widget-view+json": {
       "model_id": "a8a0e80568054139842e2c8fd762f54e",
       "version_major": 2,
       "version_minor": 0
      },
      "text/plain": [
       "Batch 317/501:   0%|          | 0/100 [00:00<?, ?it/s]"
      ]
     },
     "metadata": {},
     "output_type": "display_data"
    },
    {
     "data": {
      "application/vnd.jupyter.widget-view+json": {
       "model_id": "6c278c5602c64a56aa2991576206c49d",
       "version_major": 2,
       "version_minor": 0
      },
      "text/plain": [
       "Batch 318/501:   0%|          | 0/100 [00:00<?, ?it/s]"
      ]
     },
     "metadata": {},
     "output_type": "display_data"
    },
    {
     "data": {
      "application/vnd.jupyter.widget-view+json": {
       "model_id": "d1f9c9247b8a459fb1f36fc14adf224c",
       "version_major": 2,
       "version_minor": 0
      },
      "text/plain": [
       "Batch 319/501:   0%|          | 0/100 [00:00<?, ?it/s]"
      ]
     },
     "metadata": {},
     "output_type": "display_data"
    },
    {
     "data": {
      "application/vnd.jupyter.widget-view+json": {
       "model_id": "cbb5f0e530834c16b26d72a63da115dd",
       "version_major": 2,
       "version_minor": 0
      },
      "text/plain": [
       "Batch 320/501:   0%|          | 0/100 [00:00<?, ?it/s]"
      ]
     },
     "metadata": {},
     "output_type": "display_data"
    },
    {
     "data": {
      "application/vnd.jupyter.widget-view+json": {
       "model_id": "e84b2e5d53f5426fa2d51e6afea26cae",
       "version_major": 2,
       "version_minor": 0
      },
      "text/plain": [
       "Batch 321/501:   0%|          | 0/100 [00:00<?, ?it/s]"
      ]
     },
     "metadata": {},
     "output_type": "display_data"
    },
    {
     "data": {
      "application/vnd.jupyter.widget-view+json": {
       "model_id": "1e804b3b9bb248f4919dbf02aa54bdb5",
       "version_major": 2,
       "version_minor": 0
      },
      "text/plain": [
       "Batch 322/501:   0%|          | 0/100 [00:00<?, ?it/s]"
      ]
     },
     "metadata": {},
     "output_type": "display_data"
    },
    {
     "data": {
      "application/vnd.jupyter.widget-view+json": {
       "model_id": "5aa3d7b41b0c44029abb89bdd281e112",
       "version_major": 2,
       "version_minor": 0
      },
      "text/plain": [
       "Batch 323/501:   0%|          | 0/100 [00:00<?, ?it/s]"
      ]
     },
     "metadata": {},
     "output_type": "display_data"
    },
    {
     "data": {
      "application/vnd.jupyter.widget-view+json": {
       "model_id": "17a55ee96243442ab60b20ab5c19aa74",
       "version_major": 2,
       "version_minor": 0
      },
      "text/plain": [
       "Batch 324/501:   0%|          | 0/100 [00:00<?, ?it/s]"
      ]
     },
     "metadata": {},
     "output_type": "display_data"
    },
    {
     "data": {
      "application/vnd.jupyter.widget-view+json": {
       "model_id": "13187631806744ebabc2bdc062095017",
       "version_major": 2,
       "version_minor": 0
      },
      "text/plain": [
       "Batch 325/501:   0%|          | 0/100 [00:00<?, ?it/s]"
      ]
     },
     "metadata": {},
     "output_type": "display_data"
    },
    {
     "data": {
      "application/vnd.jupyter.widget-view+json": {
       "model_id": "48ca819ed49f4d2f91f88ae98ab433f5",
       "version_major": 2,
       "version_minor": 0
      },
      "text/plain": [
       "Batch 326/501:   0%|          | 0/100 [00:00<?, ?it/s]"
      ]
     },
     "metadata": {},
     "output_type": "display_data"
    },
    {
     "data": {
      "application/vnd.jupyter.widget-view+json": {
       "model_id": "da3760f6a3184c508a618e9ab3ea71d0",
       "version_major": 2,
       "version_minor": 0
      },
      "text/plain": [
       "Batch 327/501:   0%|          | 0/100 [00:00<?, ?it/s]"
      ]
     },
     "metadata": {},
     "output_type": "display_data"
    },
    {
     "data": {
      "application/vnd.jupyter.widget-view+json": {
       "model_id": "4fb2dbf6546b465aa9f6394a2ba56bf2",
       "version_major": 2,
       "version_minor": 0
      },
      "text/plain": [
       "Batch 328/501:   0%|          | 0/100 [00:00<?, ?it/s]"
      ]
     },
     "metadata": {},
     "output_type": "display_data"
    },
    {
     "data": {
      "application/vnd.jupyter.widget-view+json": {
       "model_id": "4129f4d41b684f8485d2fbef17f9a138",
       "version_major": 2,
       "version_minor": 0
      },
      "text/plain": [
       "Batch 329/501:   0%|          | 0/100 [00:00<?, ?it/s]"
      ]
     },
     "metadata": {},
     "output_type": "display_data"
    },
    {
     "data": {
      "application/vnd.jupyter.widget-view+json": {
       "model_id": "6dbfa918cc214bd6872969b7b1627da6",
       "version_major": 2,
       "version_minor": 0
      },
      "text/plain": [
       "Batch 330/501:   0%|          | 0/100 [00:00<?, ?it/s]"
      ]
     },
     "metadata": {},
     "output_type": "display_data"
    },
    {
     "data": {
      "application/vnd.jupyter.widget-view+json": {
       "model_id": "f09003da31864895a506ae61b74f9073",
       "version_major": 2,
       "version_minor": 0
      },
      "text/plain": [
       "Batch 331/501:   0%|          | 0/100 [00:00<?, ?it/s]"
      ]
     },
     "metadata": {},
     "output_type": "display_data"
    },
    {
     "data": {
      "application/vnd.jupyter.widget-view+json": {
       "model_id": "2fe60110e8094312b8665db4d68b41ba",
       "version_major": 2,
       "version_minor": 0
      },
      "text/plain": [
       "Batch 332/501:   0%|          | 0/100 [00:00<?, ?it/s]"
      ]
     },
     "metadata": {},
     "output_type": "display_data"
    },
    {
     "data": {
      "application/vnd.jupyter.widget-view+json": {
       "model_id": "d38969811ab446f2a8f6924899ef621b",
       "version_major": 2,
       "version_minor": 0
      },
      "text/plain": [
       "Batch 333/501:   0%|          | 0/100 [00:00<?, ?it/s]"
      ]
     },
     "metadata": {},
     "output_type": "display_data"
    },
    {
     "data": {
      "application/vnd.jupyter.widget-view+json": {
       "model_id": "0b53d2e5bb76405794d08474e2ef09ba",
       "version_major": 2,
       "version_minor": 0
      },
      "text/plain": [
       "Batch 334/501:   0%|          | 0/100 [00:00<?, ?it/s]"
      ]
     },
     "metadata": {},
     "output_type": "display_data"
    },
    {
     "data": {
      "application/vnd.jupyter.widget-view+json": {
       "model_id": "42d8400cc33d44e2ac7e6e474f80e786",
       "version_major": 2,
       "version_minor": 0
      },
      "text/plain": [
       "Batch 335/501:   0%|          | 0/100 [00:00<?, ?it/s]"
      ]
     },
     "metadata": {},
     "output_type": "display_data"
    },
    {
     "data": {
      "application/vnd.jupyter.widget-view+json": {
       "model_id": "87ab00f59fe040e987216cef1c6c9e2f",
       "version_major": 2,
       "version_minor": 0
      },
      "text/plain": [
       "Batch 336/501:   0%|          | 0/100 [00:00<?, ?it/s]"
      ]
     },
     "metadata": {},
     "output_type": "display_data"
    },
    {
     "data": {
      "application/vnd.jupyter.widget-view+json": {
       "model_id": "0e17672af4ee4123bba96e1d926c84ff",
       "version_major": 2,
       "version_minor": 0
      },
      "text/plain": [
       "Batch 337/501:   0%|          | 0/100 [00:00<?, ?it/s]"
      ]
     },
     "metadata": {},
     "output_type": "display_data"
    },
    {
     "data": {
      "application/vnd.jupyter.widget-view+json": {
       "model_id": "0a24d440341640eba95b1edbc6a06973",
       "version_major": 2,
       "version_minor": 0
      },
      "text/plain": [
       "Batch 338/501:   0%|          | 0/100 [00:00<?, ?it/s]"
      ]
     },
     "metadata": {},
     "output_type": "display_data"
    },
    {
     "data": {
      "application/vnd.jupyter.widget-view+json": {
       "model_id": "28fe8a882c314fb8a49807dba62f1063",
       "version_major": 2,
       "version_minor": 0
      },
      "text/plain": [
       "Batch 339/501:   0%|          | 0/100 [00:00<?, ?it/s]"
      ]
     },
     "metadata": {},
     "output_type": "display_data"
    },
    {
     "data": {
      "application/vnd.jupyter.widget-view+json": {
       "model_id": "67375081a6ed4933b7c388ceb8809a43",
       "version_major": 2,
       "version_minor": 0
      },
      "text/plain": [
       "Batch 340/501:   0%|          | 0/100 [00:00<?, ?it/s]"
      ]
     },
     "metadata": {},
     "output_type": "display_data"
    },
    {
     "data": {
      "application/vnd.jupyter.widget-view+json": {
       "model_id": "0546829a3be741fc8857dd3885b6427c",
       "version_major": 2,
       "version_minor": 0
      },
      "text/plain": [
       "Batch 341/501:   0%|          | 0/100 [00:00<?, ?it/s]"
      ]
     },
     "metadata": {},
     "output_type": "display_data"
    },
    {
     "data": {
      "application/vnd.jupyter.widget-view+json": {
       "model_id": "819868cefcc14c83a867519ff6c6905b",
       "version_major": 2,
       "version_minor": 0
      },
      "text/plain": [
       "Batch 342/501:   0%|          | 0/100 [00:00<?, ?it/s]"
      ]
     },
     "metadata": {},
     "output_type": "display_data"
    },
    {
     "data": {
      "application/vnd.jupyter.widget-view+json": {
       "model_id": "35c82a25b6c642b48f8a829816379a55",
       "version_major": 2,
       "version_minor": 0
      },
      "text/plain": [
       "Batch 343/501:   0%|          | 0/100 [00:00<?, ?it/s]"
      ]
     },
     "metadata": {},
     "output_type": "display_data"
    },
    {
     "data": {
      "application/vnd.jupyter.widget-view+json": {
       "model_id": "12608985e234445bbbb508da5a9c7b4a",
       "version_major": 2,
       "version_minor": 0
      },
      "text/plain": [
       "Batch 344/501:   0%|          | 0/100 [00:00<?, ?it/s]"
      ]
     },
     "metadata": {},
     "output_type": "display_data"
    },
    {
     "data": {
      "application/vnd.jupyter.widget-view+json": {
       "model_id": "f3f6d4fa1cec48e38a6696359ebb7af7",
       "version_major": 2,
       "version_minor": 0
      },
      "text/plain": [
       "Batch 345/501:   0%|          | 0/100 [00:00<?, ?it/s]"
      ]
     },
     "metadata": {},
     "output_type": "display_data"
    },
    {
     "data": {
      "application/vnd.jupyter.widget-view+json": {
       "model_id": "33e9288a391d455e9dc3c7dd05a720da",
       "version_major": 2,
       "version_minor": 0
      },
      "text/plain": [
       "Batch 346/501:   0%|          | 0/100 [00:00<?, ?it/s]"
      ]
     },
     "metadata": {},
     "output_type": "display_data"
    },
    {
     "data": {
      "application/vnd.jupyter.widget-view+json": {
       "model_id": "6d469ae014de480cb9a1cb63316abc1e",
       "version_major": 2,
       "version_minor": 0
      },
      "text/plain": [
       "Batch 347/501:   0%|          | 0/100 [00:00<?, ?it/s]"
      ]
     },
     "metadata": {},
     "output_type": "display_data"
    },
    {
     "data": {
      "application/vnd.jupyter.widget-view+json": {
       "model_id": "52386c956c924d0d9ed1dfb7fbc9c24d",
       "version_major": 2,
       "version_minor": 0
      },
      "text/plain": [
       "Batch 348/501:   0%|          | 0/100 [00:00<?, ?it/s]"
      ]
     },
     "metadata": {},
     "output_type": "display_data"
    },
    {
     "data": {
      "application/vnd.jupyter.widget-view+json": {
       "model_id": "23f922ff51d843c5b7772775e316cda0",
       "version_major": 2,
       "version_minor": 0
      },
      "text/plain": [
       "Batch 349/501:   0%|          | 0/100 [00:00<?, ?it/s]"
      ]
     },
     "metadata": {},
     "output_type": "display_data"
    },
    {
     "data": {
      "application/vnd.jupyter.widget-view+json": {
       "model_id": "6ca021c031d74933b54241f27d3da523",
       "version_major": 2,
       "version_minor": 0
      },
      "text/plain": [
       "Batch 350/501:   0%|          | 0/100 [00:00<?, ?it/s]"
      ]
     },
     "metadata": {},
     "output_type": "display_data"
    },
    {
     "data": {
      "application/vnd.jupyter.widget-view+json": {
       "model_id": "f0324e27263d405d8bef98803e13adb6",
       "version_major": 2,
       "version_minor": 0
      },
      "text/plain": [
       "Batch 351/501:   0%|          | 0/100 [00:00<?, ?it/s]"
      ]
     },
     "metadata": {},
     "output_type": "display_data"
    },
    {
     "data": {
      "application/vnd.jupyter.widget-view+json": {
       "model_id": "336db01b19aa4a5b81b46f813ef63b60",
       "version_major": 2,
       "version_minor": 0
      },
      "text/plain": [
       "Batch 352/501:   0%|          | 0/100 [00:00<?, ?it/s]"
      ]
     },
     "metadata": {},
     "output_type": "display_data"
    },
    {
     "data": {
      "application/vnd.jupyter.widget-view+json": {
       "model_id": "db73999bff504b3fb64ec103623972d1",
       "version_major": 2,
       "version_minor": 0
      },
      "text/plain": [
       "Batch 353/501:   0%|          | 0/100 [00:00<?, ?it/s]"
      ]
     },
     "metadata": {},
     "output_type": "display_data"
    },
    {
     "data": {
      "application/vnd.jupyter.widget-view+json": {
       "model_id": "c3531c9ca4284c9a9fd6b20592340d70",
       "version_major": 2,
       "version_minor": 0
      },
      "text/plain": [
       "Batch 354/501:   0%|          | 0/100 [00:00<?, ?it/s]"
      ]
     },
     "metadata": {},
     "output_type": "display_data"
    },
    {
     "data": {
      "application/vnd.jupyter.widget-view+json": {
       "model_id": "2a3ca88a847e4f9d858e0eb9dca9f0b7",
       "version_major": 2,
       "version_minor": 0
      },
      "text/plain": [
       "Batch 355/501:   0%|          | 0/100 [00:00<?, ?it/s]"
      ]
     },
     "metadata": {},
     "output_type": "display_data"
    },
    {
     "data": {
      "application/vnd.jupyter.widget-view+json": {
       "model_id": "54601a8506f44da5a49c67d7251fc62c",
       "version_major": 2,
       "version_minor": 0
      },
      "text/plain": [
       "Batch 356/501:   0%|          | 0/100 [00:00<?, ?it/s]"
      ]
     },
     "metadata": {},
     "output_type": "display_data"
    },
    {
     "data": {
      "application/vnd.jupyter.widget-view+json": {
       "model_id": "b0265eaa32c44a39980b7cc9612155d7",
       "version_major": 2,
       "version_minor": 0
      },
      "text/plain": [
       "Batch 357/501:   0%|          | 0/100 [00:00<?, ?it/s]"
      ]
     },
     "metadata": {},
     "output_type": "display_data"
    },
    {
     "data": {
      "application/vnd.jupyter.widget-view+json": {
       "model_id": "2886c9f77c52405abe34784a4a4f2c7f",
       "version_major": 2,
       "version_minor": 0
      },
      "text/plain": [
       "Batch 358/501:   0%|          | 0/100 [00:00<?, ?it/s]"
      ]
     },
     "metadata": {},
     "output_type": "display_data"
    },
    {
     "data": {
      "application/vnd.jupyter.widget-view+json": {
       "model_id": "a0d00a182da5485889b9e78476eb39d9",
       "version_major": 2,
       "version_minor": 0
      },
      "text/plain": [
       "Batch 359/501:   0%|          | 0/100 [00:00<?, ?it/s]"
      ]
     },
     "metadata": {},
     "output_type": "display_data"
    },
    {
     "data": {
      "application/vnd.jupyter.widget-view+json": {
       "model_id": "fd1857c79e2b490c86634a45777be845",
       "version_major": 2,
       "version_minor": 0
      },
      "text/plain": [
       "Batch 360/501:   0%|          | 0/100 [00:00<?, ?it/s]"
      ]
     },
     "metadata": {},
     "output_type": "display_data"
    },
    {
     "data": {
      "application/vnd.jupyter.widget-view+json": {
       "model_id": "e813f350f7204d41bc5bb8d1a421c462",
       "version_major": 2,
       "version_minor": 0
      },
      "text/plain": [
       "Batch 361/501:   0%|          | 0/100 [00:00<?, ?it/s]"
      ]
     },
     "metadata": {},
     "output_type": "display_data"
    },
    {
     "data": {
      "application/vnd.jupyter.widget-view+json": {
       "model_id": "b8de831c9cb2479785b884a9dc6d5b6c",
       "version_major": 2,
       "version_minor": 0
      },
      "text/plain": [
       "Batch 362/501:   0%|          | 0/100 [00:00<?, ?it/s]"
      ]
     },
     "metadata": {},
     "output_type": "display_data"
    },
    {
     "data": {
      "application/vnd.jupyter.widget-view+json": {
       "model_id": "f9b8268d20f64c309bcf1f5b2ac58882",
       "version_major": 2,
       "version_minor": 0
      },
      "text/plain": [
       "Batch 363/501:   0%|          | 0/100 [00:00<?, ?it/s]"
      ]
     },
     "metadata": {},
     "output_type": "display_data"
    },
    {
     "data": {
      "application/vnd.jupyter.widget-view+json": {
       "model_id": "263dda0ffcfe403c85b6c46fd57e6902",
       "version_major": 2,
       "version_minor": 0
      },
      "text/plain": [
       "Batch 364/501:   0%|          | 0/100 [00:00<?, ?it/s]"
      ]
     },
     "metadata": {},
     "output_type": "display_data"
    },
    {
     "data": {
      "application/vnd.jupyter.widget-view+json": {
       "model_id": "c5cd53bcd68e48b9b9e2ef3be9da70a2",
       "version_major": 2,
       "version_minor": 0
      },
      "text/plain": [
       "Batch 365/501:   0%|          | 0/100 [00:00<?, ?it/s]"
      ]
     },
     "metadata": {},
     "output_type": "display_data"
    },
    {
     "data": {
      "application/vnd.jupyter.widget-view+json": {
       "model_id": "fee11bb05e034c2aa56c9b9a04b6b028",
       "version_major": 2,
       "version_minor": 0
      },
      "text/plain": [
       "Batch 366/501:   0%|          | 0/100 [00:00<?, ?it/s]"
      ]
     },
     "metadata": {},
     "output_type": "display_data"
    },
    {
     "data": {
      "application/vnd.jupyter.widget-view+json": {
       "model_id": "6604395327554bc486eb7219f0fdd36f",
       "version_major": 2,
       "version_minor": 0
      },
      "text/plain": [
       "Batch 367/501:   0%|          | 0/100 [00:00<?, ?it/s]"
      ]
     },
     "metadata": {},
     "output_type": "display_data"
    },
    {
     "data": {
      "application/vnd.jupyter.widget-view+json": {
       "model_id": "047ff7a4c66148a3b2e365bdfdfb0cef",
       "version_major": 2,
       "version_minor": 0
      },
      "text/plain": [
       "Batch 368/501:   0%|          | 0/100 [00:00<?, ?it/s]"
      ]
     },
     "metadata": {},
     "output_type": "display_data"
    },
    {
     "data": {
      "application/vnd.jupyter.widget-view+json": {
       "model_id": "5f82cfd0d9ff470eb3cea44dc1c0134f",
       "version_major": 2,
       "version_minor": 0
      },
      "text/plain": [
       "Batch 369/501:   0%|          | 0/100 [00:00<?, ?it/s]"
      ]
     },
     "metadata": {},
     "output_type": "display_data"
    },
    {
     "data": {
      "application/vnd.jupyter.widget-view+json": {
       "model_id": "862da160c1dd4358ba160df7be4ba50b",
       "version_major": 2,
       "version_minor": 0
      },
      "text/plain": [
       "Batch 370/501:   0%|          | 0/100 [00:00<?, ?it/s]"
      ]
     },
     "metadata": {},
     "output_type": "display_data"
    },
    {
     "data": {
      "application/vnd.jupyter.widget-view+json": {
       "model_id": "76e9794b67f74547afbfa07617513255",
       "version_major": 2,
       "version_minor": 0
      },
      "text/plain": [
       "Batch 371/501:   0%|          | 0/100 [00:00<?, ?it/s]"
      ]
     },
     "metadata": {},
     "output_type": "display_data"
    },
    {
     "data": {
      "application/vnd.jupyter.widget-view+json": {
       "model_id": "5c15e708f55348e29308a1b2f01ae181",
       "version_major": 2,
       "version_minor": 0
      },
      "text/plain": [
       "Batch 372/501:   0%|          | 0/100 [00:00<?, ?it/s]"
      ]
     },
     "metadata": {},
     "output_type": "display_data"
    },
    {
     "data": {
      "application/vnd.jupyter.widget-view+json": {
       "model_id": "75383d2ae9874887b2a3a4050b366d20",
       "version_major": 2,
       "version_minor": 0
      },
      "text/plain": [
       "Batch 373/501:   0%|          | 0/100 [00:00<?, ?it/s]"
      ]
     },
     "metadata": {},
     "output_type": "display_data"
    },
    {
     "data": {
      "application/vnd.jupyter.widget-view+json": {
       "model_id": "02275d0ee09642fe9317866e2416dc0f",
       "version_major": 2,
       "version_minor": 0
      },
      "text/plain": [
       "Batch 374/501:   0%|          | 0/100 [00:00<?, ?it/s]"
      ]
     },
     "metadata": {},
     "output_type": "display_data"
    },
    {
     "data": {
      "application/vnd.jupyter.widget-view+json": {
       "model_id": "0a09156069b643b5ae4c6597efc2e976",
       "version_major": 2,
       "version_minor": 0
      },
      "text/plain": [
       "Batch 375/501:   0%|          | 0/100 [00:00<?, ?it/s]"
      ]
     },
     "metadata": {},
     "output_type": "display_data"
    },
    {
     "data": {
      "application/vnd.jupyter.widget-view+json": {
       "model_id": "7b7cef92e34e48e79350719224dde34b",
       "version_major": 2,
       "version_minor": 0
      },
      "text/plain": [
       "Batch 376/501:   0%|          | 0/100 [00:00<?, ?it/s]"
      ]
     },
     "metadata": {},
     "output_type": "display_data"
    },
    {
     "data": {
      "application/vnd.jupyter.widget-view+json": {
       "model_id": "40e6bad072b44181ab2a68c483eefb38",
       "version_major": 2,
       "version_minor": 0
      },
      "text/plain": [
       "Batch 377/501:   0%|          | 0/100 [00:00<?, ?it/s]"
      ]
     },
     "metadata": {},
     "output_type": "display_data"
    },
    {
     "data": {
      "application/vnd.jupyter.widget-view+json": {
       "model_id": "3c141f58d27a43bfb15a3f85509e2877",
       "version_major": 2,
       "version_minor": 0
      },
      "text/plain": [
       "Batch 378/501:   0%|          | 0/100 [00:00<?, ?it/s]"
      ]
     },
     "metadata": {},
     "output_type": "display_data"
    },
    {
     "data": {
      "application/vnd.jupyter.widget-view+json": {
       "model_id": "3f63be353f634bcf9086651e60fbc746",
       "version_major": 2,
       "version_minor": 0
      },
      "text/plain": [
       "Batch 379/501:   0%|          | 0/100 [00:00<?, ?it/s]"
      ]
     },
     "metadata": {},
     "output_type": "display_data"
    },
    {
     "data": {
      "application/vnd.jupyter.widget-view+json": {
       "model_id": "3426fde153a54947ac8ba7c55ad9f127",
       "version_major": 2,
       "version_minor": 0
      },
      "text/plain": [
       "Batch 380/501:   0%|          | 0/100 [00:00<?, ?it/s]"
      ]
     },
     "metadata": {},
     "output_type": "display_data"
    },
    {
     "data": {
      "application/vnd.jupyter.widget-view+json": {
       "model_id": "ca0b93c4ecad4cf6b77ea9970ce1b245",
       "version_major": 2,
       "version_minor": 0
      },
      "text/plain": [
       "Batch 381/501:   0%|          | 0/100 [00:00<?, ?it/s]"
      ]
     },
     "metadata": {},
     "output_type": "display_data"
    },
    {
     "data": {
      "application/vnd.jupyter.widget-view+json": {
       "model_id": "1889e8e4afd64b2ab7e4b99852499caa",
       "version_major": 2,
       "version_minor": 0
      },
      "text/plain": [
       "Batch 382/501:   0%|          | 0/100 [00:00<?, ?it/s]"
      ]
     },
     "metadata": {},
     "output_type": "display_data"
    },
    {
     "data": {
      "application/vnd.jupyter.widget-view+json": {
       "model_id": "9a071bcef3e34dad93cc97d9f69dae27",
       "version_major": 2,
       "version_minor": 0
      },
      "text/plain": [
       "Batch 383/501:   0%|          | 0/100 [00:00<?, ?it/s]"
      ]
     },
     "metadata": {},
     "output_type": "display_data"
    },
    {
     "data": {
      "application/vnd.jupyter.widget-view+json": {
       "model_id": "79abbe94a9684044b21d0cf4f8173e00",
       "version_major": 2,
       "version_minor": 0
      },
      "text/plain": [
       "Batch 384/501:   0%|          | 0/100 [00:00<?, ?it/s]"
      ]
     },
     "metadata": {},
     "output_type": "display_data"
    },
    {
     "data": {
      "application/vnd.jupyter.widget-view+json": {
       "model_id": "9bf0aad20e634381963dc6ed90213b39",
       "version_major": 2,
       "version_minor": 0
      },
      "text/plain": [
       "Batch 385/501:   0%|          | 0/100 [00:00<?, ?it/s]"
      ]
     },
     "metadata": {},
     "output_type": "display_data"
    },
    {
     "data": {
      "application/vnd.jupyter.widget-view+json": {
       "model_id": "993b0175f48f4c989fbcd8255914f868",
       "version_major": 2,
       "version_minor": 0
      },
      "text/plain": [
       "Batch 386/501:   0%|          | 0/100 [00:00<?, ?it/s]"
      ]
     },
     "metadata": {},
     "output_type": "display_data"
    },
    {
     "data": {
      "application/vnd.jupyter.widget-view+json": {
       "model_id": "b3e1ce7e5f004d6bbef7882a0e4a7dd8",
       "version_major": 2,
       "version_minor": 0
      },
      "text/plain": [
       "Batch 387/501:   0%|          | 0/100 [00:00<?, ?it/s]"
      ]
     },
     "metadata": {},
     "output_type": "display_data"
    },
    {
     "data": {
      "application/vnd.jupyter.widget-view+json": {
       "model_id": "525f3f9f224e45b596d2a19017ff0472",
       "version_major": 2,
       "version_minor": 0
      },
      "text/plain": [
       "Batch 388/501:   0%|          | 0/100 [00:00<?, ?it/s]"
      ]
     },
     "metadata": {},
     "output_type": "display_data"
    },
    {
     "data": {
      "application/vnd.jupyter.widget-view+json": {
       "model_id": "ebacbeb8a6284cabaf29088835df785a",
       "version_major": 2,
       "version_minor": 0
      },
      "text/plain": [
       "Batch 389/501:   0%|          | 0/100 [00:00<?, ?it/s]"
      ]
     },
     "metadata": {},
     "output_type": "display_data"
    },
    {
     "data": {
      "application/vnd.jupyter.widget-view+json": {
       "model_id": "87e737cae9ec43d98d54107b938d9afa",
       "version_major": 2,
       "version_minor": 0
      },
      "text/plain": [
       "Batch 390/501:   0%|          | 0/100 [00:00<?, ?it/s]"
      ]
     },
     "metadata": {},
     "output_type": "display_data"
    },
    {
     "data": {
      "application/vnd.jupyter.widget-view+json": {
       "model_id": "f56aca4c5ee142eba3e3581130d4d7cf",
       "version_major": 2,
       "version_minor": 0
      },
      "text/plain": [
       "Batch 391/501:   0%|          | 0/100 [00:00<?, ?it/s]"
      ]
     },
     "metadata": {},
     "output_type": "display_data"
    },
    {
     "data": {
      "application/vnd.jupyter.widget-view+json": {
       "model_id": "4eca1b3bce884972a9c165f88fbaffb1",
       "version_major": 2,
       "version_minor": 0
      },
      "text/plain": [
       "Batch 392/501:   0%|          | 0/100 [00:00<?, ?it/s]"
      ]
     },
     "metadata": {},
     "output_type": "display_data"
    },
    {
     "data": {
      "application/vnd.jupyter.widget-view+json": {
       "model_id": "c2b6217e6d4943919eef4068968e1994",
       "version_major": 2,
       "version_minor": 0
      },
      "text/plain": [
       "Batch 393/501:   0%|          | 0/100 [00:00<?, ?it/s]"
      ]
     },
     "metadata": {},
     "output_type": "display_data"
    },
    {
     "data": {
      "application/vnd.jupyter.widget-view+json": {
       "model_id": "47f6915eb5b64caaa1fc86e6ee0948a3",
       "version_major": 2,
       "version_minor": 0
      },
      "text/plain": [
       "Batch 394/501:   0%|          | 0/100 [00:00<?, ?it/s]"
      ]
     },
     "metadata": {},
     "output_type": "display_data"
    },
    {
     "data": {
      "application/vnd.jupyter.widget-view+json": {
       "model_id": "7ae3ec846f6d4d1aa729b492513f9417",
       "version_major": 2,
       "version_minor": 0
      },
      "text/plain": [
       "Batch 395/501:   0%|          | 0/100 [00:00<?, ?it/s]"
      ]
     },
     "metadata": {},
     "output_type": "display_data"
    },
    {
     "data": {
      "application/vnd.jupyter.widget-view+json": {
       "model_id": "4ea0f8cfe3d24fad9cd80990f9120040",
       "version_major": 2,
       "version_minor": 0
      },
      "text/plain": [
       "Batch 396/501:   0%|          | 0/100 [00:00<?, ?it/s]"
      ]
     },
     "metadata": {},
     "output_type": "display_data"
    },
    {
     "data": {
      "application/vnd.jupyter.widget-view+json": {
       "model_id": "5e4fdd789ad1492190fcb3acccfff711",
       "version_major": 2,
       "version_minor": 0
      },
      "text/plain": [
       "Batch 397/501:   0%|          | 0/100 [00:00<?, ?it/s]"
      ]
     },
     "metadata": {},
     "output_type": "display_data"
    },
    {
     "data": {
      "application/vnd.jupyter.widget-view+json": {
       "model_id": "cd67e46ff1c84a5a9e1991e515493a5a",
       "version_major": 2,
       "version_minor": 0
      },
      "text/plain": [
       "Batch 398/501:   0%|          | 0/100 [00:00<?, ?it/s]"
      ]
     },
     "metadata": {},
     "output_type": "display_data"
    },
    {
     "data": {
      "application/vnd.jupyter.widget-view+json": {
       "model_id": "26b3f7d221c3483b80b4200bbbeda187",
       "version_major": 2,
       "version_minor": 0
      },
      "text/plain": [
       "Batch 399/501:   0%|          | 0/100 [00:00<?, ?it/s]"
      ]
     },
     "metadata": {},
     "output_type": "display_data"
    },
    {
     "data": {
      "application/vnd.jupyter.widget-view+json": {
       "model_id": "bff3c690dbad4098b763a767d8d5d533",
       "version_major": 2,
       "version_minor": 0
      },
      "text/plain": [
       "Batch 400/501:   0%|          | 0/100 [00:00<?, ?it/s]"
      ]
     },
     "metadata": {},
     "output_type": "display_data"
    },
    {
     "data": {
      "application/vnd.jupyter.widget-view+json": {
       "model_id": "b6feeb9b5cc14b949a47089fe9404083",
       "version_major": 2,
       "version_minor": 0
      },
      "text/plain": [
       "Batch 401/501:   0%|          | 0/100 [00:00<?, ?it/s]"
      ]
     },
     "metadata": {},
     "output_type": "display_data"
    },
    {
     "data": {
      "application/vnd.jupyter.widget-view+json": {
       "model_id": "c43fe3d787254f999bb733d32f3ad881",
       "version_major": 2,
       "version_minor": 0
      },
      "text/plain": [
       "Batch 402/501:   0%|          | 0/100 [00:00<?, ?it/s]"
      ]
     },
     "metadata": {},
     "output_type": "display_data"
    },
    {
     "data": {
      "application/vnd.jupyter.widget-view+json": {
       "model_id": "38cab10a93ed4c85b5aa7fa52f27fc2c",
       "version_major": 2,
       "version_minor": 0
      },
      "text/plain": [
       "Batch 403/501:   0%|          | 0/100 [00:00<?, ?it/s]"
      ]
     },
     "metadata": {},
     "output_type": "display_data"
    },
    {
     "data": {
      "application/vnd.jupyter.widget-view+json": {
       "model_id": "661e0305c2c54ed083806caa3e56fdbd",
       "version_major": 2,
       "version_minor": 0
      },
      "text/plain": [
       "Batch 404/501:   0%|          | 0/100 [00:00<?, ?it/s]"
      ]
     },
     "metadata": {},
     "output_type": "display_data"
    },
    {
     "data": {
      "application/vnd.jupyter.widget-view+json": {
       "model_id": "63c68333cd1347eab90b0671c3af7704",
       "version_major": 2,
       "version_minor": 0
      },
      "text/plain": [
       "Batch 405/501:   0%|          | 0/100 [00:00<?, ?it/s]"
      ]
     },
     "metadata": {},
     "output_type": "display_data"
    },
    {
     "data": {
      "application/vnd.jupyter.widget-view+json": {
       "model_id": "979e7adcbe3f4fcdbca637fd95ba9f1d",
       "version_major": 2,
       "version_minor": 0
      },
      "text/plain": [
       "Batch 406/501:   0%|          | 0/100 [00:00<?, ?it/s]"
      ]
     },
     "metadata": {},
     "output_type": "display_data"
    },
    {
     "data": {
      "application/vnd.jupyter.widget-view+json": {
       "model_id": "fe01bcb0024747fcab7f7b7ea8635a9a",
       "version_major": 2,
       "version_minor": 0
      },
      "text/plain": [
       "Batch 407/501:   0%|          | 0/100 [00:00<?, ?it/s]"
      ]
     },
     "metadata": {},
     "output_type": "display_data"
    },
    {
     "data": {
      "application/vnd.jupyter.widget-view+json": {
       "model_id": "753a0244c097467d849eed93de47d8ea",
       "version_major": 2,
       "version_minor": 0
      },
      "text/plain": [
       "Batch 408/501:   0%|          | 0/100 [00:00<?, ?it/s]"
      ]
     },
     "metadata": {},
     "output_type": "display_data"
    },
    {
     "data": {
      "application/vnd.jupyter.widget-view+json": {
       "model_id": "b5a2962da64843448f777ab6523262ee",
       "version_major": 2,
       "version_minor": 0
      },
      "text/plain": [
       "Batch 409/501:   0%|          | 0/100 [00:00<?, ?it/s]"
      ]
     },
     "metadata": {},
     "output_type": "display_data"
    },
    {
     "data": {
      "application/vnd.jupyter.widget-view+json": {
       "model_id": "04220f875bb84cf6a27a92852cdd7636",
       "version_major": 2,
       "version_minor": 0
      },
      "text/plain": [
       "Batch 410/501:   0%|          | 0/100 [00:00<?, ?it/s]"
      ]
     },
     "metadata": {},
     "output_type": "display_data"
    },
    {
     "data": {
      "application/vnd.jupyter.widget-view+json": {
       "model_id": "99d80a2b72a145ee896ed069c96bd3cc",
       "version_major": 2,
       "version_minor": 0
      },
      "text/plain": [
       "Batch 411/501:   0%|          | 0/100 [00:00<?, ?it/s]"
      ]
     },
     "metadata": {},
     "output_type": "display_data"
    },
    {
     "data": {
      "application/vnd.jupyter.widget-view+json": {
       "model_id": "c34935128b4a446fbf0316e176956657",
       "version_major": 2,
       "version_minor": 0
      },
      "text/plain": [
       "Batch 412/501:   0%|          | 0/100 [00:00<?, ?it/s]"
      ]
     },
     "metadata": {},
     "output_type": "display_data"
    },
    {
     "data": {
      "application/vnd.jupyter.widget-view+json": {
       "model_id": "883beca603e5465993a8e31cf912c0ec",
       "version_major": 2,
       "version_minor": 0
      },
      "text/plain": [
       "Batch 413/501:   0%|          | 0/100 [00:00<?, ?it/s]"
      ]
     },
     "metadata": {},
     "output_type": "display_data"
    },
    {
     "data": {
      "application/vnd.jupyter.widget-view+json": {
       "model_id": "31fb0ca8ce3d4530aa4c502e457cadf7",
       "version_major": 2,
       "version_minor": 0
      },
      "text/plain": [
       "Batch 414/501:   0%|          | 0/100 [00:00<?, ?it/s]"
      ]
     },
     "metadata": {},
     "output_type": "display_data"
    },
    {
     "data": {
      "application/vnd.jupyter.widget-view+json": {
       "model_id": "f2d2fa2869f448fc96474a7c7470186a",
       "version_major": 2,
       "version_minor": 0
      },
      "text/plain": [
       "Batch 415/501:   0%|          | 0/100 [00:00<?, ?it/s]"
      ]
     },
     "metadata": {},
     "output_type": "display_data"
    },
    {
     "data": {
      "application/vnd.jupyter.widget-view+json": {
       "model_id": "15ac56e560224340837068c41fa9e5ad",
       "version_major": 2,
       "version_minor": 0
      },
      "text/plain": [
       "Batch 416/501:   0%|          | 0/100 [00:00<?, ?it/s]"
      ]
     },
     "metadata": {},
     "output_type": "display_data"
    },
    {
     "data": {
      "application/vnd.jupyter.widget-view+json": {
       "model_id": "f92767d219814a20aa9e498135e26fb1",
       "version_major": 2,
       "version_minor": 0
      },
      "text/plain": [
       "Batch 417/501:   0%|          | 0/100 [00:00<?, ?it/s]"
      ]
     },
     "metadata": {},
     "output_type": "display_data"
    },
    {
     "data": {
      "application/vnd.jupyter.widget-view+json": {
       "model_id": "663ec623403d4e97a30421cc5e012696",
       "version_major": 2,
       "version_minor": 0
      },
      "text/plain": [
       "Batch 418/501:   0%|          | 0/100 [00:00<?, ?it/s]"
      ]
     },
     "metadata": {},
     "output_type": "display_data"
    },
    {
     "data": {
      "application/vnd.jupyter.widget-view+json": {
       "model_id": "828304a1887946db84a9115f97d2925c",
       "version_major": 2,
       "version_minor": 0
      },
      "text/plain": [
       "Batch 419/501:   0%|          | 0/100 [00:00<?, ?it/s]"
      ]
     },
     "metadata": {},
     "output_type": "display_data"
    },
    {
     "data": {
      "application/vnd.jupyter.widget-view+json": {
       "model_id": "51b7ac84c9e443b0b0c7868575364fc1",
       "version_major": 2,
       "version_minor": 0
      },
      "text/plain": [
       "Batch 420/501:   0%|          | 0/100 [00:00<?, ?it/s]"
      ]
     },
     "metadata": {},
     "output_type": "display_data"
    },
    {
     "data": {
      "application/vnd.jupyter.widget-view+json": {
       "model_id": "b236aabb3cfa419b895fc2b5abc63ac8",
       "version_major": 2,
       "version_minor": 0
      },
      "text/plain": [
       "Batch 421/501:   0%|          | 0/100 [00:00<?, ?it/s]"
      ]
     },
     "metadata": {},
     "output_type": "display_data"
    },
    {
     "data": {
      "application/vnd.jupyter.widget-view+json": {
       "model_id": "255561bcd98348c48c74a8d8e6855048",
       "version_major": 2,
       "version_minor": 0
      },
      "text/plain": [
       "Batch 422/501:   0%|          | 0/100 [00:00<?, ?it/s]"
      ]
     },
     "metadata": {},
     "output_type": "display_data"
    },
    {
     "data": {
      "application/vnd.jupyter.widget-view+json": {
       "model_id": "7411a7ac928f4503afff2c33303b53f4",
       "version_major": 2,
       "version_minor": 0
      },
      "text/plain": [
       "Batch 423/501:   0%|          | 0/100 [00:00<?, ?it/s]"
      ]
     },
     "metadata": {},
     "output_type": "display_data"
    },
    {
     "data": {
      "application/vnd.jupyter.widget-view+json": {
       "model_id": "66f9f6c35d1a4719a5990bdc7d285e93",
       "version_major": 2,
       "version_minor": 0
      },
      "text/plain": [
       "Batch 424/501:   0%|          | 0/100 [00:00<?, ?it/s]"
      ]
     },
     "metadata": {},
     "output_type": "display_data"
    },
    {
     "data": {
      "application/vnd.jupyter.widget-view+json": {
       "model_id": "5e142291479d461eb8c4a9a5714c2d4a",
       "version_major": 2,
       "version_minor": 0
      },
      "text/plain": [
       "Batch 425/501:   0%|          | 0/100 [00:00<?, ?it/s]"
      ]
     },
     "metadata": {},
     "output_type": "display_data"
    },
    {
     "data": {
      "application/vnd.jupyter.widget-view+json": {
       "model_id": "8584306918e94be2933c44e58e95f8fc",
       "version_major": 2,
       "version_minor": 0
      },
      "text/plain": [
       "Batch 426/501:   0%|          | 0/100 [00:00<?, ?it/s]"
      ]
     },
     "metadata": {},
     "output_type": "display_data"
    },
    {
     "data": {
      "application/vnd.jupyter.widget-view+json": {
       "model_id": "5a2cb340dd714d99a071280816753982",
       "version_major": 2,
       "version_minor": 0
      },
      "text/plain": [
       "Batch 427/501:   0%|          | 0/100 [00:00<?, ?it/s]"
      ]
     },
     "metadata": {},
     "output_type": "display_data"
    },
    {
     "data": {
      "application/vnd.jupyter.widget-view+json": {
       "model_id": "bb2f01e4f6974b9392c43693c2d930e0",
       "version_major": 2,
       "version_minor": 0
      },
      "text/plain": [
       "Batch 428/501:   0%|          | 0/100 [00:00<?, ?it/s]"
      ]
     },
     "metadata": {},
     "output_type": "display_data"
    },
    {
     "data": {
      "application/vnd.jupyter.widget-view+json": {
       "model_id": "389152272b044c0b8a33b36593cf6ff6",
       "version_major": 2,
       "version_minor": 0
      },
      "text/plain": [
       "Batch 429/501:   0%|          | 0/100 [00:00<?, ?it/s]"
      ]
     },
     "metadata": {},
     "output_type": "display_data"
    },
    {
     "data": {
      "application/vnd.jupyter.widget-view+json": {
       "model_id": "d65469bc35ad492088b511d89132a782",
       "version_major": 2,
       "version_minor": 0
      },
      "text/plain": [
       "Batch 430/501:   0%|          | 0/100 [00:00<?, ?it/s]"
      ]
     },
     "metadata": {},
     "output_type": "display_data"
    },
    {
     "data": {
      "application/vnd.jupyter.widget-view+json": {
       "model_id": "b8088ab29f74459eb6165da4dc107658",
       "version_major": 2,
       "version_minor": 0
      },
      "text/plain": [
       "Batch 431/501:   0%|          | 0/100 [00:00<?, ?it/s]"
      ]
     },
     "metadata": {},
     "output_type": "display_data"
    },
    {
     "data": {
      "application/vnd.jupyter.widget-view+json": {
       "model_id": "d8f6bcca71334cab8aac35c905653d8d",
       "version_major": 2,
       "version_minor": 0
      },
      "text/plain": [
       "Batch 432/501:   0%|          | 0/100 [00:00<?, ?it/s]"
      ]
     },
     "metadata": {},
     "output_type": "display_data"
    },
    {
     "data": {
      "application/vnd.jupyter.widget-view+json": {
       "model_id": "d03ed5553d4e4299a4fbc760f1af31df",
       "version_major": 2,
       "version_minor": 0
      },
      "text/plain": [
       "Batch 433/501:   0%|          | 0/100 [00:00<?, ?it/s]"
      ]
     },
     "metadata": {},
     "output_type": "display_data"
    },
    {
     "data": {
      "application/vnd.jupyter.widget-view+json": {
       "model_id": "ffe733924e1145a3a4f9545b01c75edd",
       "version_major": 2,
       "version_minor": 0
      },
      "text/plain": [
       "Batch 434/501:   0%|          | 0/100 [00:00<?, ?it/s]"
      ]
     },
     "metadata": {},
     "output_type": "display_data"
    },
    {
     "data": {
      "application/vnd.jupyter.widget-view+json": {
       "model_id": "33f92502e817480a8d826e8865fbce4d",
       "version_major": 2,
       "version_minor": 0
      },
      "text/plain": [
       "Batch 435/501:   0%|          | 0/100 [00:00<?, ?it/s]"
      ]
     },
     "metadata": {},
     "output_type": "display_data"
    },
    {
     "data": {
      "application/vnd.jupyter.widget-view+json": {
       "model_id": "801eb7b618c746fa8491bc2a18f910e8",
       "version_major": 2,
       "version_minor": 0
      },
      "text/plain": [
       "Batch 436/501:   0%|          | 0/100 [00:00<?, ?it/s]"
      ]
     },
     "metadata": {},
     "output_type": "display_data"
    },
    {
     "data": {
      "application/vnd.jupyter.widget-view+json": {
       "model_id": "12203ce249024f008c292c3701d3b120",
       "version_major": 2,
       "version_minor": 0
      },
      "text/plain": [
       "Batch 437/501:   0%|          | 0/100 [00:00<?, ?it/s]"
      ]
     },
     "metadata": {},
     "output_type": "display_data"
    },
    {
     "data": {
      "application/vnd.jupyter.widget-view+json": {
       "model_id": "c124ba4528934c7e926900ada5f43ff1",
       "version_major": 2,
       "version_minor": 0
      },
      "text/plain": [
       "Batch 438/501:   0%|          | 0/100 [00:00<?, ?it/s]"
      ]
     },
     "metadata": {},
     "output_type": "display_data"
    },
    {
     "data": {
      "application/vnd.jupyter.widget-view+json": {
       "model_id": "afc60b1bdf9a4b65a18439e49e0a11e6",
       "version_major": 2,
       "version_minor": 0
      },
      "text/plain": [
       "Batch 439/501:   0%|          | 0/100 [00:00<?, ?it/s]"
      ]
     },
     "metadata": {},
     "output_type": "display_data"
    },
    {
     "data": {
      "application/vnd.jupyter.widget-view+json": {
       "model_id": "c0413c85f9144e47b4a51d96abcb6e18",
       "version_major": 2,
       "version_minor": 0
      },
      "text/plain": [
       "Batch 440/501:   0%|          | 0/100 [00:00<?, ?it/s]"
      ]
     },
     "metadata": {},
     "output_type": "display_data"
    },
    {
     "data": {
      "application/vnd.jupyter.widget-view+json": {
       "model_id": "c6044997942c416fb0d5372eb4d60395",
       "version_major": 2,
       "version_minor": 0
      },
      "text/plain": [
       "Batch 441/501:   0%|          | 0/100 [00:00<?, ?it/s]"
      ]
     },
     "metadata": {},
     "output_type": "display_data"
    },
    {
     "data": {
      "application/vnd.jupyter.widget-view+json": {
       "model_id": "f4580b41fb8f4ff1825ce0a4fde4c951",
       "version_major": 2,
       "version_minor": 0
      },
      "text/plain": [
       "Batch 442/501:   0%|          | 0/100 [00:00<?, ?it/s]"
      ]
     },
     "metadata": {},
     "output_type": "display_data"
    },
    {
     "data": {
      "application/vnd.jupyter.widget-view+json": {
       "model_id": "dd4c6fc284de46a5928d7cdbc3708f00",
       "version_major": 2,
       "version_minor": 0
      },
      "text/plain": [
       "Batch 443/501:   0%|          | 0/100 [00:00<?, ?it/s]"
      ]
     },
     "metadata": {},
     "output_type": "display_data"
    },
    {
     "data": {
      "application/vnd.jupyter.widget-view+json": {
       "model_id": "71ebd360cae34e2aaad3885a7c1ba3b0",
       "version_major": 2,
       "version_minor": 0
      },
      "text/plain": [
       "Batch 444/501:   0%|          | 0/100 [00:00<?, ?it/s]"
      ]
     },
     "metadata": {},
     "output_type": "display_data"
    },
    {
     "data": {
      "application/vnd.jupyter.widget-view+json": {
       "model_id": "7b8d736f97eb477a977faec2621b5a1b",
       "version_major": 2,
       "version_minor": 0
      },
      "text/plain": [
       "Batch 445/501:   0%|          | 0/100 [00:00<?, ?it/s]"
      ]
     },
     "metadata": {},
     "output_type": "display_data"
    },
    {
     "data": {
      "application/vnd.jupyter.widget-view+json": {
       "model_id": "6dc2e2617eb34d118c537c79bdb18004",
       "version_major": 2,
       "version_minor": 0
      },
      "text/plain": [
       "Batch 446/501:   0%|          | 0/100 [00:00<?, ?it/s]"
      ]
     },
     "metadata": {},
     "output_type": "display_data"
    },
    {
     "data": {
      "application/vnd.jupyter.widget-view+json": {
       "model_id": "5693cceda50c403f85995d20ec49283c",
       "version_major": 2,
       "version_minor": 0
      },
      "text/plain": [
       "Batch 447/501:   0%|          | 0/100 [00:00<?, ?it/s]"
      ]
     },
     "metadata": {},
     "output_type": "display_data"
    },
    {
     "data": {
      "application/vnd.jupyter.widget-view+json": {
       "model_id": "74825bf7ef844730a3c8bdc12b08176e",
       "version_major": 2,
       "version_minor": 0
      },
      "text/plain": [
       "Batch 448/501:   0%|          | 0/100 [00:00<?, ?it/s]"
      ]
     },
     "metadata": {},
     "output_type": "display_data"
    },
    {
     "data": {
      "application/vnd.jupyter.widget-view+json": {
       "model_id": "9b7353d904df4ac3bf6f45bf88519cf3",
       "version_major": 2,
       "version_minor": 0
      },
      "text/plain": [
       "Batch 449/501:   0%|          | 0/100 [00:00<?, ?it/s]"
      ]
     },
     "metadata": {},
     "output_type": "display_data"
    },
    {
     "data": {
      "application/vnd.jupyter.widget-view+json": {
       "model_id": "58324c3a4ded4ea5b3f9d7481767f41f",
       "version_major": 2,
       "version_minor": 0
      },
      "text/plain": [
       "Batch 450/501:   0%|          | 0/100 [00:00<?, ?it/s]"
      ]
     },
     "metadata": {},
     "output_type": "display_data"
    },
    {
     "data": {
      "application/vnd.jupyter.widget-view+json": {
       "model_id": "6dd75e111bfb4af684165d2981b85256",
       "version_major": 2,
       "version_minor": 0
      },
      "text/plain": [
       "Batch 451/501:   0%|          | 0/100 [00:00<?, ?it/s]"
      ]
     },
     "metadata": {},
     "output_type": "display_data"
    },
    {
     "data": {
      "application/vnd.jupyter.widget-view+json": {
       "model_id": "3ec4a101d10942ef8ce0308428ec7786",
       "version_major": 2,
       "version_minor": 0
      },
      "text/plain": [
       "Batch 452/501:   0%|          | 0/100 [00:00<?, ?it/s]"
      ]
     },
     "metadata": {},
     "output_type": "display_data"
    },
    {
     "data": {
      "application/vnd.jupyter.widget-view+json": {
       "model_id": "aea6575e33e84281ac3ddf9c4219bf87",
       "version_major": 2,
       "version_minor": 0
      },
      "text/plain": [
       "Batch 453/501:   0%|          | 0/100 [00:00<?, ?it/s]"
      ]
     },
     "metadata": {},
     "output_type": "display_data"
    },
    {
     "data": {
      "application/vnd.jupyter.widget-view+json": {
       "model_id": "6b2330508fe44143918b912b662398ff",
       "version_major": 2,
       "version_minor": 0
      },
      "text/plain": [
       "Batch 454/501:   0%|          | 0/100 [00:00<?, ?it/s]"
      ]
     },
     "metadata": {},
     "output_type": "display_data"
    },
    {
     "data": {
      "application/vnd.jupyter.widget-view+json": {
       "model_id": "7b9ccf34578c40e097deae0de53cdeaa",
       "version_major": 2,
       "version_minor": 0
      },
      "text/plain": [
       "Batch 455/501:   0%|          | 0/100 [00:00<?, ?it/s]"
      ]
     },
     "metadata": {},
     "output_type": "display_data"
    },
    {
     "data": {
      "application/vnd.jupyter.widget-view+json": {
       "model_id": "5dc6697488bc49b8926b51f7aa9641d3",
       "version_major": 2,
       "version_minor": 0
      },
      "text/plain": [
       "Batch 456/501:   0%|          | 0/100 [00:00<?, ?it/s]"
      ]
     },
     "metadata": {},
     "output_type": "display_data"
    },
    {
     "data": {
      "application/vnd.jupyter.widget-view+json": {
       "model_id": "cd6d7285e39d4fe6b15d3169ca8da187",
       "version_major": 2,
       "version_minor": 0
      },
      "text/plain": [
       "Batch 457/501:   0%|          | 0/100 [00:00<?, ?it/s]"
      ]
     },
     "metadata": {},
     "output_type": "display_data"
    },
    {
     "data": {
      "application/vnd.jupyter.widget-view+json": {
       "model_id": "8337b933b64c4b4b8b6a47862cb1e0a4",
       "version_major": 2,
       "version_minor": 0
      },
      "text/plain": [
       "Batch 458/501:   0%|          | 0/100 [00:00<?, ?it/s]"
      ]
     },
     "metadata": {},
     "output_type": "display_data"
    },
    {
     "data": {
      "application/vnd.jupyter.widget-view+json": {
       "model_id": "33434d0a608e4df38ab201b20bfa6660",
       "version_major": 2,
       "version_minor": 0
      },
      "text/plain": [
       "Batch 459/501:   0%|          | 0/100 [00:00<?, ?it/s]"
      ]
     },
     "metadata": {},
     "output_type": "display_data"
    },
    {
     "data": {
      "application/vnd.jupyter.widget-view+json": {
       "model_id": "e2000a93391c40e8be21ce9e456fc83e",
       "version_major": 2,
       "version_minor": 0
      },
      "text/plain": [
       "Batch 460/501:   0%|          | 0/100 [00:00<?, ?it/s]"
      ]
     },
     "metadata": {},
     "output_type": "display_data"
    },
    {
     "data": {
      "application/vnd.jupyter.widget-view+json": {
       "model_id": "d9aaf0ed29db4a6fae2704ce44b39395",
       "version_major": 2,
       "version_minor": 0
      },
      "text/plain": [
       "Batch 461/501:   0%|          | 0/100 [00:00<?, ?it/s]"
      ]
     },
     "metadata": {},
     "output_type": "display_data"
    },
    {
     "data": {
      "application/vnd.jupyter.widget-view+json": {
       "model_id": "2e1d754353c140189987d04d932a0787",
       "version_major": 2,
       "version_minor": 0
      },
      "text/plain": [
       "Batch 462/501:   0%|          | 0/100 [00:00<?, ?it/s]"
      ]
     },
     "metadata": {},
     "output_type": "display_data"
    },
    {
     "data": {
      "application/vnd.jupyter.widget-view+json": {
       "model_id": "448885492e1d4d9da0702c7dd82949b5",
       "version_major": 2,
       "version_minor": 0
      },
      "text/plain": [
       "Batch 463/501:   0%|          | 0/100 [00:00<?, ?it/s]"
      ]
     },
     "metadata": {},
     "output_type": "display_data"
    },
    {
     "data": {
      "application/vnd.jupyter.widget-view+json": {
       "model_id": "a964ef55b971453fb8933e1c0f297204",
       "version_major": 2,
       "version_minor": 0
      },
      "text/plain": [
       "Batch 464/501:   0%|          | 0/100 [00:00<?, ?it/s]"
      ]
     },
     "metadata": {},
     "output_type": "display_data"
    },
    {
     "data": {
      "application/vnd.jupyter.widget-view+json": {
       "model_id": "48f0968aa233473a8ddb8e01dcf72b14",
       "version_major": 2,
       "version_minor": 0
      },
      "text/plain": [
       "Batch 465/501:   0%|          | 0/100 [00:00<?, ?it/s]"
      ]
     },
     "metadata": {},
     "output_type": "display_data"
    },
    {
     "data": {
      "application/vnd.jupyter.widget-view+json": {
       "model_id": "8c79e3c9527a40b893d6fbb918850962",
       "version_major": 2,
       "version_minor": 0
      },
      "text/plain": [
       "Batch 466/501:   0%|          | 0/100 [00:00<?, ?it/s]"
      ]
     },
     "metadata": {},
     "output_type": "display_data"
    },
    {
     "data": {
      "application/vnd.jupyter.widget-view+json": {
       "model_id": "166162f4e4ea44eaacd2c4d9f634d8e6",
       "version_major": 2,
       "version_minor": 0
      },
      "text/plain": [
       "Batch 467/501:   0%|          | 0/100 [00:00<?, ?it/s]"
      ]
     },
     "metadata": {},
     "output_type": "display_data"
    },
    {
     "data": {
      "application/vnd.jupyter.widget-view+json": {
       "model_id": "311a3a4a7379414daee0138ea4e998d3",
       "version_major": 2,
       "version_minor": 0
      },
      "text/plain": [
       "Batch 468/501:   0%|          | 0/100 [00:00<?, ?it/s]"
      ]
     },
     "metadata": {},
     "output_type": "display_data"
    },
    {
     "data": {
      "application/vnd.jupyter.widget-view+json": {
       "model_id": "0915a825ea07429f83398c1aaeab2921",
       "version_major": 2,
       "version_minor": 0
      },
      "text/plain": [
       "Batch 469/501:   0%|          | 0/100 [00:00<?, ?it/s]"
      ]
     },
     "metadata": {},
     "output_type": "display_data"
    },
    {
     "data": {
      "application/vnd.jupyter.widget-view+json": {
       "model_id": "8f4e70275c534f75baad70116d2b5060",
       "version_major": 2,
       "version_minor": 0
      },
      "text/plain": [
       "Batch 470/501:   0%|          | 0/100 [00:00<?, ?it/s]"
      ]
     },
     "metadata": {},
     "output_type": "display_data"
    },
    {
     "data": {
      "application/vnd.jupyter.widget-view+json": {
       "model_id": "4cd38843659f4f82ac6693be384584da",
       "version_major": 2,
       "version_minor": 0
      },
      "text/plain": [
       "Batch 471/501:   0%|          | 0/100 [00:00<?, ?it/s]"
      ]
     },
     "metadata": {},
     "output_type": "display_data"
    },
    {
     "data": {
      "application/vnd.jupyter.widget-view+json": {
       "model_id": "bba61003d60042d3b8cf3ca53528d0ee",
       "version_major": 2,
       "version_minor": 0
      },
      "text/plain": [
       "Batch 472/501:   0%|          | 0/100 [00:00<?, ?it/s]"
      ]
     },
     "metadata": {},
     "output_type": "display_data"
    },
    {
     "data": {
      "application/vnd.jupyter.widget-view+json": {
       "model_id": "e520d0448ba443bca69e5df20d116417",
       "version_major": 2,
       "version_minor": 0
      },
      "text/plain": [
       "Batch 473/501:   0%|          | 0/100 [00:00<?, ?it/s]"
      ]
     },
     "metadata": {},
     "output_type": "display_data"
    },
    {
     "data": {
      "application/vnd.jupyter.widget-view+json": {
       "model_id": "5bc4ebd6b5a1443ea724ca8492ec413c",
       "version_major": 2,
       "version_minor": 0
      },
      "text/plain": [
       "Batch 474/501:   0%|          | 0/100 [00:00<?, ?it/s]"
      ]
     },
     "metadata": {},
     "output_type": "display_data"
    },
    {
     "data": {
      "application/vnd.jupyter.widget-view+json": {
       "model_id": "64669a5100034484ada7d56b6d1e6607",
       "version_major": 2,
       "version_minor": 0
      },
      "text/plain": [
       "Batch 475/501:   0%|          | 0/100 [00:00<?, ?it/s]"
      ]
     },
     "metadata": {},
     "output_type": "display_data"
    },
    {
     "data": {
      "application/vnd.jupyter.widget-view+json": {
       "model_id": "7d7b9888ddf34ab1bbb5fa26be57b719",
       "version_major": 2,
       "version_minor": 0
      },
      "text/plain": [
       "Batch 476/501:   0%|          | 0/100 [00:00<?, ?it/s]"
      ]
     },
     "metadata": {},
     "output_type": "display_data"
    },
    {
     "data": {
      "application/vnd.jupyter.widget-view+json": {
       "model_id": "96fa9fb1fbee4d9bbf055c590c61cf8d",
       "version_major": 2,
       "version_minor": 0
      },
      "text/plain": [
       "Batch 477/501:   0%|          | 0/100 [00:00<?, ?it/s]"
      ]
     },
     "metadata": {},
     "output_type": "display_data"
    },
    {
     "data": {
      "application/vnd.jupyter.widget-view+json": {
       "model_id": "eebf79455ac8480a82bf544e8119c453",
       "version_major": 2,
       "version_minor": 0
      },
      "text/plain": [
       "Batch 478/501:   0%|          | 0/100 [00:00<?, ?it/s]"
      ]
     },
     "metadata": {},
     "output_type": "display_data"
    },
    {
     "data": {
      "application/vnd.jupyter.widget-view+json": {
       "model_id": "2918de417b0a49b196057436da5f3b6c",
       "version_major": 2,
       "version_minor": 0
      },
      "text/plain": [
       "Batch 479/501:   0%|          | 0/100 [00:00<?, ?it/s]"
      ]
     },
     "metadata": {},
     "output_type": "display_data"
    },
    {
     "data": {
      "application/vnd.jupyter.widget-view+json": {
       "model_id": "06cee4d61916457faa3aa50ba08ba18b",
       "version_major": 2,
       "version_minor": 0
      },
      "text/plain": [
       "Batch 480/501:   0%|          | 0/100 [00:00<?, ?it/s]"
      ]
     },
     "metadata": {},
     "output_type": "display_data"
    },
    {
     "data": {
      "application/vnd.jupyter.widget-view+json": {
       "model_id": "479bffb8a92e4b6e85befadb27087e46",
       "version_major": 2,
       "version_minor": 0
      },
      "text/plain": [
       "Batch 481/501:   0%|          | 0/100 [00:00<?, ?it/s]"
      ]
     },
     "metadata": {},
     "output_type": "display_data"
    },
    {
     "data": {
      "application/vnd.jupyter.widget-view+json": {
       "model_id": "089a9266e74d4fcea940c447fc376399",
       "version_major": 2,
       "version_minor": 0
      },
      "text/plain": [
       "Batch 482/501:   0%|          | 0/100 [00:00<?, ?it/s]"
      ]
     },
     "metadata": {},
     "output_type": "display_data"
    },
    {
     "data": {
      "application/vnd.jupyter.widget-view+json": {
       "model_id": "11a3a12a1fd74e129942f0a3a3d34e17",
       "version_major": 2,
       "version_minor": 0
      },
      "text/plain": [
       "Batch 483/501:   0%|          | 0/100 [00:00<?, ?it/s]"
      ]
     },
     "metadata": {},
     "output_type": "display_data"
    },
    {
     "data": {
      "application/vnd.jupyter.widget-view+json": {
       "model_id": "882356d5927b42e9a619b2f0e291da15",
       "version_major": 2,
       "version_minor": 0
      },
      "text/plain": [
       "Batch 484/501:   0%|          | 0/100 [00:00<?, ?it/s]"
      ]
     },
     "metadata": {},
     "output_type": "display_data"
    },
    {
     "data": {
      "application/vnd.jupyter.widget-view+json": {
       "model_id": "b20c6c81a14d451980824e4cffd7da08",
       "version_major": 2,
       "version_minor": 0
      },
      "text/plain": [
       "Batch 485/501:   0%|          | 0/100 [00:00<?, ?it/s]"
      ]
     },
     "metadata": {},
     "output_type": "display_data"
    },
    {
     "data": {
      "application/vnd.jupyter.widget-view+json": {
       "model_id": "25a7fb96b7404a038b783cb20d1bf831",
       "version_major": 2,
       "version_minor": 0
      },
      "text/plain": [
       "Batch 486/501:   0%|          | 0/100 [00:00<?, ?it/s]"
      ]
     },
     "metadata": {},
     "output_type": "display_data"
    },
    {
     "data": {
      "application/vnd.jupyter.widget-view+json": {
       "model_id": "df7c38ae87b142889d42dc4b2f874163",
       "version_major": 2,
       "version_minor": 0
      },
      "text/plain": [
       "Batch 487/501:   0%|          | 0/100 [00:00<?, ?it/s]"
      ]
     },
     "metadata": {},
     "output_type": "display_data"
    },
    {
     "data": {
      "application/vnd.jupyter.widget-view+json": {
       "model_id": "c45915b9c6e64857abf6b2476ed78162",
       "version_major": 2,
       "version_minor": 0
      },
      "text/plain": [
       "Batch 488/501:   0%|          | 0/100 [00:00<?, ?it/s]"
      ]
     },
     "metadata": {},
     "output_type": "display_data"
    },
    {
     "data": {
      "application/vnd.jupyter.widget-view+json": {
       "model_id": "133f890ec6004f00aabf4ce8ef509562",
       "version_major": 2,
       "version_minor": 0
      },
      "text/plain": [
       "Batch 489/501:   0%|          | 0/100 [00:00<?, ?it/s]"
      ]
     },
     "metadata": {},
     "output_type": "display_data"
    },
    {
     "data": {
      "application/vnd.jupyter.widget-view+json": {
       "model_id": "cc5847f798134c0b94bb5df8deec1c6a",
       "version_major": 2,
       "version_minor": 0
      },
      "text/plain": [
       "Batch 490/501:   0%|          | 0/100 [00:00<?, ?it/s]"
      ]
     },
     "metadata": {},
     "output_type": "display_data"
    },
    {
     "data": {
      "application/vnd.jupyter.widget-view+json": {
       "model_id": "37396f4bcdc14e728d0608eff704e792",
       "version_major": 2,
       "version_minor": 0
      },
      "text/plain": [
       "Batch 491/501:   0%|          | 0/100 [00:00<?, ?it/s]"
      ]
     },
     "metadata": {},
     "output_type": "display_data"
    },
    {
     "data": {
      "application/vnd.jupyter.widget-view+json": {
       "model_id": "34ded8097ea54534aa7de1e0bb51f10b",
       "version_major": 2,
       "version_minor": 0
      },
      "text/plain": [
       "Batch 492/501:   0%|          | 0/100 [00:00<?, ?it/s]"
      ]
     },
     "metadata": {},
     "output_type": "display_data"
    },
    {
     "data": {
      "application/vnd.jupyter.widget-view+json": {
       "model_id": "bdfae11238ba4c9aa062a6241993eb84",
       "version_major": 2,
       "version_minor": 0
      },
      "text/plain": [
       "Batch 493/501:   0%|          | 0/100 [00:00<?, ?it/s]"
      ]
     },
     "metadata": {},
     "output_type": "display_data"
    },
    {
     "data": {
      "application/vnd.jupyter.widget-view+json": {
       "model_id": "b47c29045bed403d999a72d95d3378d8",
       "version_major": 2,
       "version_minor": 0
      },
      "text/plain": [
       "Batch 494/501:   0%|          | 0/100 [00:00<?, ?it/s]"
      ]
     },
     "metadata": {},
     "output_type": "display_data"
    },
    {
     "data": {
      "application/vnd.jupyter.widget-view+json": {
       "model_id": "dcabb04d68f6495583393ee258a05feb",
       "version_major": 2,
       "version_minor": 0
      },
      "text/plain": [
       "Batch 495/501:   0%|          | 0/100 [00:00<?, ?it/s]"
      ]
     },
     "metadata": {},
     "output_type": "display_data"
    },
    {
     "data": {
      "application/vnd.jupyter.widget-view+json": {
       "model_id": "7095f82428204e528eb6d471ceab6715",
       "version_major": 2,
       "version_minor": 0
      },
      "text/plain": [
       "Batch 496/501:   0%|          | 0/100 [00:00<?, ?it/s]"
      ]
     },
     "metadata": {},
     "output_type": "display_data"
    },
    {
     "data": {
      "application/vnd.jupyter.widget-view+json": {
       "model_id": "88cbc5a3ca49420e9875b28acda90c51",
       "version_major": 2,
       "version_minor": 0
      },
      "text/plain": [
       "Batch 497/501:   0%|          | 0/100 [00:00<?, ?it/s]"
      ]
     },
     "metadata": {},
     "output_type": "display_data"
    },
    {
     "data": {
      "application/vnd.jupyter.widget-view+json": {
       "model_id": "c00464a50c2a41d8b8a97aa24170f492",
       "version_major": 2,
       "version_minor": 0
      },
      "text/plain": [
       "Batch 498/501:   0%|          | 0/100 [00:00<?, ?it/s]"
      ]
     },
     "metadata": {},
     "output_type": "display_data"
    },
    {
     "data": {
      "application/vnd.jupyter.widget-view+json": {
       "model_id": "8d3691221fc04a48a0276f835bbfb5f3",
       "version_major": 2,
       "version_minor": 0
      },
      "text/plain": [
       "Batch 499/501:   0%|          | 0/100 [00:00<?, ?it/s]"
      ]
     },
     "metadata": {},
     "output_type": "display_data"
    },
    {
     "data": {
      "application/vnd.jupyter.widget-view+json": {
       "model_id": "e98593c8b20746968286019727c86176",
       "version_major": 2,
       "version_minor": 0
      },
      "text/plain": [
       "Batch 500/501:   0%|          | 0/100 [00:00<?, ?it/s]"
      ]
     },
     "metadata": {},
     "output_type": "display_data"
    },
    {
     "data": {
      "application/vnd.jupyter.widget-view+json": {
       "model_id": "732c0b7947ce4daf8bc711173a2e29e7",
       "version_major": 2,
       "version_minor": 0
      },
      "text/plain": [
       "Batch 501/501:   0%|          | 0/95 [00:00<?, ?it/s]"
      ]
     },
     "metadata": {},
     "output_type": "display_data"
    },
    {
     "name": "stdout",
     "output_type": "stream",
     "text": [
      "Euklidische Distanzmatrix ohne Koordinaten gespeichert!\n"
     ]
    }
   ],
   "source": [
    "import numpy as np  # Numerische Berechnungen und Arrays\n",
    "import pandas as pd  # Datenverarbeitung und Tabellenmanipulation\n",
    "from scipy.spatial.distance import euclidean  # Berechnung der euklidischen Distanz\n",
    "from joblib import Parallel, delayed  # Parallelisierung für schnellere Berechnungen\n",
    "from tqdm.notebook import tqdm  # Fortschrittsbalken \n",
    "\n",
    "# Funktion zur Berechnung der euklidischen Distanzen für einen Punkt i\n",
    "def compute_euclidean_distances(i, data):\n",
    "    distances = [euclidean(data[i], data[j]) for j in range(len(data))]\n",
    "    return distances\n",
    "\n",
    "# Lade die transformierten Daten\n",
    "df_encoded = pd.read_csv(\"dbscan_encoded_data.csv\")\n",
    "\n",
    "# Koordinaten-Variablen ausschließen\n",
    "coordinate_vars = ['XGCSWGS84', 'YGCSWGS84'] \n",
    "df_non_geo = df_encoded.drop(columns=coordinate_vars, errors='ignore').values  # Nur Nicht-Koordinaten behalten\n",
    "\n",
    "batch_size = 100\n",
    "num_batches = (len(df_non_geo) // batch_size) + 1\n",
    "\n",
    "# Berechnung der euklidischen Distanzen in Batches\n",
    "for batch in range(num_batches):\n",
    "    start_idx = batch * batch_size\n",
    "    end_idx = min((batch + 1) * batch_size, len(df_non_geo))\n",
    "\n",
    "    with tqdm(total=(end_idx - start_idx), desc=f\"Batch {batch+1}/{num_batches}\") as pbar:\n",
    "        batch_dist_matrix = Parallel(n_jobs=-1)(\n",
    "            delayed(compute_euclidean_distances)(i, df_non_geo)  # Berechne nur für die restlichen Variablen\n",
    "            for i in range(start_idx, end_idx)\n",
    "        )\n",
    "        pbar.update(end_idx - start_idx)\n",
    "\n",
    "    batch_dist_matrix = np.array(batch_dist_matrix)\n",
    "    np.save(f\"euklid_batch_{batch}.npy\", batch_dist_matrix)\n",
    "\n",
    "print(\"Euklidische Distanzmatrix ohne Koordinaten gespeichert!\")\n"
   ]
  },
  {
   "cell_type": "code",
   "execution_count": null,
   "id": "d56f4fad-b22f-4ecb-92ed-3c767b4e7f39",
   "metadata": {},
   "outputs": [],
   "source": []
  }
 ],
 "metadata": {
  "kernelspec": {
   "display_name": "Python 3 (ipykernel)",
   "language": "python",
   "name": "python3"
  },
  "language_info": {
   "codemirror_mode": {
    "name": "ipython",
    "version": 3
   },
   "file_extension": ".py",
   "mimetype": "text/x-python",
   "name": "python",
   "nbconvert_exporter": "python",
   "pygments_lexer": "ipython3",
   "version": "3.8.10"
  }
 },
 "nbformat": 4,
 "nbformat_minor": 5
}
